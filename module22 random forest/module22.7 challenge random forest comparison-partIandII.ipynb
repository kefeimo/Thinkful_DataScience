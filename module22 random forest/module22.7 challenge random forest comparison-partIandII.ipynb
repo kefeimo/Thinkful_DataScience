{
 "cells": [
  {
   "cell_type": "markdown",
   "metadata": {},
   "source": [
    "# Procedure (*** means demonstrated)\n",
    "1. Data exploration & visualization ***\n",
    "2. Holdout (splitting data) ***\n",
    "3. SelectKbest ***\n",
    "     - gridsearchCV ***\n",
    "     - Decision tree model\n",
    "         + Cross validation\n",
    "         + Confusion matrix\n",
    "         + Classification_report\n",
    "     - Random forest model ***\n",
    "         + Cross validation (not sure)\n",
    "         + Confusion matrix ***\n",
    "         + Classification_report ***\n",
    "4. PCA\n",
    "     - gridsearchCV\n",
    "     - Decision tree model\n",
    "         + Cross validation\n",
    "         + Confusion matrix\n",
    "         + Classification_report\n",
    "     - Random forest model\n",
    "         + Cross validation\n",
    "         + Confusion matrix\n",
    "         + Classification_report\n",
    "5. Do the write-up analysis and conclusions, make sure that you include time execution for the models.)"
   ]
  },
  {
   "cell_type": "markdown",
   "metadata": {},
   "source": [
    "ref:\n",
    "https://towardsdatascience.com/hyperparameter-tuning-the-random-forest-in-python-using-scikit-learn-28d2aa77dd74"
   ]
  },
  {
   "cell_type": "markdown",
   "metadata": {},
   "source": [
    "# Part I\n",
    "selectKbest, Randomforest"
   ]
  },
  {
   "cell_type": "markdown",
   "metadata": {},
   "source": [
    "### 0. Load data"
   ]
  },
  {
   "cell_type": "code",
   "execution_count": 218,
   "metadata": {
    "run_control": {
     "frozen": false,
     "read_only": false
    }
   },
   "outputs": [],
   "source": [
    "import pandas as pd\n",
    "import numpy as np\n",
    "import matplotlib.pyplot as plt\n",
    "%matplotlib inline"
   ]
  },
  {
   "cell_type": "markdown",
   "metadata": {
    "run_control": {
     "frozen": false,
     "read_only": false
    }
   },
   "source": [
    "Here we'll use data from Lending Club (2015) to predict the state of a loan given some information about it. You can download the dataset [here](https://www.dropbox.com/s/0so14yudedjmm5m/LoanStats3d.csv?dl=1)"
   ]
  },
  {
   "cell_type": "code",
   "execution_count": 219,
   "metadata": {
    "run_control": {
     "frozen": false,
     "read_only": false
    }
   },
   "outputs": [
    {
     "name": "stderr",
     "output_type": "stream",
     "text": [
      "C:\\Users\\kefei\\Anaconda3\\lib\\site-packages\\IPython\\core\\interactiveshell.py:3063: DtypeWarning: Columns (0,19,55) have mixed types.Specify dtype option on import or set low_memory=False.\n",
      "  interactivity=interactivity, compiler=compiler, result=result)\n"
     ]
    }
   ],
   "source": [
    "# Replace the path with the correct path for your data.\n",
    "y2015 = pd.read_csv(\n",
    "#     'https://www.dropbox.com/s/0so14yudedjmm5m/LoanStats3d.csv?dl=1',\n",
    "    './LoanStats3d.csv',\n",
    "    skipinitialspace=True,\n",
    "    header=1\n",
    ")\n",
    "\n",
    "# Note the warning about dtypes."
   ]
  },
  {
   "cell_type": "code",
   "execution_count": 220,
   "metadata": {},
   "outputs": [
    {
     "data": {
      "text/html": [
       "<div>\n",
       "<style scoped>\n",
       "    .dataframe tbody tr th:only-of-type {\n",
       "        vertical-align: middle;\n",
       "    }\n",
       "\n",
       "    .dataframe tbody tr th {\n",
       "        vertical-align: top;\n",
       "    }\n",
       "\n",
       "    .dataframe thead th {\n",
       "        text-align: right;\n",
       "    }\n",
       "</style>\n",
       "<table border=\"1\" class=\"dataframe\">\n",
       "  <thead>\n",
       "    <tr style=\"text-align: right;\">\n",
       "      <th></th>\n",
       "      <th>id</th>\n",
       "      <th>member_id</th>\n",
       "      <th>loan_amnt</th>\n",
       "      <th>funded_amnt</th>\n",
       "      <th>funded_amnt_inv</th>\n",
       "      <th>term</th>\n",
       "      <th>int_rate</th>\n",
       "      <th>installment</th>\n",
       "      <th>grade</th>\n",
       "      <th>sub_grade</th>\n",
       "      <th>...</th>\n",
       "      <th>num_tl_90g_dpd_24m</th>\n",
       "      <th>num_tl_op_past_12m</th>\n",
       "      <th>pct_tl_nvr_dlq</th>\n",
       "      <th>percent_bc_gt_75</th>\n",
       "      <th>pub_rec_bankruptcies</th>\n",
       "      <th>tax_liens</th>\n",
       "      <th>tot_hi_cred_lim</th>\n",
       "      <th>total_bal_ex_mort</th>\n",
       "      <th>total_bc_limit</th>\n",
       "      <th>total_il_high_credit_limit</th>\n",
       "    </tr>\n",
       "  </thead>\n",
       "  <tbody>\n",
       "    <tr>\n",
       "      <th>0</th>\n",
       "      <td>68009401</td>\n",
       "      <td>72868139.0</td>\n",
       "      <td>16000.0</td>\n",
       "      <td>16000.0</td>\n",
       "      <td>16000.0</td>\n",
       "      <td>60 months</td>\n",
       "      <td>14.85%</td>\n",
       "      <td>379.39</td>\n",
       "      <td>C</td>\n",
       "      <td>C5</td>\n",
       "      <td>...</td>\n",
       "      <td>0.0</td>\n",
       "      <td>2.0</td>\n",
       "      <td>78.9</td>\n",
       "      <td>0.0</td>\n",
       "      <td>0.0</td>\n",
       "      <td>2.0</td>\n",
       "      <td>298100.0</td>\n",
       "      <td>31329.0</td>\n",
       "      <td>281300.0</td>\n",
       "      <td>13400.0</td>\n",
       "    </tr>\n",
       "    <tr>\n",
       "      <th>1</th>\n",
       "      <td>68354783</td>\n",
       "      <td>73244544.0</td>\n",
       "      <td>9600.0</td>\n",
       "      <td>9600.0</td>\n",
       "      <td>9600.0</td>\n",
       "      <td>36 months</td>\n",
       "      <td>7.49%</td>\n",
       "      <td>298.58</td>\n",
       "      <td>A</td>\n",
       "      <td>A4</td>\n",
       "      <td>...</td>\n",
       "      <td>0.0</td>\n",
       "      <td>2.0</td>\n",
       "      <td>100.0</td>\n",
       "      <td>66.7</td>\n",
       "      <td>0.0</td>\n",
       "      <td>0.0</td>\n",
       "      <td>88635.0</td>\n",
       "      <td>55387.0</td>\n",
       "      <td>12500.0</td>\n",
       "      <td>75635.0</td>\n",
       "    </tr>\n",
       "    <tr>\n",
       "      <th>2</th>\n",
       "      <td>68466916</td>\n",
       "      <td>73356753.0</td>\n",
       "      <td>25000.0</td>\n",
       "      <td>25000.0</td>\n",
       "      <td>25000.0</td>\n",
       "      <td>36 months</td>\n",
       "      <td>7.49%</td>\n",
       "      <td>777.55</td>\n",
       "      <td>A</td>\n",
       "      <td>A4</td>\n",
       "      <td>...</td>\n",
       "      <td>0.0</td>\n",
       "      <td>0.0</td>\n",
       "      <td>100.0</td>\n",
       "      <td>20.0</td>\n",
       "      <td>0.0</td>\n",
       "      <td>0.0</td>\n",
       "      <td>373572.0</td>\n",
       "      <td>68056.0</td>\n",
       "      <td>38400.0</td>\n",
       "      <td>82117.0</td>\n",
       "    </tr>\n",
       "    <tr>\n",
       "      <th>3</th>\n",
       "      <td>68466961</td>\n",
       "      <td>73356799.0</td>\n",
       "      <td>28000.0</td>\n",
       "      <td>28000.0</td>\n",
       "      <td>28000.0</td>\n",
       "      <td>36 months</td>\n",
       "      <td>6.49%</td>\n",
       "      <td>858.05</td>\n",
       "      <td>A</td>\n",
       "      <td>A2</td>\n",
       "      <td>...</td>\n",
       "      <td>0.0</td>\n",
       "      <td>0.0</td>\n",
       "      <td>91.7</td>\n",
       "      <td>22.2</td>\n",
       "      <td>0.0</td>\n",
       "      <td>0.0</td>\n",
       "      <td>304003.0</td>\n",
       "      <td>74920.0</td>\n",
       "      <td>41500.0</td>\n",
       "      <td>42503.0</td>\n",
       "    </tr>\n",
       "    <tr>\n",
       "      <th>4</th>\n",
       "      <td>68495092</td>\n",
       "      <td>73384866.0</td>\n",
       "      <td>8650.0</td>\n",
       "      <td>8650.0</td>\n",
       "      <td>8650.0</td>\n",
       "      <td>36 months</td>\n",
       "      <td>19.89%</td>\n",
       "      <td>320.99</td>\n",
       "      <td>E</td>\n",
       "      <td>E3</td>\n",
       "      <td>...</td>\n",
       "      <td>0.0</td>\n",
       "      <td>12.0</td>\n",
       "      <td>100.0</td>\n",
       "      <td>50.0</td>\n",
       "      <td>1.0</td>\n",
       "      <td>0.0</td>\n",
       "      <td>38998.0</td>\n",
       "      <td>18926.0</td>\n",
       "      <td>2750.0</td>\n",
       "      <td>18248.0</td>\n",
       "    </tr>\n",
       "  </tbody>\n",
       "</table>\n",
       "<p>5 rows × 111 columns</p>\n",
       "</div>"
      ],
      "text/plain": [
       "         id   member_id  loan_amnt  funded_amnt  funded_amnt_inv        term  \\\n",
       "0  68009401  72868139.0    16000.0      16000.0          16000.0   60 months   \n",
       "1  68354783  73244544.0     9600.0       9600.0           9600.0   36 months   \n",
       "2  68466916  73356753.0    25000.0      25000.0          25000.0   36 months   \n",
       "3  68466961  73356799.0    28000.0      28000.0          28000.0   36 months   \n",
       "4  68495092  73384866.0     8650.0       8650.0           8650.0   36 months   \n",
       "\n",
       "  int_rate  installment grade sub_grade  ... num_tl_90g_dpd_24m  \\\n",
       "0   14.85%       379.39     C        C5  ...                0.0   \n",
       "1    7.49%       298.58     A        A4  ...                0.0   \n",
       "2    7.49%       777.55     A        A4  ...                0.0   \n",
       "3    6.49%       858.05     A        A2  ...                0.0   \n",
       "4   19.89%       320.99     E        E3  ...                0.0   \n",
       "\n",
       "  num_tl_op_past_12m pct_tl_nvr_dlq  percent_bc_gt_75 pub_rec_bankruptcies  \\\n",
       "0                2.0           78.9               0.0                  0.0   \n",
       "1                2.0          100.0              66.7                  0.0   \n",
       "2                0.0          100.0              20.0                  0.0   \n",
       "3                0.0           91.7              22.2                  0.0   \n",
       "4               12.0          100.0              50.0                  1.0   \n",
       "\n",
       "  tax_liens tot_hi_cred_lim total_bal_ex_mort total_bc_limit  \\\n",
       "0       2.0        298100.0           31329.0       281300.0   \n",
       "1       0.0         88635.0           55387.0        12500.0   \n",
       "2       0.0        373572.0           68056.0        38400.0   \n",
       "3       0.0        304003.0           74920.0        41500.0   \n",
       "4       0.0         38998.0           18926.0         2750.0   \n",
       "\n",
       "  total_il_high_credit_limit  \n",
       "0                    13400.0  \n",
       "1                    75635.0  \n",
       "2                    82117.0  \n",
       "3                    42503.0  \n",
       "4                    18248.0  \n",
       "\n",
       "[5 rows x 111 columns]"
      ]
     },
     "execution_count": 220,
     "metadata": {},
     "output_type": "execute_result"
    }
   ],
   "source": [
    "y2015.head()"
   ]
  },
  {
   "cell_type": "markdown",
   "metadata": {},
   "source": [
    "### 1. EDA\n",
    "##### data cleaning\n",
    "- This dataset has 100+ non-null columns, 400,000+ non-null records. \n",
    "- For the first atempt, we can just drop all the columns with null values, instead of imputation.\n",
    "- Note that, the afformentioned strategy is for numerical features; for categorical features, the null values can be handeled by using one-hot-encoding.\n",
    "- Also note that, in order to make the training set and test set have same features, we will first split the data into training set and test set, then perform one-hot-encoding and dropna.\n",
    "#### data exploration\n",
    "- The target is categorical, we are working on classification problem. So, we use bar plot to show the number of each categories. (It might raise some concern if the number of each categories are too unbalanced)\n",
    "- For each feature, since there are too many, it is very hard to plot them all or analyze individual feature. Later on we will use SelectKbest method for feature engineering."
   ]
  },
  {
   "cell_type": "code",
   "execution_count": 221,
   "metadata": {},
   "outputs": [
    {
     "name": "stdout",
     "output_type": "stream",
     "text": [
      "<class 'pandas.core.frame.DataFrame'>\n",
      "RangeIndex: 421097 entries, 0 to 421096\n",
      "Data columns (total 26 columns):\n",
      " #   Column                     Non-Null Count   Dtype \n",
      "---  ------                     --------------   ----- \n",
      " 0   id                         421097 non-null  object\n",
      " 1   term                       421095 non-null  object\n",
      " 2   int_rate                   421095 non-null  object\n",
      " 3   grade                      421095 non-null  object\n",
      " 4   sub_grade                  421095 non-null  object\n",
      " 5   emp_title                  397221 non-null  object\n",
      " 6   emp_length                 397278 non-null  object\n",
      " 7   home_ownership             421095 non-null  object\n",
      " 8   verification_status        421095 non-null  object\n",
      " 9   issue_d                    421095 non-null  object\n",
      " 10  loan_status                421095 non-null  object\n",
      " 11  pymnt_plan                 421095 non-null  object\n",
      " 12  url                        421095 non-null  object\n",
      " 13  desc                       45 non-null      object\n",
      " 14  purpose                    421095 non-null  object\n",
      " 15  title                      420963 non-null  object\n",
      " 16  zip_code                   421095 non-null  object\n",
      " 17  addr_state                 421095 non-null  object\n",
      " 18  earliest_cr_line           421095 non-null  object\n",
      " 19  revol_util                 420933 non-null  object\n",
      " 20  initial_list_status        421095 non-null  object\n",
      " 21  last_pymnt_d               420801 non-null  object\n",
      " 22  next_pymnt_d               303928 non-null  object\n",
      " 23  last_credit_pull_d         421087 non-null  object\n",
      " 24  application_type           421095 non-null  object\n",
      " 25  verification_status_joint  511 non-null     object\n",
      "dtypes: object(26)\n",
      "memory usage: 83.5+ MB\n",
      "None\n",
      "<class 'pandas.core.frame.DataFrame'>\n",
      "RangeIndex: 421097 entries, 0 to 421096\n",
      "Data columns (total 85 columns):\n",
      " #   Column                          Non-Null Count   Dtype  \n",
      "---  ------                          --------------   -----  \n",
      " 0   member_id                       421095 non-null  float64\n",
      " 1   loan_amnt                       421095 non-null  float64\n",
      " 2   funded_amnt                     421095 non-null  float64\n",
      " 3   funded_amnt_inv                 421095 non-null  float64\n",
      " 4   installment                     421095 non-null  float64\n",
      " 5   annual_inc                      421095 non-null  float64\n",
      " 6   dti                             421095 non-null  float64\n",
      " 7   delinq_2yrs                     421095 non-null  float64\n",
      " 8   inq_last_6mths                  421095 non-null  float64\n",
      " 9   mths_since_last_delinq          217133 non-null  float64\n",
      " 10  mths_since_last_record          74415 non-null   float64\n",
      " 11  open_acc                        421095 non-null  float64\n",
      " 12  pub_rec                         421095 non-null  float64\n",
      " 13  revol_bal                       421095 non-null  float64\n",
      " 14  total_acc                       421095 non-null  float64\n",
      " 15  out_prncp                       421095 non-null  float64\n",
      " 16  out_prncp_inv                   421095 non-null  float64\n",
      " 17  total_pymnt                     421095 non-null  float64\n",
      " 18  total_pymnt_inv                 421095 non-null  float64\n",
      " 19  total_rec_prncp                 421095 non-null  float64\n",
      " 20  total_rec_int                   421095 non-null  float64\n",
      " 21  total_rec_late_fee              421095 non-null  float64\n",
      " 22  recoveries                      421095 non-null  float64\n",
      " 23  collection_recovery_fee         421095 non-null  float64\n",
      " 24  last_pymnt_amnt                 421095 non-null  float64\n",
      " 25  collections_12_mths_ex_med      421095 non-null  float64\n",
      " 26  mths_since_last_major_derog     122729 non-null  float64\n",
      " 27  policy_code                     421095 non-null  float64\n",
      " 28  annual_inc_joint                511 non-null     float64\n",
      " 29  dti_joint                       509 non-null     float64\n",
      " 30  acc_now_delinq                  421095 non-null  float64\n",
      " 31  tot_coll_amt                    421095 non-null  float64\n",
      " 32  tot_cur_bal                     421095 non-null  float64\n",
      " 33  open_acc_6m                     21372 non-null   float64\n",
      " 34  open_il_6m                      21372 non-null   float64\n",
      " 35  open_il_12m                     21372 non-null   float64\n",
      " 36  open_il_24m                     21372 non-null   float64\n",
      " 37  mths_since_rcnt_il              20810 non-null   float64\n",
      " 38  total_bal_il                    21372 non-null   float64\n",
      " 39  il_util                         18617 non-null   float64\n",
      " 40  open_rv_12m                     21372 non-null   float64\n",
      " 41  open_rv_24m                     21372 non-null   float64\n",
      " 42  max_bal_bc                      21372 non-null   float64\n",
      " 43  all_util                        21372 non-null   float64\n",
      " 44  total_rev_hi_lim                421095 non-null  float64\n",
      " 45  inq_fi                          21372 non-null   float64\n",
      " 46  total_cu_tl                     21372 non-null   float64\n",
      " 47  inq_last_12m                    21372 non-null   float64\n",
      " 48  acc_open_past_24mths            421095 non-null  float64\n",
      " 49  avg_cur_bal                     421095 non-null  float64\n",
      " 50  bc_open_to_buy                  417132 non-null  float64\n",
      " 51  bc_util                         416868 non-null  float64\n",
      " 52  chargeoff_within_12_mths        421095 non-null  float64\n",
      " 53  delinq_amnt                     421095 non-null  float64\n",
      " 54  mo_sin_old_il_acct              408841 non-null  float64\n",
      " 55  mo_sin_old_rev_tl_op            421095 non-null  float64\n",
      " 56  mo_sin_rcnt_rev_tl_op           421095 non-null  float64\n",
      " 57  mo_sin_rcnt_tl                  421095 non-null  float64\n",
      " 58  mort_acc                        421095 non-null  float64\n",
      " 59  mths_since_recent_bc            417297 non-null  float64\n",
      " 60  mths_since_recent_bc_dlq        108600 non-null  float64\n",
      " 61  mths_since_recent_inq           376496 non-null  float64\n",
      " 62  mths_since_recent_revol_delinq  151737 non-null  float64\n",
      " 63  num_accts_ever_120_pd           421095 non-null  float64\n",
      " 64  num_actv_bc_tl                  421095 non-null  float64\n",
      " 65  num_actv_rev_tl                 421095 non-null  float64\n",
      " 66  num_bc_sats                     421095 non-null  float64\n",
      " 67  num_bc_tl                       421095 non-null  float64\n",
      " 68  num_il_tl                       421095 non-null  float64\n",
      " 69  num_op_rev_tl                   421095 non-null  float64\n",
      " 70  num_rev_accts                   421094 non-null  float64\n",
      " 71  num_rev_tl_bal_gt_0             421095 non-null  float64\n",
      " 72  num_sats                        421095 non-null  float64\n",
      " 73  num_tl_120dpd_2m                401865 non-null  float64\n",
      " 74  num_tl_30dpd                    421095 non-null  float64\n",
      " 75  num_tl_90g_dpd_24m              421095 non-null  float64\n",
      " 76  num_tl_op_past_12m              421095 non-null  float64\n",
      " 77  pct_tl_nvr_dlq                  421095 non-null  float64\n",
      " 78  percent_bc_gt_75                416856 non-null  float64\n",
      " 79  pub_rec_bankruptcies            421095 non-null  float64\n",
      " 80  tax_liens                       421095 non-null  float64\n",
      " 81  tot_hi_cred_lim                 421095 non-null  float64\n",
      " 82  total_bal_ex_mort               421095 non-null  float64\n",
      " 83  total_bc_limit                  421095 non-null  float64\n",
      " 84  total_il_high_credit_limit      421095 non-null  float64\n",
      "dtypes: float64(85)\n",
      "memory usage: 273.1 MB\n",
      "None\n"
     ]
    }
   ],
   "source": [
    "# 'object' type data info\n",
    "df_object = y2015.select_dtypes(include=['object'])\n",
    "print(df_object.info())\n",
    "\n",
    "# 'float' type data info\n",
    "df_float = y2015.select_dtypes(include=['float'])\n",
    "print(df_float.info())"
   ]
  },
  {
   "cell_type": "markdown",
   "metadata": {},
   "source": [
    "#### The dataset is kind of big for training, especially for gridsearchCV. For practice purpose, we will cut the data into 10,000 records. "
   ]
  },
  {
   "cell_type": "code",
   "execution_count": 222,
   "metadata": {},
   "outputs": [
    {
     "name": "stdout",
     "output_type": "stream",
     "text": [
      "<class 'pandas.core.frame.DataFrame'>\n",
      "RangeIndex: 10001 entries, 0 to 10000\n",
      "Columns: 111 entries, id to total_il_high_credit_limit\n",
      "dtypes: float64(85), object(26)\n",
      "memory usage: 8.5+ MB\n"
     ]
    }
   ],
   "source": [
    "# cut the data to the first 10,000 records\n",
    "y2015 = y2015[:10001]\n",
    "y2015.info()"
   ]
  },
  {
   "cell_type": "code",
   "execution_count": 223,
   "metadata": {},
   "outputs": [
    {
     "name": "stdout",
     "output_type": "stream",
     "text": [
      "<class 'pandas.core.frame.DataFrame'>\n",
      "RangeIndex: 10001 entries, 0 to 10000\n",
      "Data columns (total 36 columns):\n",
      " #   Column                          Non-Null Count  Dtype  \n",
      "---  ------                          --------------  -----  \n",
      " 0   emp_title                       9444 non-null   object \n",
      " 1   emp_length                      9452 non-null   object \n",
      " 2   desc                            1 non-null      object \n",
      " 3   title                           9869 non-null   object \n",
      " 4   mths_since_last_delinq          5200 non-null   float64\n",
      " 5   mths_since_last_record          1778 non-null   float64\n",
      " 6   revol_util                      9996 non-null   object \n",
      " 7   last_pymnt_d                    9994 non-null   object \n",
      " 8   next_pymnt_d                    8189 non-null   object \n",
      " 9   mths_since_last_major_derog     2926 non-null   float64\n",
      " 10  annual_inc_joint                65 non-null     float64\n",
      " 11  dti_joint                       65 non-null     float64\n",
      " 12  verification_status_joint       65 non-null     object \n",
      " 13  open_acc_6m                     10000 non-null  float64\n",
      " 14  open_il_6m                      10000 non-null  float64\n",
      " 15  open_il_12m                     10000 non-null  float64\n",
      " 16  open_il_24m                     10000 non-null  float64\n",
      " 17  mths_since_rcnt_il              9761 non-null   float64\n",
      " 18  total_bal_il                    10000 non-null  float64\n",
      " 19  il_util                         8751 non-null   float64\n",
      " 20  open_rv_12m                     10000 non-null  float64\n",
      " 21  open_rv_24m                     10000 non-null  float64\n",
      " 22  max_bal_bc                      10000 non-null  float64\n",
      " 23  all_util                        10000 non-null  float64\n",
      " 24  inq_fi                          10000 non-null  float64\n",
      " 25  total_cu_tl                     10000 non-null  float64\n",
      " 26  inq_last_12m                    10000 non-null  float64\n",
      " 27  bc_open_to_buy                  9902 non-null   float64\n",
      " 28  bc_util                         9894 non-null   float64\n",
      " 29  mo_sin_old_il_acct              9762 non-null   float64\n",
      " 30  mths_since_recent_bc            9905 non-null   float64\n",
      " 31  mths_since_recent_bc_dlq        2561 non-null   float64\n",
      " 32  mths_since_recent_inq           8929 non-null   float64\n",
      " 33  mths_since_recent_revol_delinq  3601 non-null   float64\n",
      " 34  num_tl_120dpd_2m                9438 non-null   float64\n",
      " 35  percent_bc_gt_75                9896 non-null   float64\n",
      "dtypes: float64(28), object(8)\n",
      "memory usage: 2.7+ MB\n"
     ]
    }
   ],
   "source": [
    "# Remove two summary rows at the end that don't actually contain data.\n",
    "# y2015 = y2015[:-2]\n",
    "\n",
    "\n",
    "\n",
    "# Convert ID and Interest Rate to numeric.\n",
    "y2015['id'] = pd.to_numeric(y2015['id'], errors='coerce')\n",
    "y2015['int_rate'] = pd.to_numeric(y2015['int_rate'].str.strip('%'), errors='coerce')\n",
    "\n",
    "\n",
    "# explore columns with nan falues\n",
    "null_col_list = []\n",
    "for col in y2015.columns:\n",
    "    if y2015[col].isna().any():\n",
    "        null_col_list.append(col)\n",
    "        \n",
    "null_col_list\n",
    "# len(null_col_list)\n",
    "y2015[null_col_list].info()\n",
    "\n",
    "# in this dataset, since we already have a lot of columns, we can drop all the columns with nan instead of imputation.\n",
    "# df = y2015.drop(null_col_list, axis = 1)\n",
    "df= y2015.copy()"
   ]
  },
  {
   "cell_type": "code",
   "execution_count": 224,
   "metadata": {
    "scrolled": true
   },
   "outputs": [
    {
     "name": "stdout",
     "output_type": "stream",
     "text": [
      "term\n",
      "2\n",
      "grade\n",
      "7\n",
      "sub_grade\n",
      "35\n",
      "emp_title\n",
      "5621\n",
      "emp_length\n",
      "11\n",
      "home_ownership\n",
      "3\n",
      "verification_status\n",
      "3\n",
      "issue_d\n",
      "1\n",
      "loan_status\n",
      "7\n",
      "pymnt_plan\n",
      "1\n",
      "url\n",
      "10001\n",
      "desc\n",
      "1\n",
      "purpose\n",
      "12\n",
      "title\n",
      "12\n",
      "zip_code\n",
      "789\n",
      "addr_state\n",
      "49\n",
      "earliest_cr_line\n",
      "504\n",
      "revol_util\n",
      "1025\n",
      "initial_list_status\n",
      "2\n",
      "last_pymnt_d\n",
      "14\n",
      "next_pymnt_d\n",
      "2\n",
      "last_credit_pull_d\n",
      "14\n",
      "application_type\n",
      "2\n",
      "verification_status_joint\n",
      "3\n",
      "<class 'pandas.core.frame.DataFrame'>\n",
      "RangeIndex: 10001 entries, 0 to 10000\n",
      "Columns: 106 entries, id to total_il_high_credit_limit\n",
      "dtypes: float64(86), int64(1), object(19)\n",
      "memory usage: 8.1+ MB\n"
     ]
    }
   ],
   "source": [
    "# get dummy, but be careful not make too large a dummy dataset, drop those columns with too many categories (>80)\n",
    "df_object = df.select_dtypes(include='object')\n",
    "col_drop_list = []\n",
    "for col in df_object.columns:\n",
    "#     column = df_object[i]\n",
    "    print(col)\n",
    "    print(df_object[col].nunique())\n",
    "    if df_object[col].nunique() > 80:\n",
    "        col_drop_list.append(col)\n",
    "        \n",
    "# col_drop_list\n",
    "# type(df_object[i])\n",
    "\n",
    "df = df.drop(col_drop_list, axis = 1)\n",
    "df.info()\n",
    "\n",
    "# # make dummy\n",
    "# df_dummy = pd.get_dummies(df)\n",
    "# df_dummy.info()"
   ]
  },
  {
   "cell_type": "code",
   "execution_count": 225,
   "metadata": {},
   "outputs": [
    {
     "data": {
      "image/png": "[encoded data removed]",
      "text/plain": [
       "<Figure size 432x288 with 1 Axes>"
      ]
     },
     "metadata": {},
     "output_type": "display_data"
    }
   ],
   "source": [
    "df['loan_status'].value_counts()\n",
    "\n",
    "import seaborn as sns\n",
    "\n",
    "sns.set(style=\"whitegrid\")\n",
    "splot = sns.countplot(x=\"loan_status\",data=df[['loan_status']])\n",
    "plt.xticks(rotation = 45)\n",
    "for p in splot.patches:\n",
    "    splot.annotate(format(p.get_height(), '.0f'), \n",
    "                   (p.get_x() + p.get_width() / 2., \n",
    "                    p.get_height()), \n",
    "                   ha = 'center', va = 'center', xytext = (0, 10), textcoords = 'offset points')"
   ]
  },
  {
   "cell_type": "markdown",
   "metadata": {},
   "source": [
    "### 2. Split"
   ]
  },
  {
   "cell_type": "code",
   "execution_count": 226,
   "metadata": {},
   "outputs": [],
   "source": [
    "from sklearn.model_selection import train_test_split\n",
    "\n",
    "X = df.drop('loan_status', axis=1)\n",
    "X = pd.get_dummies(X)\n",
    "X = X.dropna(axis=1)\n",
    "y = df['loan_status']\n",
    "\n",
    "X_train, X_test, y_train, y_test = train_test_split(X, y, test_size=0.2, random_state=42)\n",
    "\n",
    "# df_train, df_test = train_test_split(df, test_size=0.2, random_state=42)\n",
    "\n"
   ]
  },
  {
   "cell_type": "markdown",
   "metadata": {},
   "source": [
    "### baseline prediction\n",
    "Make a wild guess, all the loan status is current, check the accuracy under such prediction. Our model performance should outweight that at least."
   ]
  },
  {
   "cell_type": "code",
   "execution_count": 227,
   "metadata": {},
   "outputs": [
    {
     "name": "stdout",
     "output_type": "stream",
     "text": [
      "Current               1578\n",
      "Fully Paid             278\n",
      "Charged Off             85\n",
      "Late (31-120 days)      38\n",
      "Late (16-30 days)       11\n",
      "In Grace Period          8\n",
      "Default                  3\n",
      "Name: loan_status, dtype: int64\n",
      "2001\n",
      "-------------------\n",
      "baseline accuracy: 0.7886056971514243\n"
     ]
    }
   ],
   "source": [
    "print(y_test.value_counts())\n",
    "print(y_test.count())\n",
    "print('-------------------')\n",
    "print('baseline accuracy: {}'.format(y_test[y_test=='Current'].count()/y_test.count()))\n"
   ]
  },
  {
   "cell_type": "markdown",
   "metadata": {},
   "source": [
    "### 3. select K best, gridSearch "
   ]
  },
  {
   "cell_type": "code",
   "execution_count": 228,
   "metadata": {},
   "outputs": [
    {
     "name": "stdout",
     "output_type": "stream",
     "text": [
      "                           Specs         Score  dftypes\n",
      "24               last_pymnt_amnt  6.198336e+07  float64\n",
      "19               total_rec_prncp  2.408946e+07  float64\n",
      "15                     out_prncp  1.666022e+07  float64\n",
      "16                 out_prncp_inv  1.665562e+07  float64\n",
      "17                   total_pymnt  1.632233e+07  float64\n",
      "18               total_pymnt_inv  1.632132e+07  float64\n",
      "55               tot_hi_cred_lim  7.516172e+06  float64\n",
      "29                   tot_cur_bal  5.752376e+06  float64\n",
      "22                    recoveries  2.757408e+06  float64\n",
      "7                     annual_inc  1.172282e+06  float64\n",
      "30              total_rev_hi_lim  1.039638e+06  float64\n",
      "57                total_bc_limit  7.226930e+05  float64\n",
      "32                   avg_cur_bal  7.157569e+05  float64\n",
      "1                      member_id  5.354774e+05  float64\n",
      "0                             id  5.341724e+05    int64\n",
      "23       collection_recovery_fee  4.838834e+05  float64\n",
      "28                  tot_coll_amt  4.581211e+05  float64\n",
      "20                 total_rec_int  4.079424e+05  float64\n",
      "58    total_il_high_credit_limit  3.874716e+05  float64\n",
      "13                     revol_bal  3.756230e+05  float64\n",
      "56             total_bal_ex_mort  3.663379e+05  float64\n",
      "34                   delinq_amnt  2.260746e+04  float64\n",
      "2                      loan_amnt  2.234387e+04  float64\n",
      "3                    funded_amnt  2.234387e+04  float64\n",
      "4                funded_amnt_inv  2.219083e+04  float64\n",
      "21            total_rec_late_fee  8.260402e+03  float64\n",
      "35          mo_sin_old_rev_tl_op  2.034735e+03  float64\n",
      "204        last_pymnt_d_Jan-2017  1.385916e+03    uint8\n",
      "210        last_pymnt_d_Oct-2016  1.254842e+03    uint8\n",
      "209        last_pymnt_d_Nov-2016  1.136612e+03    uint8\n",
      "36         mo_sin_rcnt_rev_tl_op  1.112105e+03  float64\n",
      "199        last_pymnt_d_Aug-2016  1.087276e+03    uint8\n",
      "205        last_pymnt_d_Jul-2016  1.015241e+03    uint8\n",
      "217  last_credit_pull_d_Dec-2016  9.870068e+02    uint8\n",
      "211        last_pymnt_d_Sep-2016  9.334689e+02    uint8\n",
      "6                    installment  9.060407e+02  float64\n",
      "213        next_pymnt_d_Jan-2017  8.373057e+02    uint8\n",
      "226  last_credit_pull_d_Oct-2016  8.035821e+02    uint8\n",
      "206        last_pymnt_d_Jun-2016  7.869201e+02    uint8\n",
      "212        next_pymnt_d_Feb-2017  6.841194e+02    uint8\n",
      "208        last_pymnt_d_May-2016  6.350438e+02    uint8\n",
      "207        last_pymnt_d_Mar-2016  6.012998e+02    uint8\n",
      "37                mo_sin_rcnt_tl  5.295567e+02  float64\n",
      "220  last_credit_pull_d_Jan-2017  5.223553e+02    uint8\n",
      "225  last_credit_pull_d_Nov-2016  4.993877e+02    uint8\n",
      "198        last_pymnt_d_Apr-2016  4.570142e+02    uint8\n",
      "5                       int_rate  4.090845e+02  float64\n",
      "201        last_pymnt_d_Dec-2016  3.969570e+02    uint8\n",
      "203        last_pymnt_d_Jan-2016  3.767373e+02    uint8\n",
      "221  last_credit_pull_d_Jul-2016  3.639302e+02    uint8\n"
     ]
    }
   ],
   "source": [
    "# using chi-squre to select the top 200 features.\n",
    "from sklearn.feature_selection import SelectKBest, chi2\n",
    "\n",
    "#apply SelectKBest class to extract top 10 best features\n",
    "bestfeatures = SelectKBest(score_func=chi2, k=\"all\")\n",
    "fit = bestfeatures.fit(X_train,y_train)\n",
    "\n",
    "dfscores = pd.DataFrame(fit.scores_)\n",
    "dfcolumns = pd.DataFrame(X_train.columns)\n",
    "dftypes = pd.DataFrame(X_train.dtypes.values)\n",
    "#concat two dataframes for better visualization \n",
    "featureScores = pd.concat([dfcolumns,dfscores, dftypes],axis=1)\n",
    "# featureScores['dftypes'] = dftypes\n",
    "featureScores.columns = ['Specs','Score','dftypes']  #naming the dataframe columns\n",
    "\n",
    "\n",
    "print(featureScores.nlargest(50,'Score'))\n"
   ]
  },
  {
   "cell_type": "code",
   "execution_count": 229,
   "metadata": {},
   "outputs": [],
   "source": [
    "# take the K best score (k = 10, 50 or 100)\n",
    "take_k = 50\n",
    "X_train_KBest = X_train[featureScores.nlargest(take_k,'Score')['Specs'].values].copy()\n",
    "# X_train_KBest\n",
    "\n",
    "X_test_KBest = X_test[X_train_KBest.columns].copy()\n",
    "# X_test_KBest\n"
   ]
  },
  {
   "cell_type": "code",
   "execution_count": 230,
   "metadata": {},
   "outputs": [
    {
     "data": {
      "text/plain": [
       "array([0.99    , 0.989375, 0.990625, 0.9875  , 0.986875])"
      ]
     },
     "execution_count": 230,
     "metadata": {},
     "output_type": "execute_result"
    }
   ],
   "source": [
    "# fast check if taking k feature is sactifactory using default hyperparameters\n",
    "from sklearn.ensemble import RandomForestClassifier\n",
    "from sklearn.model_selection import cross_val_score\n",
    "\n",
    "rfc = RandomForestClassifier(verbose=0, n_estimators=10, n_jobs=-1)\n",
    "\n",
    "cross_val_score(rfc, X_train_KBest, y_train, cv=5)"
   ]
  },
  {
   "cell_type": "markdown",
   "metadata": {},
   "source": [
    "#### 3.2 random forest"
   ]
  },
  {
   "cell_type": "markdown",
   "metadata": {},
   "source": [
    "#### Random Search with Cross Validation\n",
    "first use random search to narrow down the parameter settings, then use gridsearch to get more combinations"
   ]
  },
  {
   "cell_type": "code",
   "execution_count": 231,
   "metadata": {},
   "outputs": [
    {
     "name": "stdout",
     "output_type": "stream",
     "text": [
      "{'n_estimators': [20, 40, 60, 80, 100], 'max_features': ['auto', 'sqrt'], 'max_depth': [10, 23, 36, 50, None], 'min_samples_split': [2, 5, 10], 'min_samples_leaf': [1, 2, 4], 'bootstrap': [True, False]}\n"
     ]
    }
   ],
   "source": [
    "from sklearn.model_selection import RandomizedSearchCV\n",
    "\n",
    "# Number of trees in random forest\n",
    "n_estimators = [int(x) for x in np.linspace(start = 20, stop = 100, num = 5)]\n",
    "# Number of features to consider at every split\n",
    "max_features = ['auto', 'sqrt']\n",
    "# Maximum number of levels in tree\n",
    "max_depth = [int(x) for x in np.linspace(10, 50, num = 4)]\n",
    "max_depth.append(None)\n",
    "# Minimum number of samples required to split a node\n",
    "min_samples_split = [2, 5, 10]\n",
    "# Minimum number of samples required at each leaf node\n",
    "min_samples_leaf = [1, 2, 4]\n",
    "# Method of selecting samples for training each tree\n",
    "bootstrap = [True, False]\n",
    "\n",
    "# Create the random grid\n",
    "random_grid = {'n_estimators': n_estimators,\n",
    "               'max_features': max_features,\n",
    "               'max_depth': max_depth,\n",
    "               'min_samples_split': min_samples_split,\n",
    "               'min_samples_leaf': min_samples_leaf,\n",
    "               'bootstrap': bootstrap}\n",
    "\n",
    "print(random_grid)"
   ]
  },
  {
   "cell_type": "code",
   "execution_count": 232,
   "metadata": {},
   "outputs": [
    {
     "name": "stdout",
     "output_type": "stream",
     "text": [
      "Fitting 5 folds for each of 20 candidates, totalling 100 fits\n"
     ]
    },
    {
     "name": "stderr",
     "output_type": "stream",
     "text": [
      "[Parallel(n_jobs=-1)]: Using backend LokyBackend with 12 concurrent workers.\n",
      "[Parallel(n_jobs=-1)]: Done   8 tasks      | elapsed:    1.4s\n",
      "[Parallel(n_jobs=-1)]: Done 100 out of 100 | elapsed:   13.5s finished\n"
     ]
    }
   ],
   "source": [
    "# Use the random grid to search for best hyperparameters\n",
    "# First create the base model to tune\n",
    "from sklearn.ensemble import RandomForestClassifier\n",
    "from sklearn.model_selection import cross_val_score\n",
    "\n",
    "rfc = RandomForestClassifier(random_state=42, verbose=0)\n",
    "# Random search of parameters, using 3 fold cross validation, \n",
    "# search across 100 different combinations, and use all available cores\n",
    "rfc_random = RandomizedSearchCV(estimator=rfc, param_distributions=random_grid,\n",
    "                              n_iter = 20, scoring='accuracy', \n",
    "                              cv = 5, verbose=3, random_state=42, n_jobs=-1,\n",
    "                              return_train_score=True)\n",
    "\n",
    "# Fit the random search model\n",
    "_ = rfc_random.fit(X_train_KBest, y_train)"
   ]
  },
  {
   "cell_type": "code",
   "execution_count": 233,
   "metadata": {},
   "outputs": [
    {
     "data": {
      "text/plain": [
       "{'n_estimators': 80,\n",
       " 'min_samples_split': 2,\n",
       " 'min_samples_leaf': 1,\n",
       " 'max_features': 'sqrt',\n",
       " 'max_depth': 23,\n",
       " 'bootstrap': False}"
      ]
     },
     "execution_count": 233,
     "metadata": {},
     "output_type": "execute_result"
    }
   ],
   "source": [
    "rfc_random.best_params_"
   ]
  },
  {
   "cell_type": "markdown",
   "metadata": {},
   "source": [
    "### Evaluation Function"
   ]
  },
  {
   "cell_type": "code",
   "execution_count": 234,
   "metadata": {},
   "outputs": [
    {
     "name": "stdout",
     "output_type": "stream",
     "text": [
      "0.99\n",
      "RandomForestClassifier(bootstrap=False, ccp_alpha=0.0, class_weight=None,\n",
      "                       criterion='gini', max_depth=23, max_features='sqrt',\n",
      "                       max_leaf_nodes=None, max_samples=None,\n",
      "                       min_impurity_decrease=0.0, min_impurity_split=None,\n",
      "                       min_samples_leaf=1, min_samples_split=2,\n",
      "                       min_weight_fraction_leaf=0.0, n_estimators=80,\n",
      "                       n_jobs=None, oob_score=False, random_state=42, verbose=0,\n",
      "                       warm_start=False)\n"
     ]
    }
   ],
   "source": [
    "print(rfc_random.best_score_)\n",
    "print(rfc_random.best_estimator_)\n"
   ]
  },
  {
   "cell_type": "code",
   "execution_count": 235,
   "metadata": {
    "scrolled": true
   },
   "outputs": [],
   "source": [
    "result_rfc_random = rfc_random.cv_results_\n",
    "# result_rfc_random"
   ]
  },
  {
   "cell_type": "markdown",
   "metadata": {},
   "source": [
    "### Accuracy against training time plot\n",
    "While best_params_ gives the hyperparameters assocaited with the highest accuracy model, computation efficiency might be also be of interest, especially when the datasets have millions of or billions of records, and/or high diminsionality. So, we plot the accuracy score against time to see if accuracy is more important, or compromise can be made if time is a priority."
   ]
  },
  {
   "cell_type": "code",
   "execution_count": 259,
   "metadata": {},
   "outputs": [],
   "source": [
    "\n",
    "#concat two dataframes for better visualization \n",
    "df_result_random = pd.concat([pd.DataFrame(result_rfc_random['mean_fit_time']),\n",
    "                              pd.DataFrame(result_rfc_random['mean_test_score'])],axis=1)\n",
    "\n",
    "df_result_random.columns = ['mean_fit_time','mean_test_score']  #naming the dataframe columns\n",
    "df_result_random['accuracy_time_ratio'] = df_result_random['mean_test_score']/df_result_random['mean_fit_time']\n",
    "df_result_random['params'] = result_rfc_random['params']\n",
    "# df_result_random"
   ]
  },
  {
   "cell_type": "code",
   "execution_count": 237,
   "metadata": {},
   "outputs": [
    {
     "data": {
      "text/plain": [
       "<matplotlib.legend.Legend at 0x1a40c346248>"
      ]
     },
     "execution_count": 237,
     "metadata": {},
     "output_type": "execute_result"
    },
    {
     "data": {
      "image/png": "[encoded data removed]",
      "text/plain": [
       "<Figure size 432x288 with 1 Axes>"
      ]
     },
     "metadata": {},
     "output_type": "display_data"
    }
   ],
   "source": [
    "plt.scatter(result_rfc_random['mean_fit_time'], result_rfc_random['mean_test_score'], c='b', label=\"points\")\n",
    "plt.scatter(result_rfc_random['mean_fit_time'][3], result_rfc_random['mean_test_score'][3], c='r', s=200, alpha=0.2, label='max accuracy')\n",
    "plt.scatter(result_rfc_random['mean_fit_time'][0], result_rfc_random['mean_test_score'][0], c='g', s=200, alpha=0.2, label='max ratio')\n",
    "plt.xlabel('mean_fit_time')\n",
    "plt.ylabel('mean_test_score')\n",
    "plt.legend()"
   ]
  },
  {
   "cell_type": "code",
   "execution_count": 238,
   "metadata": {},
   "outputs": [
    {
     "name": "stdout",
     "output_type": "stream",
     "text": [
      "{'n_estimators': 80, 'min_samples_split': 2, 'min_samples_leaf': 1, 'max_features': 'sqrt', 'max_depth': 23, 'bootstrap': False}\n",
      "{'n_estimators': 20, 'min_samples_split': 10, 'min_samples_leaf': 2, 'max_features': 'sqrt', 'max_depth': 10, 'bootstrap': True}\n"
     ]
    }
   ],
   "source": [
    "print(result_rfc_random['params'][3])\n",
    "print(result_rfc_random['params'][0])"
   ]
  },
  {
   "cell_type": "markdown",
   "metadata": {},
   "source": [
    "### Grid Search with Cross Validation\n"
   ]
  },
  {
   "cell_type": "code",
   "execution_count": 239,
   "metadata": {
    "scrolled": true
   },
   "outputs": [
    {
     "name": "stdout",
     "output_type": "stream",
     "text": [
      "Fitting 10 folds for each of 32 candidates, totalling 320 fits\n"
     ]
    },
    {
     "name": "stderr",
     "output_type": "stream",
     "text": [
      "[Parallel(n_jobs=-1)]: Using backend LokyBackend with 12 concurrent workers.\n",
      "[Parallel(n_jobs=-1)]: Done   8 tasks      | elapsed:    0.3s\n",
      "[Parallel(n_jobs=-1)]: Done 104 tasks      | elapsed:    6.5s\n",
      "[Parallel(n_jobs=-1)]: Done 264 tasks      | elapsed:   20.2s\n",
      "[Parallel(n_jobs=-1)]: Done 320 out of 320 | elapsed:   25.8s finished\n"
     ]
    }
   ],
   "source": [
    "from sklearn.model_selection import GridSearchCV\n",
    "# Create the parameter grid based on the results of random search \n",
    "param_grid = {\n",
    "    'bootstrap': [True, False],\n",
    "    'max_depth': [36, None],\n",
    "    'max_features': ['sqrt'],\n",
    "    'min_samples_leaf': [1, 2],\n",
    "    'min_samples_split': [2, 10],\n",
    "    'n_estimators': [10,40]\n",
    "}\n",
    "# Create a based model\n",
    "rfc = RandomForestClassifier(random_state=42, verbose=0)\n",
    "# Instantiate the grid search model\n",
    "grid_search = GridSearchCV(estimator = rfc, param_grid = param_grid, \n",
    "                          cv = 10, n_jobs = -1, verbose = 3)\n",
    "\n",
    "\n",
    "# Fit the random search model\n",
    "_ = grid_search.fit(X_train_KBest, y_train)"
   ]
  },
  {
   "cell_type": "code",
   "execution_count": 240,
   "metadata": {
    "scrolled": true
   },
   "outputs": [
    {
     "name": "stdout",
     "output_type": "stream",
     "text": [
      "{'bootstrap': False, 'max_depth': 36, 'max_features': 'sqrt', 'min_samples_leaf': 1, 'min_samples_split': 10, 'n_estimators': 40}\n",
      "-------------------------------------\n",
      "0.9901249999999999\n",
      "-------------------------------------\n",
      "RandomForestClassifier(bootstrap=False, ccp_alpha=0.0, class_weight=None,\n",
      "                       criterion='gini', max_depth=36, max_features='sqrt',\n",
      "                       max_leaf_nodes=None, max_samples=None,\n",
      "                       min_impurity_decrease=0.0, min_impurity_split=None,\n",
      "                       min_samples_leaf=1, min_samples_split=10,\n",
      "                       min_weight_fraction_leaf=0.0, n_estimators=40,\n",
      "                       n_jobs=None, oob_score=False, random_state=42, verbose=0,\n",
      "                       warm_start=False)\n",
      "-------------------------------------\n"
     ]
    }
   ],
   "source": [
    "print(grid_search.best_params_)\n",
    "print('-------------------------------------')\n",
    "print(grid_search.best_score_)\n",
    "print('-------------------------------------')\n",
    "print(grid_search.best_estimator_)\n",
    "print('-------------------------------------')\n",
    "# print(grid_search.cv_results_)\n",
    "result_rfc_grid = grid_search.cv_results_"
   ]
  },
  {
   "cell_type": "code",
   "execution_count": 241,
   "metadata": {},
   "outputs": [],
   "source": [
    "#concat two dataframes for better visualization \n",
    "df_result_grid = pd.concat([pd.DataFrame(result_rfc_grid['mean_fit_time']),\n",
    "                              pd.DataFrame(result_rfc_grid['mean_test_score'])],axis=1)\n",
    "\n",
    "df_result_grid.columns = ['mean_fit_time','mean_test_score']  #naming the dataframe columns\n",
    "df_result_grid['accuracy_time_ratio'] = df_result_grid['mean_test_score']/df_result_grid['mean_fit_time']\n",
    "df_result_grid['params'] = result_rfc_grid['params']\n"
   ]
  },
  {
   "cell_type": "code",
   "execution_count": 242,
   "metadata": {},
   "outputs": [
    {
     "name": "stdout",
     "output_type": "stream",
     "text": [
      "Highest accuracy model is: NO. 19: \n",
      " {'bootstrap': False, 'max_depth': 36, 'max_features': 'sqrt', 'min_samples_leaf': 1, 'min_samples_split': 10, 'n_estimators': 40}\n",
      "Highest accuracy-time ratio model is: NO. 0: \n",
      " {'bootstrap': True, 'max_depth': 36, 'max_features': 'sqrt', 'min_samples_leaf': 1, 'min_samples_split': 2, 'n_estimators': 10}\n"
     ]
    }
   ],
   "source": [
    "# Grid search cv result sumary\n",
    "print(\"Highest accuracy model is: NO. {}: \\n {}\".format(df_result_grid['mean_test_score'].idxmax(), \n",
    "                                                     df_result_grid['params'][df_result_grid['mean_test_score'].idxmax()]))\n",
    "print(\"Highest accuracy-time ratio model is: NO. {}: \\n {}\".format(df_result_grid['accuracy_time_ratio'].idxmax(), \n",
    "                                                     df_result_grid['params'][df_result_grid['accuracy_time_ratio'].idxmax()]))\n"
   ]
  },
  {
   "cell_type": "code",
   "execution_count": 243,
   "metadata": {},
   "outputs": [
    {
     "data": {
      "text/plain": [
       "<matplotlib.legend.Legend at 0x1a40c348c88>"
      ]
     },
     "execution_count": 243,
     "metadata": {},
     "output_type": "execute_result"
    },
    {
     "data": {
      "image/png": "[encoded data removed]",
      "text/plain": [
       "<Figure size 432x288 with 1 Axes>"
      ]
     },
     "metadata": {},
     "output_type": "display_data"
    }
   ],
   "source": [
    "# visualize the cv result\n",
    "plt.scatter(df_result_grid['mean_fit_time'], df_result_grid['mean_test_score'], c='b', label=\"points\")\n",
    "plt.scatter(df_result_grid['mean_fit_time'][23], df_result_grid['mean_test_score'][23], c='r', s=200, alpha=0.2, label='max accuracy')\n",
    "plt.scatter(df_result_grid['mean_fit_time'][0], df_result_grid['mean_test_score'][0], c='g', s=200, alpha=0.2, label='max ratio')\n",
    "plt.xlabel('mean_fit_time')\n",
    "plt.ylabel('mean_test_score')\n",
    "plt.legend()"
   ]
  },
  {
   "cell_type": "markdown",
   "metadata": {},
   "source": [
    "### Evaluation on the test set (hold-out data)\n",
    "Since the dataset is not very huge. We choose the model with hyperparameters give highest accuracy for evaluation."
   ]
  },
  {
   "cell_type": "code",
   "execution_count": 244,
   "metadata": {},
   "outputs": [
    {
     "name": "stderr",
     "output_type": "stream",
     "text": [
      "[Parallel(n_jobs=-1)]: Using backend ThreadingBackend with 12 concurrent workers.\n",
      "[Parallel(n_jobs=-1)]: Done  40 out of  40 | elapsed:    0.1s finished\n"
     ]
    }
   ],
   "source": [
    "# Create the final RF classifier\n",
    "\n",
    "# parameter = {'n_estimators': 40, \n",
    "#              'min_samples_split': 2,\n",
    "#              'min_samples_leaf': 1,\n",
    "#              'max_features': 'sqrt',\n",
    "#              'max_depth': 36, \n",
    "#              'bootstrap': False}\n",
    "parameter = df_result_grid['params'][23]\n",
    "\n",
    "# Create a based model\n",
    "rfc = RandomForestClassifier(**parameter, random_state=42, verbose=1, n_jobs=-1)\n",
    "_ = rfc.fit(X_train_KBest, y_train)\n"
   ]
  },
  {
   "cell_type": "code",
   "execution_count": 258,
   "metadata": {},
   "outputs": [
    {
     "name": "stdout",
     "output_type": "stream",
     "text": [
      "classification_report\n",
      "                    precision    recall  f1-score   support\n",
      "\n",
      "       Charged Off       1.00      0.98      0.99        85\n",
      "           Current       0.99      1.00      1.00      1578\n",
      "           Default       0.75      1.00      0.86         3\n",
      "        Fully Paid       0.99      1.00      1.00       278\n",
      "   In Grace Period       0.00      0.00      0.00         8\n",
      " Late (16-30 days)       1.00      0.45      0.62        11\n",
      "Late (31-120 days)       1.00      0.95      0.97        38\n",
      "\n",
      "          accuracy                           0.99      2001\n",
      "         macro avg       0.82      0.77      0.78      2001\n",
      "      weighted avg       0.99      0.99      0.99      2001\n",
      "\n",
      "----------------------------\n",
      "accuracy_score\n",
      "0.9910044977511244\n"
     ]
    },
    {
     "name": "stderr",
     "output_type": "stream",
     "text": [
      "[Parallel(n_jobs=12)]: Using backend ThreadingBackend with 12 concurrent workers.\n",
      "[Parallel(n_jobs=12)]: Done  40 out of  40 | elapsed:    0.0s finished\n",
      "C:\\Users\\kefei\\Anaconda3\\lib\\site-packages\\sklearn\\metrics\\_classification.py:1272: UndefinedMetricWarning: Precision and F-score are ill-defined and being set to 0.0 in labels with no predicted samples. Use `zero_division` parameter to control this behavior.\n",
      "  _warn_prf(average, modifier, msg_start, len(result))\n"
     ]
    }
   ],
   "source": [
    "#Import scikit-learn metrics module for accuracy calculation\n",
    "# from sklearn import metrics\n",
    "from sklearn.metrics import classification_report, confusion_matrix, accuracy_score\n",
    "\n",
    "y_pred=rfc.predict(X_test_KBest)\n",
    "\n",
    "print('classification_report')\n",
    "print(classification_report(y_test,y_pred))\n",
    "print('----------------------------')\n",
    "print('accuracy_score')\n",
    "print(accuracy_score(y_test, y_pred))"
   ]
  },
  {
   "cell_type": "code",
   "execution_count": 257,
   "metadata": {},
   "outputs": [
    {
     "data": {
      "text/plain": [
       "<matplotlib.collections.LineCollection at 0x1a3fddef2c8>"
      ]
     },
     "execution_count": 257,
     "metadata": {},
     "output_type": "execute_result"
    },
    {
     "data": {
      "image/png": "[encoded data removed]",
      "text/plain": [
       "<Figure size 432x288 with 2 Axes>"
      ]
     },
     "metadata": {},
     "output_type": "display_data"
    }
   ],
   "source": [
    "cf_matrix = confusion_matrix(y_test,y_pred, labels=y_test.unique())\n",
    "X_axis_labels = y_test.unique()\n",
    "Y_axis_labels = y_test.unique()\n",
    "ax = sns.heatmap(cf_matrix, xticklabels=X_axis_labels, yticklabels=Y_axis_labels, annot=True, fmt=\"d\", cmap=\"YlGnBu\",square=True)\n",
    "plt.xlabel(\"Predicted\")\n",
    "plt.ylabel(\"True\")\n",
    "ax.hlines(np.arange(1,7), *ax.get_xlim())\n",
    "ax.vlines(np.arange(1,7), *ax.get_ylim())"
   ]
  },
  {
   "cell_type": "code",
   "execution_count": 262,
   "metadata": {},
   "outputs": [
    {
     "data": {
      "text/plain": [
       "Current               1578\n",
       "Fully Paid             278\n",
       "Charged Off             85\n",
       "Late (31-120 days)      38\n",
       "Late (16-30 days)       11\n",
       "In Grace Period          8\n",
       "Default                  3\n",
       "Name: loan_status, dtype: int64"
      ]
     },
     "execution_count": 262,
     "metadata": {},
     "output_type": "execute_result"
    }
   ],
   "source": [
    "y_test.value_counts()"
   ]
  },
  {
   "cell_type": "markdown",
   "metadata": {},
   "source": [
    "### intermediate sumary for random forest model\n",
    "- Generally speaking, the performance on the test set is not bad, the accuracy is 0.9910.\n",
    "- GridSearchCV approach helped us to find hyper-parameters that increase the accuracy for 0.01 (or 1%), which is a good news.\n",
    "- However, for individual categories, i.e. 'Default', 'In Grace Period', 'Late (16-30 days)', the performance is not very satisfactory. This might be due to the fact that the numbers of sub class in our target variable is very unbalanced. The model could fail to capture the underlying mechanics for such labels, since there is not enough data for training.\n",
    "- To improve performance, especially precision and recall rate on 'Default', 'In Grace Period', 'Late (16-30 days)', we might try adding more data with such lables in the training process.\n",
    "\n",
    "### remaining work\n",
    "- perform gridserchCV using Decision tree model, using the same features (i.e. top 50 selectKBest) (part II)\n",
    "- using PCA, then repeat the process again. (part III)"
   ]
  },
  {
   "cell_type": "markdown",
   "metadata": {},
   "source": [
    "# part II decision tree"
   ]
  },
  {
   "cell_type": "markdown",
   "metadata": {},
   "source": [
    "### recall\n",
    "- We will use the same dataset, same features, same training and test data as random forest model\n",
    "- Also, recall the baseline accuracy is 0.7886\n",
    "- So, we will start from decision tree modeling"
   ]
  },
  {
   "cell_type": "code",
   "execution_count": 265,
   "metadata": {},
   "outputs": [
    {
     "name": "stderr",
     "output_type": "stream",
     "text": [
      "[Parallel(n_jobs=1)]: Using backend SequentialBackend with 1 concurrent workers.\n",
      "[Parallel(n_jobs=1)]: Done   5 out of   5 | elapsed:    0.7s finished\n"
     ]
    },
    {
     "data": {
      "text/plain": [
       "array([0.980625, 0.97625 , 0.983125, 0.9825  , 0.98375 ])"
      ]
     },
     "execution_count": 265,
     "metadata": {},
     "output_type": "execute_result"
    }
   ],
   "source": [
    "# fast check if taking k feature is sactifactory using default hyperparameters\n",
    "from sklearn.tree import DecisionTreeClassifier\n",
    "# from sklearn.model_selection import cross_val_score\n",
    "\n",
    "dtc = DecisionTreeClassifier()\n",
    "\n",
    "cross_val_score(dtc, X_train_KBest, y_train, cv=5, verbose=1)"
   ]
  },
  {
   "cell_type": "markdown",
   "metadata": {},
   "source": [
    "### Grid Search with Cross Validation\n",
    "- Decision tree model is less complex than random forest, and also faster\n",
    "- So, we jump into grid search CV for decision tree's hyper parameter search."
   ]
  },
  {
   "cell_type": "code",
   "execution_count": 278,
   "metadata": {
    "scrolled": true
   },
   "outputs": [],
   "source": [
    "# from sklearn.model_selection import GridSearchCV\n",
    "# Create the parameter grid based on the results of random search \n",
    "\n",
    "    \n",
    "param_grid = {\n",
    "    'criterion': ['entropy', 'gini'],\n",
    "    'max_depth': [10, 20, 50, 100, None],\n",
    "    'min_samples_leaf': [1, 2],\n",
    "    'min_samples_split': range(1, 10)\n",
    "    \n",
    "}\n",
    "# Create a based model\n",
    "dtc = DecisionTreeClassifier()\n",
    "# Instantiate the grid search model\n",
    "grid_search = GridSearchCV(estimator = dtc, param_grid = param_grid, \n",
    "                          cv = 10, n_jobs = -1, verbose = 0)\n",
    "\n",
    "\n",
    "# Fit the random search model\n",
    "_ = grid_search.fit(X_train_KBest, y_train)"
   ]
  },
  {
   "cell_type": "code",
   "execution_count": 268,
   "metadata": {
    "scrolled": true
   },
   "outputs": [
    {
     "name": "stdout",
     "output_type": "stream",
     "text": [
      "{'criterion': 'gini', 'max_depth': 10, 'min_samples_leaf': 2, 'min_samples_split': 6}\n",
      "-------------------------------------\n",
      "0.9873749999999999\n",
      "-------------------------------------\n",
      "DecisionTreeClassifier(ccp_alpha=0.0, class_weight=None, criterion='gini',\n",
      "                       max_depth=10, max_features=None, max_leaf_nodes=None,\n",
      "                       min_impurity_decrease=0.0, min_impurity_split=None,\n",
      "                       min_samples_leaf=2, min_samples_split=6,\n",
      "                       min_weight_fraction_leaf=0.0, presort='deprecated',\n",
      "                       random_state=None, splitter='best')\n",
      "-------------------------------------\n"
     ]
    }
   ],
   "source": [
    "print(grid_search.best_params_)\n",
    "print('-------------------------------------')\n",
    "print(grid_search.best_score_)\n",
    "print('-------------------------------------')\n",
    "print(grid_search.best_estimator_)\n",
    "print('-------------------------------------')\n",
    "# print(grid_search.cv_results_)\n",
    "result_dtc_grid = grid_search.cv_results_"
   ]
  },
  {
   "cell_type": "code",
   "execution_count": 270,
   "metadata": {},
   "outputs": [],
   "source": [
    "#concat two dataframes for better visualization \n",
    "df_result_grid2 = pd.concat([pd.DataFrame(result_dtc_grid['mean_fit_time']),\n",
    "                              pd.DataFrame(result_dtc_grid['mean_test_score'])],axis=1)\n",
    "\n",
    "df_result_grid2.columns = ['mean_fit_time','mean_test_score']  #naming the dataframe columns\n",
    "df_result_grid2['accuracy_time_ratio'] = df_result_grid2['mean_test_score']/df_result_grid2['mean_fit_time']\n",
    "df_result_grid2['params'] = result_dtc_grid['params']\n"
   ]
  },
  {
   "cell_type": "code",
   "execution_count": 271,
   "metadata": {},
   "outputs": [
    {
     "name": "stdout",
     "output_type": "stream",
     "text": [
      "Highest accuracy model is: NO. 104: \n",
      " {'criterion': 'gini', 'max_depth': 10, 'min_samples_leaf': 2, 'min_samples_split': 6}\n",
      "Highest accuracy-time ratio model is: NO. 105: \n",
      " {'criterion': 'gini', 'max_depth': 10, 'min_samples_leaf': 2, 'min_samples_split': 7}\n"
     ]
    }
   ],
   "source": [
    "# Grid search cv result sumary\n",
    "print(\"Highest accuracy model is: NO. {}: \\n {}\".format(df_result_grid2['mean_test_score'].idxmax(), \n",
    "                                                     df_result_grid2['params'][df_result_grid2['mean_test_score'].idxmax()]))\n",
    "print(\"Highest accuracy-time ratio model is: NO. {}: \\n {}\".format(df_result_grid2['accuracy_time_ratio'].idxmax(), \n",
    "                                                     df_result_grid2['params'][df_result_grid2['accuracy_time_ratio'].idxmax()]))\n"
   ]
  },
  {
   "cell_type": "code",
   "execution_count": 243,
   "metadata": {},
   "outputs": [
    {
     "data": {
      "text/plain": [
       "<matplotlib.legend.Legend at 0x1a40c348c88>"
      ]
     },
     "execution_count": 243,
     "metadata": {},
     "output_type": "execute_result"
    },
    {
     "data": {
      "image/png": "[encoded data removed]",
      "text/plain": [
       "<Figure size 432x288 with 1 Axes>"
      ]
     },
     "metadata": {},
     "output_type": "display_data"
    }
   ],
   "source": [
    "# visualize the cv result\n",
    "plt.scatter(df_result_grid['mean_fit_time'], df_result_grid['mean_test_score'], c='b', label=\"points\")\n",
    "plt.scatter(df_result_grid['mean_fit_time'][23], df_result_grid['mean_test_score'][23], c='r', s=200, alpha=0.2, label='max accuracy')\n",
    "plt.scatter(df_result_grid['mean_fit_time'][0], df_result_grid['mean_test_score'][0], c='g', s=200, alpha=0.2, label='max ratio')\n",
    "plt.xlabel('mean_fit_time')\n",
    "plt.ylabel('mean_test_score')\n",
    "plt.legend()"
   ]
  },
  {
   "cell_type": "markdown",
   "metadata": {},
   "source": [
    "### Evaluation on the test set (hold-out data)\n",
    "Since the dataset is not very huge. We choose the model with hyperparameters give highest accuracy for evaluation."
   ]
  },
  {
   "cell_type": "code",
   "execution_count": 275,
   "metadata": {},
   "outputs": [],
   "source": [
    "# Create the final RF classifier\n",
    "\n",
    "# parameter = {'n_estimators': 40, \n",
    "#              'min_samples_split': 2,\n",
    "#              'min_samples_leaf': 1,\n",
    "#              'max_features': 'sqrt',\n",
    "#              'max_depth': 36, \n",
    "#              'bootstrap': False}\n",
    "parameter2 = df_result_grid2['params'][104]\n",
    "\n",
    "# Create a based model\n",
    "dtc = RandomForestClassifier(**parameter2, random_state=42, verbose=0, n_jobs=-1)\n",
    "_ = dtc.fit(X_train_KBest, y_train)\n"
   ]
  },
  {
   "cell_type": "code",
   "execution_count": 277,
   "metadata": {},
   "outputs": [
    {
     "name": "stdout",
     "output_type": "stream",
     "text": [
      "classification_report\n",
      "                    precision    recall  f1-score   support\n",
      "\n",
      "       Charged Off       1.00      0.98      0.99        85\n",
      "           Current       0.99      1.00      0.99      1578\n",
      "           Default       0.75      1.00      0.86         3\n",
      "        Fully Paid       0.99      1.00      1.00       278\n",
      "   In Grace Period       0.00      0.00      0.00         8\n",
      " Late (16-30 days)       0.00      0.00      0.00        11\n",
      "Late (31-120 days)       1.00      0.95      0.97        38\n",
      "\n",
      "          accuracy                           0.99      2001\n",
      "         macro avg       0.68      0.70      0.69      2001\n",
      "      weighted avg       0.98      0.99      0.98      2001\n",
      "\n",
      "----------------------------\n",
      "accuracy_score\n",
      "0.9885057471264368\n"
     ]
    }
   ],
   "source": [
    "#Import scikit-learn metrics module for accuracy calculation\n",
    "# from sklearn import metrics\n",
    "# from sklearn.metrics import classification_report, confusion_matrix, accuracy_score\n",
    "\n",
    "y_pred2=dtc.predict(X_test_KBest)\n",
    "\n",
    "print('classification_report')\n",
    "print(classification_report(y_test,y_pred2, zero_division=0))\n",
    "print('----------------------------')\n",
    "print('accuracy_score')\n",
    "print(accuracy_score(y_test, y_pred2))"
   ]
  },
  {
   "cell_type": "code",
   "execution_count": 274,
   "metadata": {},
   "outputs": [
    {
     "data": {
      "text/plain": [
       "<matplotlib.collections.LineCollection at 0x1a3fdf3f108>"
      ]
     },
     "execution_count": 274,
     "metadata": {},
     "output_type": "execute_result"
    },
    {
     "data": {
      "image/png": "[encoded data removed]",
      "text/plain": [
       "<Figure size 432x288 with 2 Axes>"
      ]
     },
     "metadata": {},
     "output_type": "display_data"
    }
   ],
   "source": [
    "cf_matrix = confusion_matrix(y_test,y_pred2, labels=y_test.unique())\n",
    "X_axis_labels = y_test.unique()\n",
    "Y_axis_labels = y_test.unique()\n",
    "ax = sns.heatmap(cf_matrix, xticklabels=X_axis_labels, yticklabels=Y_axis_labels, annot=True, fmt=\"d\", cmap=\"YlGnBu\",square=True)\n",
    "plt.xlabel(\"Predicted\")\n",
    "plt.ylabel(\"True\")\n",
    "ax.hlines(np.arange(1,7), *ax.get_xlim())\n",
    "ax.vlines(np.arange(1,7), *ax.get_ylim())"
   ]
  },
  {
   "cell_type": "markdown",
   "metadata": {},
   "source": [
    "### intermediate sumary\n",
    "- The decision tree model has lower accuracy rate compare to random forest model. (i.e. 0.9885 vs. 0.9910)\n",
    "- However, decision tree is much faster than random forest.\n",
    "- By looking at the classification_report and confustion matrix, we can find that, decision tree also suffer from predicting rare-appared instances, i.e. 'Default', 'In Grace Period', 'Late (16-30 days)'. \n",
    "- The gridsearch approach also provide hyper-parameters that improve accuracy on the test data."
   ]
  },
  {
   "cell_type": "markdown",
   "metadata": {},
   "source": [
    "# part III\n",
    "feature enineering using PCA, then perform random forest and decision tree classification again.\n",
    "\n",
    "ref: https://www.codementor.io/@divyeshaegis/when-to-use-pca-before-or-after-a-train-test-split-vxdrlu6ci"
   ]
  },
  {
   "cell_type": "markdown",
   "metadata": {},
   "source": [
    "### recall\n",
    "- We will use the same dataset, same features, same training and test data as random forest model\n",
    "- Also, recall the baseline accuracy is 0.7886\n",
    "- So, we will start from feature engineering (PCA)"
   ]
  },
  {
   "cell_type": "code",
   "execution_count": 443,
   "metadata": {},
   "outputs": [],
   "source": [
    "# for convenience repeat here\n",
    "# from sklearn.model_selection import train_test_split\n",
    "\n",
    "X = df.drop('loan_status', axis=1)\n",
    "X = pd.get_dummies(X)\n",
    "X = X.dropna(axis=1)\n",
    "y = df['loan_status']\n",
    "\n",
    "X_train, X_test, y_train, y_test = train_test_split(X, y, test_size=0.2, random_state=42)\n"
   ]
  },
  {
   "cell_type": "markdown",
   "metadata": {},
   "source": [
    "### It is widely accepted that PCA does not work well on categorical / binary type of data, so we only perform PCA on continous data. For the rest it, we will use selectKBest"
   ]
  },
  {
   "cell_type": "code",
   "execution_count": 444,
   "metadata": {},
   "outputs": [],
   "source": [
    "# 'object' type data info\n",
    "pca_list = []\n",
    "for col in X_train.columns:\n",
    "#     print(X_train[col].nunique())\n",
    "    if X_train[col].nunique() > 2:\n",
    "        pca_list.append(col)"
   ]
  },
  {
   "cell_type": "code",
   "execution_count": 445,
   "metadata": {},
   "outputs": [],
   "source": [
    "X_train_continous = X_train.loc[:,pca_list]\n",
    "X_test_continous = X_test.loc[:,pca_list]\n",
    "# X_train_continous"
   ]
  },
  {
   "cell_type": "code",
   "execution_count": 446,
   "metadata": {},
   "outputs": [],
   "source": [
    "encoding_list = [item for item in list(X_train.columns) if item not in pca_list]\n",
    "X_train_encoding = X_train.loc[:,encoding_list]\n",
    "X_test_encoding = X_test.loc[:,encoding_list]\n",
    "# X_train_encoding"
   ]
  },
  {
   "cell_type": "code",
   "execution_count": 447,
   "metadata": {},
   "outputs": [],
   "source": [
    "# perform standard scalar normalization to normalize our feature set\n",
    "from sklearn.preprocessing import StandardScaler\n",
    "\n",
    "sc = StandardScaler()\n",
    "X_train_stdscaler = sc.fit_transform(X_train_continous)\n",
    "X_test_stdscaler = sc.transform(X_test_continous)"
   ]
  },
  {
   "cell_type": "code",
   "execution_count": 472,
   "metadata": {},
   "outputs": [
    {
     "data": {
      "image/png": "[encoded data removed]",
      "text/plain": [
       "<Figure size 432x288 with 1 Axes>"
      ]
     },
     "metadata": {},
     "output_type": "display_data"
    }
   ],
   "source": [
    "# Applying PCA\n",
    "from sklearn.decomposition import PCA\n",
    "\n",
    "pca = PCA()\n",
    "pca.fit(X_train_stdscaler)\n",
    "\n",
    "# plot\n",
    "explained_variance = pca.explained_variance_ratio_\n",
    "explained_variance\n",
    "plt.plot(np.cumsum(pca.explained_variance_ratio_))\n",
    "plt.xlabel('number of components')\n",
    "plt.ylabel('cumulative explained variance');"
   ]
  },
  {
   "cell_type": "code",
   "execution_count": 473,
   "metadata": {},
   "outputs": [],
   "source": [
    "pca = PCA(n_components=30)\n",
    "\n",
    "X_train_continous = pca.fit_transform(X_train_stdscaler)\n",
    "X_test_continous = pca.transform(X_test_stdscaler)"
   ]
  },
  {
   "cell_type": "code",
   "execution_count": 474,
   "metadata": {},
   "outputs": [],
   "source": [
    "# X_train_continous.shape"
   ]
  },
  {
   "cell_type": "markdown",
   "metadata": {},
   "source": [
    "#### selectKbest"
   ]
  },
  {
   "cell_type": "code",
   "execution_count": 475,
   "metadata": {},
   "outputs": [],
   "source": [
    "# using chi-squre to select the top 200 features.\n",
    "# from sklearn.feature_selection import SelectKBest, chi2\n",
    "\n",
    "#apply SelectKBest class to extract top 10 best features\n",
    "bestfeatures = SelectKBest(score_func=chi2, k=\"all\")\n",
    "fit = bestfeatures.fit(X_train_encoding,y_train)\n",
    "\n",
    "dfscores = pd.DataFrame(fit.scores_)\n",
    "dfcolumns = pd.DataFrame(X_train_encoding.columns)\n",
    "dftypes = pd.DataFrame(X_train_encoding.dtypes.values)\n",
    "#concat two dataframes for better visualization \n",
    "featureScores = pd.concat([dfcolumns,dfscores, dftypes],axis=1)\n",
    "# featureScores['dftypes'] = dftypes\n",
    "featureScores.columns = ['Specs','Score','dftypes']  #naming the dataframe columns\n",
    "\n",
    "\n",
    "# print(featureScores.nlargest(50,'Score'))\n"
   ]
  },
  {
   "cell_type": "code",
   "execution_count": 476,
   "metadata": {},
   "outputs": [],
   "source": [
    "# take the K best score (k = 20)\n",
    "take_k = 20\n",
    "X_train_KBest = X_train[featureScores.nlargest(take_k,'Score')['Specs'].values].copy()\n",
    "# X_train_KBest\n",
    "\n",
    "X_test_KBest = X_test[X_train_KBest.columns].copy()\n",
    "# X_test_KBest\n"
   ]
  },
  {
   "cell_type": "code",
   "execution_count": 477,
   "metadata": {},
   "outputs": [
    {
     "data": {
      "text/html": [
       "<div>\n",
       "<style scoped>\n",
       "    .dataframe tbody tr th:only-of-type {\n",
       "        vertical-align: middle;\n",
       "    }\n",
       "\n",
       "    .dataframe tbody tr th {\n",
       "        vertical-align: top;\n",
       "    }\n",
       "\n",
       "    .dataframe thead th {\n",
       "        text-align: right;\n",
       "    }\n",
       "</style>\n",
       "<table border=\"1\" class=\"dataframe\">\n",
       "  <thead>\n",
       "    <tr style=\"text-align: right;\">\n",
       "      <th></th>\n",
       "      <th>0</th>\n",
       "      <th>1</th>\n",
       "      <th>2</th>\n",
       "      <th>3</th>\n",
       "      <th>4</th>\n",
       "      <th>5</th>\n",
       "      <th>6</th>\n",
       "      <th>7</th>\n",
       "      <th>8</th>\n",
       "      <th>9</th>\n",
       "      <th>...</th>\n",
       "      <th>20</th>\n",
       "      <th>21</th>\n",
       "      <th>22</th>\n",
       "      <th>23</th>\n",
       "      <th>24</th>\n",
       "      <th>25</th>\n",
       "      <th>26</th>\n",
       "      <th>27</th>\n",
       "      <th>28</th>\n",
       "      <th>29</th>\n",
       "    </tr>\n",
       "  </thead>\n",
       "  <tbody>\n",
       "    <tr>\n",
       "      <th>0</th>\n",
       "      <td>6.428269</td>\n",
       "      <td>2.682757</td>\n",
       "      <td>2.250459</td>\n",
       "      <td>-9.312073</td>\n",
       "      <td>2.971323</td>\n",
       "      <td>0.415720</td>\n",
       "      <td>-1.793187</td>\n",
       "      <td>-0.414958</td>\n",
       "      <td>-0.453026</td>\n",
       "      <td>-0.175107</td>\n",
       "      <td>...</td>\n",
       "      <td>-0.348739</td>\n",
       "      <td>-0.276006</td>\n",
       "      <td>-0.092312</td>\n",
       "      <td>-0.837216</td>\n",
       "      <td>0.580908</td>\n",
       "      <td>0.826411</td>\n",
       "      <td>0.066176</td>\n",
       "      <td>1.204172</td>\n",
       "      <td>0.065714</td>\n",
       "      <td>-0.053473</td>\n",
       "    </tr>\n",
       "    <tr>\n",
       "      <th>1</th>\n",
       "      <td>-1.391119</td>\n",
       "      <td>0.067291</td>\n",
       "      <td>-2.080221</td>\n",
       "      <td>-0.379659</td>\n",
       "      <td>-1.292834</td>\n",
       "      <td>-0.972226</td>\n",
       "      <td>0.075933</td>\n",
       "      <td>0.057728</td>\n",
       "      <td>-0.057285</td>\n",
       "      <td>0.752842</td>\n",
       "      <td>...</td>\n",
       "      <td>-0.269484</td>\n",
       "      <td>0.259173</td>\n",
       "      <td>0.165292</td>\n",
       "      <td>0.457791</td>\n",
       "      <td>-0.619369</td>\n",
       "      <td>-0.395139</td>\n",
       "      <td>0.674966</td>\n",
       "      <td>0.759033</td>\n",
       "      <td>0.029362</td>\n",
       "      <td>0.820373</td>\n",
       "    </tr>\n",
       "    <tr>\n",
       "      <th>2</th>\n",
       "      <td>4.320306</td>\n",
       "      <td>-5.650859</td>\n",
       "      <td>-1.901587</td>\n",
       "      <td>-0.833684</td>\n",
       "      <td>2.384688</td>\n",
       "      <td>0.281164</td>\n",
       "      <td>-0.046728</td>\n",
       "      <td>0.101988</td>\n",
       "      <td>0.229895</td>\n",
       "      <td>-0.040158</td>\n",
       "      <td>...</td>\n",
       "      <td>0.365414</td>\n",
       "      <td>0.145728</td>\n",
       "      <td>0.480504</td>\n",
       "      <td>-1.067460</td>\n",
       "      <td>-0.087104</td>\n",
       "      <td>0.057085</td>\n",
       "      <td>-0.470297</td>\n",
       "      <td>-0.251342</td>\n",
       "      <td>0.698842</td>\n",
       "      <td>-0.580553</td>\n",
       "    </tr>\n",
       "    <tr>\n",
       "      <th>3</th>\n",
       "      <td>2.928293</td>\n",
       "      <td>1.632387</td>\n",
       "      <td>4.603475</td>\n",
       "      <td>-4.587685</td>\n",
       "      <td>-0.836110</td>\n",
       "      <td>1.631155</td>\n",
       "      <td>-0.324822</td>\n",
       "      <td>-0.197626</td>\n",
       "      <td>-0.342593</td>\n",
       "      <td>-0.774271</td>\n",
       "      <td>...</td>\n",
       "      <td>0.571436</td>\n",
       "      <td>1.327779</td>\n",
       "      <td>-1.142102</td>\n",
       "      <td>1.405676</td>\n",
       "      <td>0.053132</td>\n",
       "      <td>-0.132316</td>\n",
       "      <td>0.591607</td>\n",
       "      <td>1.315818</td>\n",
       "      <td>-0.753445</td>\n",
       "      <td>0.945706</td>\n",
       "    </tr>\n",
       "    <tr>\n",
       "      <th>4</th>\n",
       "      <td>-1.138958</td>\n",
       "      <td>-1.249281</td>\n",
       "      <td>-0.490809</td>\n",
       "      <td>-0.088124</td>\n",
       "      <td>1.537640</td>\n",
       "      <td>0.867687</td>\n",
       "      <td>0.470346</td>\n",
       "      <td>0.068450</td>\n",
       "      <td>-0.063009</td>\n",
       "      <td>-0.312089</td>\n",
       "      <td>...</td>\n",
       "      <td>0.188648</td>\n",
       "      <td>-0.323747</td>\n",
       "      <td>0.474021</td>\n",
       "      <td>-0.757527</td>\n",
       "      <td>-0.177819</td>\n",
       "      <td>-0.181980</td>\n",
       "      <td>0.002788</td>\n",
       "      <td>-0.083526</td>\n",
       "      <td>-0.596069</td>\n",
       "      <td>-0.598217</td>\n",
       "    </tr>\n",
       "    <tr>\n",
       "      <th>...</th>\n",
       "      <td>...</td>\n",
       "      <td>...</td>\n",
       "      <td>...</td>\n",
       "      <td>...</td>\n",
       "      <td>...</td>\n",
       "      <td>...</td>\n",
       "      <td>...</td>\n",
       "      <td>...</td>\n",
       "      <td>...</td>\n",
       "      <td>...</td>\n",
       "      <td>...</td>\n",
       "      <td>...</td>\n",
       "      <td>...</td>\n",
       "      <td>...</td>\n",
       "      <td>...</td>\n",
       "      <td>...</td>\n",
       "      <td>...</td>\n",
       "      <td>...</td>\n",
       "      <td>...</td>\n",
       "      <td>...</td>\n",
       "      <td>...</td>\n",
       "    </tr>\n",
       "    <tr>\n",
       "      <th>7995</th>\n",
       "      <td>0.630008</td>\n",
       "      <td>-2.359242</td>\n",
       "      <td>-2.079336</td>\n",
       "      <td>-0.958393</td>\n",
       "      <td>1.207036</td>\n",
       "      <td>0.751682</td>\n",
       "      <td>0.969271</td>\n",
       "      <td>-0.037004</td>\n",
       "      <td>-0.377921</td>\n",
       "      <td>0.011415</td>\n",
       "      <td>...</td>\n",
       "      <td>-0.143468</td>\n",
       "      <td>-1.038568</td>\n",
       "      <td>3.001965</td>\n",
       "      <td>-0.510445</td>\n",
       "      <td>-1.187961</td>\n",
       "      <td>-0.425068</td>\n",
       "      <td>-1.101103</td>\n",
       "      <td>-1.160065</td>\n",
       "      <td>0.891376</td>\n",
       "      <td>0.302592</td>\n",
       "    </tr>\n",
       "    <tr>\n",
       "      <th>7996</th>\n",
       "      <td>-1.707168</td>\n",
       "      <td>-1.098791</td>\n",
       "      <td>1.328928</td>\n",
       "      <td>-2.665047</td>\n",
       "      <td>-0.846321</td>\n",
       "      <td>0.374111</td>\n",
       "      <td>-1.220293</td>\n",
       "      <td>-0.334198</td>\n",
       "      <td>0.011252</td>\n",
       "      <td>-0.186074</td>\n",
       "      <td>...</td>\n",
       "      <td>-0.091641</td>\n",
       "      <td>-0.034041</td>\n",
       "      <td>-0.076948</td>\n",
       "      <td>0.562017</td>\n",
       "      <td>-0.456544</td>\n",
       "      <td>0.736344</td>\n",
       "      <td>-0.336560</td>\n",
       "      <td>0.452452</td>\n",
       "      <td>-0.411545</td>\n",
       "      <td>0.046760</td>\n",
       "    </tr>\n",
       "    <tr>\n",
       "      <th>7997</th>\n",
       "      <td>-1.042150</td>\n",
       "      <td>0.763288</td>\n",
       "      <td>2.602068</td>\n",
       "      <td>-1.840042</td>\n",
       "      <td>1.778293</td>\n",
       "      <td>-0.919255</td>\n",
       "      <td>-1.283693</td>\n",
       "      <td>-0.344463</td>\n",
       "      <td>-0.429571</td>\n",
       "      <td>-0.299508</td>\n",
       "      <td>...</td>\n",
       "      <td>0.397999</td>\n",
       "      <td>0.757451</td>\n",
       "      <td>-0.209372</td>\n",
       "      <td>0.027293</td>\n",
       "      <td>0.881446</td>\n",
       "      <td>-0.276007</td>\n",
       "      <td>0.333717</td>\n",
       "      <td>0.803618</td>\n",
       "      <td>0.170651</td>\n",
       "      <td>-0.234358</td>\n",
       "    </tr>\n",
       "    <tr>\n",
       "      <th>7998</th>\n",
       "      <td>7.238560</td>\n",
       "      <td>-1.005207</td>\n",
       "      <td>-3.600543</td>\n",
       "      <td>0.788218</td>\n",
       "      <td>0.171086</td>\n",
       "      <td>0.809019</td>\n",
       "      <td>-1.355757</td>\n",
       "      <td>-0.205063</td>\n",
       "      <td>0.021189</td>\n",
       "      <td>-0.166346</td>\n",
       "      <td>...</td>\n",
       "      <td>0.048265</td>\n",
       "      <td>-0.088403</td>\n",
       "      <td>-0.388746</td>\n",
       "      <td>-1.809602</td>\n",
       "      <td>1.316712</td>\n",
       "      <td>-1.394212</td>\n",
       "      <td>0.675674</td>\n",
       "      <td>0.774860</td>\n",
       "      <td>-0.325662</td>\n",
       "      <td>0.134823</td>\n",
       "    </tr>\n",
       "    <tr>\n",
       "      <th>7999</th>\n",
       "      <td>3.126858</td>\n",
       "      <td>-3.485587</td>\n",
       "      <td>-2.365911</td>\n",
       "      <td>0.297583</td>\n",
       "      <td>2.065779</td>\n",
       "      <td>0.020022</td>\n",
       "      <td>-0.842665</td>\n",
       "      <td>-0.169263</td>\n",
       "      <td>0.388975</td>\n",
       "      <td>-0.198354</td>\n",
       "      <td>...</td>\n",
       "      <td>-0.433176</td>\n",
       "      <td>-0.829944</td>\n",
       "      <td>1.178219</td>\n",
       "      <td>0.292241</td>\n",
       "      <td>-0.661773</td>\n",
       "      <td>0.013731</td>\n",
       "      <td>-0.740728</td>\n",
       "      <td>0.341510</td>\n",
       "      <td>0.950242</td>\n",
       "      <td>-0.001471</td>\n",
       "    </tr>\n",
       "  </tbody>\n",
       "</table>\n",
       "<p>8000 rows × 30 columns</p>\n",
       "</div>"
      ],
      "text/plain": [
       "            0         1         2         3         4         5         6   \\\n",
       "0     6.428269  2.682757  2.250459 -9.312073  2.971323  0.415720 -1.793187   \n",
       "1    -1.391119  0.067291 -2.080221 -0.379659 -1.292834 -0.972226  0.075933   \n",
       "2     4.320306 -5.650859 -1.901587 -0.833684  2.384688  0.281164 -0.046728   \n",
       "3     2.928293  1.632387  4.603475 -4.587685 -0.836110  1.631155 -0.324822   \n",
       "4    -1.138958 -1.249281 -0.490809 -0.088124  1.537640  0.867687  0.470346   \n",
       "...        ...       ...       ...       ...       ...       ...       ...   \n",
       "7995  0.630008 -2.359242 -2.079336 -0.958393  1.207036  0.751682  0.969271   \n",
       "7996 -1.707168 -1.098791  1.328928 -2.665047 -0.846321  0.374111 -1.220293   \n",
       "7997 -1.042150  0.763288  2.602068 -1.840042  1.778293 -0.919255 -1.283693   \n",
       "7998  7.238560 -1.005207 -3.600543  0.788218  0.171086  0.809019 -1.355757   \n",
       "7999  3.126858 -3.485587 -2.365911  0.297583  2.065779  0.020022 -0.842665   \n",
       "\n",
       "            7         8         9   ...        20        21        22  \\\n",
       "0    -0.414958 -0.453026 -0.175107  ... -0.348739 -0.276006 -0.092312   \n",
       "1     0.057728 -0.057285  0.752842  ... -0.269484  0.259173  0.165292   \n",
       "2     0.101988  0.229895 -0.040158  ...  0.365414  0.145728  0.480504   \n",
       "3    -0.197626 -0.342593 -0.774271  ...  0.571436  1.327779 -1.142102   \n",
       "4     0.068450 -0.063009 -0.312089  ...  0.188648 -0.323747  0.474021   \n",
       "...        ...       ...       ...  ...       ...       ...       ...   \n",
       "7995 -0.037004 -0.377921  0.011415  ... -0.143468 -1.038568  3.001965   \n",
       "7996 -0.334198  0.011252 -0.186074  ... -0.091641 -0.034041 -0.076948   \n",
       "7997 -0.344463 -0.429571 -0.299508  ...  0.397999  0.757451 -0.209372   \n",
       "7998 -0.205063  0.021189 -0.166346  ...  0.048265 -0.088403 -0.388746   \n",
       "7999 -0.169263  0.388975 -0.198354  ... -0.433176 -0.829944  1.178219   \n",
       "\n",
       "            23        24        25        26        27        28        29  \n",
       "0    -0.837216  0.580908  0.826411  0.066176  1.204172  0.065714 -0.053473  \n",
       "1     0.457791 -0.619369 -0.395139  0.674966  0.759033  0.029362  0.820373  \n",
       "2    -1.067460 -0.087104  0.057085 -0.470297 -0.251342  0.698842 -0.580553  \n",
       "3     1.405676  0.053132 -0.132316  0.591607  1.315818 -0.753445  0.945706  \n",
       "4    -0.757527 -0.177819 -0.181980  0.002788 -0.083526 -0.596069 -0.598217  \n",
       "...        ...       ...       ...       ...       ...       ...       ...  \n",
       "7995 -0.510445 -1.187961 -0.425068 -1.101103 -1.160065  0.891376  0.302592  \n",
       "7996  0.562017 -0.456544  0.736344 -0.336560  0.452452 -0.411545  0.046760  \n",
       "7997  0.027293  0.881446 -0.276007  0.333717  0.803618  0.170651 -0.234358  \n",
       "7998 -1.809602  1.316712 -1.394212  0.675674  0.774860 -0.325662  0.134823  \n",
       "7999  0.292241 -0.661773  0.013731 -0.740728  0.341510  0.950242 -0.001471  \n",
       "\n",
       "[8000 rows x 30 columns]"
      ]
     },
     "execution_count": 477,
     "metadata": {},
     "output_type": "execute_result"
    }
   ],
   "source": [
    "pd.DataFrame(X_train_continous)"
   ]
  },
  {
   "cell_type": "code",
   "execution_count": 478,
   "metadata": {},
   "outputs": [
    {
     "data": {
      "text/plain": [
       "array([[0, 0, 0, ..., 0, 0, 1],\n",
       "       [1, 0, 0, ..., 0, 0, 0],\n",
       "       [1, 0, 0, ..., 0, 0, 0],\n",
       "       ...,\n",
       "       [0, 0, 0, ..., 0, 1, 0],\n",
       "       [1, 0, 0, ..., 0, 0, 0],\n",
       "       [1, 0, 0, ..., 0, 0, 0]], dtype=uint8)"
      ]
     },
     "execution_count": 478,
     "metadata": {},
     "output_type": "execute_result"
    }
   ],
   "source": [
    "X_train_KBest.values"
   ]
  },
  {
   "cell_type": "code",
   "execution_count": 479,
   "metadata": {},
   "outputs": [
    {
     "data": {
      "text/html": [
       "<div>\n",
       "<style scoped>\n",
       "    .dataframe tbody tr th:only-of-type {\n",
       "        vertical-align: middle;\n",
       "    }\n",
       "\n",
       "    .dataframe tbody tr th {\n",
       "        vertical-align: top;\n",
       "    }\n",
       "\n",
       "    .dataframe thead th {\n",
       "        text-align: right;\n",
       "    }\n",
       "</style>\n",
       "<table border=\"1\" class=\"dataframe\">\n",
       "  <thead>\n",
       "    <tr style=\"text-align: right;\">\n",
       "      <th></th>\n",
       "      <th>0</th>\n",
       "      <th>1</th>\n",
       "      <th>2</th>\n",
       "      <th>3</th>\n",
       "      <th>4</th>\n",
       "      <th>5</th>\n",
       "      <th>6</th>\n",
       "      <th>7</th>\n",
       "      <th>8</th>\n",
       "      <th>9</th>\n",
       "      <th>...</th>\n",
       "      <th>10</th>\n",
       "      <th>11</th>\n",
       "      <th>12</th>\n",
       "      <th>13</th>\n",
       "      <th>14</th>\n",
       "      <th>15</th>\n",
       "      <th>16</th>\n",
       "      <th>17</th>\n",
       "      <th>18</th>\n",
       "      <th>19</th>\n",
       "    </tr>\n",
       "  </thead>\n",
       "  <tbody>\n",
       "    <tr>\n",
       "      <th>0</th>\n",
       "      <td>6.428269</td>\n",
       "      <td>2.682757</td>\n",
       "      <td>2.250459</td>\n",
       "      <td>-9.312073</td>\n",
       "      <td>2.971323</td>\n",
       "      <td>0.415720</td>\n",
       "      <td>-1.793187</td>\n",
       "      <td>-0.414958</td>\n",
       "      <td>-0.453026</td>\n",
       "      <td>-0.175107</td>\n",
       "      <td>...</td>\n",
       "      <td>0</td>\n",
       "      <td>0</td>\n",
       "      <td>0</td>\n",
       "      <td>0</td>\n",
       "      <td>0</td>\n",
       "      <td>0</td>\n",
       "      <td>0</td>\n",
       "      <td>0</td>\n",
       "      <td>0</td>\n",
       "      <td>1</td>\n",
       "    </tr>\n",
       "    <tr>\n",
       "      <th>1</th>\n",
       "      <td>-1.391119</td>\n",
       "      <td>0.067291</td>\n",
       "      <td>-2.080221</td>\n",
       "      <td>-0.379659</td>\n",
       "      <td>-1.292834</td>\n",
       "      <td>-0.972226</td>\n",
       "      <td>0.075933</td>\n",
       "      <td>0.057728</td>\n",
       "      <td>-0.057285</td>\n",
       "      <td>0.752842</td>\n",
       "      <td>...</td>\n",
       "      <td>0</td>\n",
       "      <td>0</td>\n",
       "      <td>0</td>\n",
       "      <td>1</td>\n",
       "      <td>0</td>\n",
       "      <td>0</td>\n",
       "      <td>0</td>\n",
       "      <td>0</td>\n",
       "      <td>0</td>\n",
       "      <td>0</td>\n",
       "    </tr>\n",
       "    <tr>\n",
       "      <th>2</th>\n",
       "      <td>4.320306</td>\n",
       "      <td>-5.650859</td>\n",
       "      <td>-1.901587</td>\n",
       "      <td>-0.833684</td>\n",
       "      <td>2.384688</td>\n",
       "      <td>0.281164</td>\n",
       "      <td>-0.046728</td>\n",
       "      <td>0.101988</td>\n",
       "      <td>0.229895</td>\n",
       "      <td>-0.040158</td>\n",
       "      <td>...</td>\n",
       "      <td>0</td>\n",
       "      <td>0</td>\n",
       "      <td>0</td>\n",
       "      <td>1</td>\n",
       "      <td>0</td>\n",
       "      <td>0</td>\n",
       "      <td>0</td>\n",
       "      <td>0</td>\n",
       "      <td>0</td>\n",
       "      <td>0</td>\n",
       "    </tr>\n",
       "    <tr>\n",
       "      <th>3</th>\n",
       "      <td>2.928293</td>\n",
       "      <td>1.632387</td>\n",
       "      <td>4.603475</td>\n",
       "      <td>-4.587685</td>\n",
       "      <td>-0.836110</td>\n",
       "      <td>1.631155</td>\n",
       "      <td>-0.324822</td>\n",
       "      <td>-0.197626</td>\n",
       "      <td>-0.342593</td>\n",
       "      <td>-0.774271</td>\n",
       "      <td>...</td>\n",
       "      <td>0</td>\n",
       "      <td>0</td>\n",
       "      <td>1</td>\n",
       "      <td>0</td>\n",
       "      <td>0</td>\n",
       "      <td>0</td>\n",
       "      <td>0</td>\n",
       "      <td>0</td>\n",
       "      <td>0</td>\n",
       "      <td>0</td>\n",
       "    </tr>\n",
       "    <tr>\n",
       "      <th>4</th>\n",
       "      <td>-1.138958</td>\n",
       "      <td>-1.249281</td>\n",
       "      <td>-0.490809</td>\n",
       "      <td>-0.088124</td>\n",
       "      <td>1.537640</td>\n",
       "      <td>0.867687</td>\n",
       "      <td>0.470346</td>\n",
       "      <td>0.068450</td>\n",
       "      <td>-0.063009</td>\n",
       "      <td>-0.312089</td>\n",
       "      <td>...</td>\n",
       "      <td>0</td>\n",
       "      <td>0</td>\n",
       "      <td>0</td>\n",
       "      <td>1</td>\n",
       "      <td>0</td>\n",
       "      <td>0</td>\n",
       "      <td>0</td>\n",
       "      <td>0</td>\n",
       "      <td>0</td>\n",
       "      <td>0</td>\n",
       "    </tr>\n",
       "    <tr>\n",
       "      <th>...</th>\n",
       "      <td>...</td>\n",
       "      <td>...</td>\n",
       "      <td>...</td>\n",
       "      <td>...</td>\n",
       "      <td>...</td>\n",
       "      <td>...</td>\n",
       "      <td>...</td>\n",
       "      <td>...</td>\n",
       "      <td>...</td>\n",
       "      <td>...</td>\n",
       "      <td>...</td>\n",
       "      <td>...</td>\n",
       "      <td>...</td>\n",
       "      <td>...</td>\n",
       "      <td>...</td>\n",
       "      <td>...</td>\n",
       "      <td>...</td>\n",
       "      <td>...</td>\n",
       "      <td>...</td>\n",
       "      <td>...</td>\n",
       "      <td>...</td>\n",
       "    </tr>\n",
       "    <tr>\n",
       "      <th>7995</th>\n",
       "      <td>0.630008</td>\n",
       "      <td>-2.359242</td>\n",
       "      <td>-2.079336</td>\n",
       "      <td>-0.958393</td>\n",
       "      <td>1.207036</td>\n",
       "      <td>0.751682</td>\n",
       "      <td>0.969271</td>\n",
       "      <td>-0.037004</td>\n",
       "      <td>-0.377921</td>\n",
       "      <td>0.011415</td>\n",
       "      <td>...</td>\n",
       "      <td>1</td>\n",
       "      <td>0</td>\n",
       "      <td>0</td>\n",
       "      <td>1</td>\n",
       "      <td>0</td>\n",
       "      <td>0</td>\n",
       "      <td>0</td>\n",
       "      <td>0</td>\n",
       "      <td>0</td>\n",
       "      <td>0</td>\n",
       "    </tr>\n",
       "    <tr>\n",
       "      <th>7996</th>\n",
       "      <td>-1.707168</td>\n",
       "      <td>-1.098791</td>\n",
       "      <td>1.328928</td>\n",
       "      <td>-2.665047</td>\n",
       "      <td>-0.846321</td>\n",
       "      <td>0.374111</td>\n",
       "      <td>-1.220293</td>\n",
       "      <td>-0.334198</td>\n",
       "      <td>0.011252</td>\n",
       "      <td>-0.186074</td>\n",
       "      <td>...</td>\n",
       "      <td>0</td>\n",
       "      <td>0</td>\n",
       "      <td>0</td>\n",
       "      <td>0</td>\n",
       "      <td>0</td>\n",
       "      <td>0</td>\n",
       "      <td>0</td>\n",
       "      <td>0</td>\n",
       "      <td>0</td>\n",
       "      <td>0</td>\n",
       "    </tr>\n",
       "    <tr>\n",
       "      <th>7997</th>\n",
       "      <td>-1.042150</td>\n",
       "      <td>0.763288</td>\n",
       "      <td>2.602068</td>\n",
       "      <td>-1.840042</td>\n",
       "      <td>1.778293</td>\n",
       "      <td>-0.919255</td>\n",
       "      <td>-1.283693</td>\n",
       "      <td>-0.344463</td>\n",
       "      <td>-0.429571</td>\n",
       "      <td>-0.299508</td>\n",
       "      <td>...</td>\n",
       "      <td>0</td>\n",
       "      <td>0</td>\n",
       "      <td>1</td>\n",
       "      <td>0</td>\n",
       "      <td>0</td>\n",
       "      <td>0</td>\n",
       "      <td>0</td>\n",
       "      <td>0</td>\n",
       "      <td>1</td>\n",
       "      <td>0</td>\n",
       "    </tr>\n",
       "    <tr>\n",
       "      <th>7998</th>\n",
       "      <td>7.238560</td>\n",
       "      <td>-1.005207</td>\n",
       "      <td>-3.600543</td>\n",
       "      <td>0.788218</td>\n",
       "      <td>0.171086</td>\n",
       "      <td>0.809019</td>\n",
       "      <td>-1.355757</td>\n",
       "      <td>-0.205063</td>\n",
       "      <td>0.021189</td>\n",
       "      <td>-0.166346</td>\n",
       "      <td>...</td>\n",
       "      <td>0</td>\n",
       "      <td>0</td>\n",
       "      <td>0</td>\n",
       "      <td>1</td>\n",
       "      <td>0</td>\n",
       "      <td>0</td>\n",
       "      <td>0</td>\n",
       "      <td>0</td>\n",
       "      <td>0</td>\n",
       "      <td>0</td>\n",
       "    </tr>\n",
       "    <tr>\n",
       "      <th>7999</th>\n",
       "      <td>3.126858</td>\n",
       "      <td>-3.485587</td>\n",
       "      <td>-2.365911</td>\n",
       "      <td>0.297583</td>\n",
       "      <td>2.065779</td>\n",
       "      <td>0.020022</td>\n",
       "      <td>-0.842665</td>\n",
       "      <td>-0.169263</td>\n",
       "      <td>0.388975</td>\n",
       "      <td>-0.198354</td>\n",
       "      <td>...</td>\n",
       "      <td>0</td>\n",
       "      <td>0</td>\n",
       "      <td>0</td>\n",
       "      <td>1</td>\n",
       "      <td>0</td>\n",
       "      <td>0</td>\n",
       "      <td>0</td>\n",
       "      <td>0</td>\n",
       "      <td>0</td>\n",
       "      <td>0</td>\n",
       "    </tr>\n",
       "  </tbody>\n",
       "</table>\n",
       "<p>8000 rows × 50 columns</p>\n",
       "</div>"
      ],
      "text/plain": [
       "            0         1         2         3         4         5         6   \\\n",
       "0     6.428269  2.682757  2.250459 -9.312073  2.971323  0.415720 -1.793187   \n",
       "1    -1.391119  0.067291 -2.080221 -0.379659 -1.292834 -0.972226  0.075933   \n",
       "2     4.320306 -5.650859 -1.901587 -0.833684  2.384688  0.281164 -0.046728   \n",
       "3     2.928293  1.632387  4.603475 -4.587685 -0.836110  1.631155 -0.324822   \n",
       "4    -1.138958 -1.249281 -0.490809 -0.088124  1.537640  0.867687  0.470346   \n",
       "...        ...       ...       ...       ...       ...       ...       ...   \n",
       "7995  0.630008 -2.359242 -2.079336 -0.958393  1.207036  0.751682  0.969271   \n",
       "7996 -1.707168 -1.098791  1.328928 -2.665047 -0.846321  0.374111 -1.220293   \n",
       "7997 -1.042150  0.763288  2.602068 -1.840042  1.778293 -0.919255 -1.283693   \n",
       "7998  7.238560 -1.005207 -3.600543  0.788218  0.171086  0.809019 -1.355757   \n",
       "7999  3.126858 -3.485587 -2.365911  0.297583  2.065779  0.020022 -0.842665   \n",
       "\n",
       "            7         8         9   ...  10  11  12  13  14  15  16  17  18  \\\n",
       "0    -0.414958 -0.453026 -0.175107  ...   0   0   0   0   0   0   0   0   0   \n",
       "1     0.057728 -0.057285  0.752842  ...   0   0   0   1   0   0   0   0   0   \n",
       "2     0.101988  0.229895 -0.040158  ...   0   0   0   1   0   0   0   0   0   \n",
       "3    -0.197626 -0.342593 -0.774271  ...   0   0   1   0   0   0   0   0   0   \n",
       "4     0.068450 -0.063009 -0.312089  ...   0   0   0   1   0   0   0   0   0   \n",
       "...        ...       ...       ...  ...  ..  ..  ..  ..  ..  ..  ..  ..  ..   \n",
       "7995 -0.037004 -0.377921  0.011415  ...   1   0   0   1   0   0   0   0   0   \n",
       "7996 -0.334198  0.011252 -0.186074  ...   0   0   0   0   0   0   0   0   0   \n",
       "7997 -0.344463 -0.429571 -0.299508  ...   0   0   1   0   0   0   0   0   1   \n",
       "7998 -0.205063  0.021189 -0.166346  ...   0   0   0   1   0   0   0   0   0   \n",
       "7999 -0.169263  0.388975 -0.198354  ...   0   0   0   1   0   0   0   0   0   \n",
       "\n",
       "      19  \n",
       "0      1  \n",
       "1      0  \n",
       "2      0  \n",
       "3      0  \n",
       "4      0  \n",
       "...   ..  \n",
       "7995   0  \n",
       "7996   0  \n",
       "7997   0  \n",
       "7998   0  \n",
       "7999   0  \n",
       "\n",
       "[8000 rows x 50 columns]"
      ]
     },
     "execution_count": 479,
     "metadata": {},
     "output_type": "execute_result"
    }
   ],
   "source": [
    "X_train_pca = pd.concat([pd.DataFrame(X_train_continous), \n",
    "                         pd.DataFrame(X_train_KBest.values)],axis=1)\n",
    "\n",
    "X_test_pca = pd.concat([pd.DataFrame(X_test_continous), \n",
    "                         pd.DataFrame(X_test_KBest.values)],axis=1)\n",
    "\n",
    "\n",
    "X_train_pca"
   ]
  },
  {
   "cell_type": "code",
   "execution_count": 480,
   "metadata": {},
   "outputs": [
    {
     "name": "stderr",
     "output_type": "stream",
     "text": [
      "[Parallel(n_jobs=1)]: Using backend SequentialBackend with 1 concurrent workers.\n",
      "[Parallel(n_jobs=1)]: Done   5 out of   5 | elapsed:    9.6s finished\n"
     ]
    },
    {
     "data": {
      "text/plain": [
       "array([0.9775  , 0.978125, 0.985   , 0.9825  , 0.979375])"
      ]
     },
     "execution_count": 480,
     "metadata": {},
     "output_type": "execute_result"
    }
   ],
   "source": [
    "# fast check if taking k feature is sactifactory using default hyperparameters\n",
    "# from sklearn.tree import DecisionTreeClassifier\n",
    "# from sklearn.model_selection import cross_val_score\n",
    "\n",
    "dtc = DecisionTreeClassifier()\n",
    "rfc = RandomForestClassifier()\n",
    "\n",
    "cross_val_score(rfc, X_train_pca, y_train, cv=5, verbose=1)"
   ]
  },
  {
   "cell_type": "markdown",
   "metadata": {},
   "source": [
    "### Grid Search with Cross Validation\n",
    "- Decision tree model is less complex than random forest, and also faster\n",
    "- So, we jump into grid search CV for decision tree's hyper parameter search."
   ]
  },
  {
   "cell_type": "code",
   "execution_count": 481,
   "metadata": {
    "scrolled": true
   },
   "outputs": [],
   "source": [
    "# from sklearn.model_selection import GridSearchCV\n",
    "# Create the parameter grid based on the results of random search \n",
    "\n",
    "    \n",
    "param_grid = {\n",
    "    'criterion': ['entropy', 'gini'],\n",
    "    'max_depth': [10, 20, 50, 100, None],\n",
    "    'min_samples_leaf': [1, 2],\n",
    "    'min_samples_split': range(1, 10)\n",
    "    \n",
    "}\n",
    "# Create a based model\n",
    "dtc = DecisionTreeClassifier()\n",
    "# Instantiate the grid search model\n",
    "grid_search = GridSearchCV(estimator = dtc, param_grid = param_grid, \n",
    "                          cv = 10, n_jobs = -1, verbose = 0)\n",
    "\n",
    "\n",
    "# Fit the random search model\n",
    "_ = grid_search.fit(X_train_KBest, y_train)"
   ]
  },
  {
   "cell_type": "code",
   "execution_count": 482,
   "metadata": {
    "scrolled": true
   },
   "outputs": [
    {
     "name": "stdout",
     "output_type": "stream",
     "text": [
      "{'criterion': 'gini', 'max_depth': 20, 'min_samples_leaf': 1, 'min_samples_split': 7}\n",
      "-------------------------------------\n",
      "0.96225\n",
      "-------------------------------------\n",
      "DecisionTreeClassifier(ccp_alpha=0.0, class_weight=None, criterion='gini',\n",
      "                       max_depth=20, max_features=None, max_leaf_nodes=None,\n",
      "                       min_impurity_decrease=0.0, min_impurity_split=None,\n",
      "                       min_samples_leaf=1, min_samples_split=7,\n",
      "                       min_weight_fraction_leaf=0.0, presort='deprecated',\n",
      "                       random_state=None, splitter='best')\n",
      "-------------------------------------\n"
     ]
    }
   ],
   "source": [
    "print(grid_search.best_params_)\n",
    "print('-------------------------------------')\n",
    "print(grid_search.best_score_)\n",
    "print('-------------------------------------')\n",
    "print(grid_search.best_estimator_)\n",
    "print('-------------------------------------')\n",
    "# print(grid_search.cv_results_)\n",
    "result_dtc_grid = grid_search.cv_results_"
   ]
  },
  {
   "cell_type": "code",
   "execution_count": 483,
   "metadata": {},
   "outputs": [],
   "source": [
    "#concat two dataframes for better visualization \n",
    "df_result_grid2 = pd.concat([pd.DataFrame(result_dtc_grid['mean_fit_time']),\n",
    "                              pd.DataFrame(result_dtc_grid['mean_test_score'])],axis=1)\n",
    "\n",
    "df_result_grid2.columns = ['mean_fit_time','mean_test_score']  #naming the dataframe columns\n",
    "df_result_grid2['accuracy_time_ratio'] = df_result_grid2['mean_test_score']/df_result_grid2['mean_fit_time']\n",
    "df_result_grid2['params'] = result_dtc_grid['params']\n"
   ]
  },
  {
   "cell_type": "code",
   "execution_count": 484,
   "metadata": {},
   "outputs": [
    {
     "name": "stdout",
     "output_type": "stream",
     "text": [
      "Highest accuracy model is: NO. 114: \n",
      " {'criterion': 'gini', 'max_depth': 20, 'min_samples_leaf': 1, 'min_samples_split': 7}\n",
      "Highest accuracy-time ratio model is: NO. 6: \n",
      " {'criterion': 'entropy', 'max_depth': 10, 'min_samples_leaf': 1, 'min_samples_split': 7}\n"
     ]
    }
   ],
   "source": [
    "# Grid search cv result sumary\n",
    "print(\"Highest accuracy model is: NO. {}: \\n {}\".format(df_result_grid2['mean_test_score'].idxmax(), \n",
    "                                                     df_result_grid2['params'][df_result_grid2['mean_test_score'].idxmax()]))\n",
    "print(\"Highest accuracy-time ratio model is: NO. {}: \\n {}\".format(df_result_grid2['accuracy_time_ratio'].idxmax(), \n",
    "                                                     df_result_grid2['params'][df_result_grid2['accuracy_time_ratio'].idxmax()]))\n"
   ]
  },
  {
   "cell_type": "code",
   "execution_count": 485,
   "metadata": {},
   "outputs": [
    {
     "data": {
      "text/plain": [
       "<matplotlib.legend.Legend at 0x1a40c15ee88>"
      ]
     },
     "execution_count": 485,
     "metadata": {},
     "output_type": "execute_result"
    },
    {
     "data": {
      "image/png": "[encoded data removed]",
      "text/plain": [
       "<Figure size 432x288 with 1 Axes>"
      ]
     },
     "metadata": {},
     "output_type": "display_data"
    }
   ],
   "source": [
    "# visualize the cv result\n",
    "plt.scatter(df_result_grid['mean_fit_time'], df_result_grid['mean_test_score'], c='b', label=\"points\")\n",
    "plt.scatter(df_result_grid['mean_fit_time'][23], df_result_grid['mean_test_score'][23], c='r', s=200, alpha=0.2, label='max accuracy')\n",
    "plt.scatter(df_result_grid['mean_fit_time'][0], df_result_grid['mean_test_score'][0], c='g', s=200, alpha=0.2, label='max ratio')\n",
    "plt.xlabel('mean_fit_time')\n",
    "plt.ylabel('mean_test_score')\n",
    "plt.legend()"
   ]
  },
  {
   "cell_type": "markdown",
   "metadata": {},
   "source": [
    "### Evaluation on the test set (hold-out data)\n",
    "Since the dataset is not very huge. We choose the model with hyperparameters give highest accuracy for evaluation."
   ]
  },
  {
   "cell_type": "code",
   "execution_count": 489,
   "metadata": {},
   "outputs": [],
   "source": [
    "# Create the final RF classifier\n",
    "\n",
    "# parameter = {'n_estimators': 40, \n",
    "#              'min_samples_split': 2,\n",
    "#              'min_samples_leaf': 1,\n",
    "#              'max_features': 'sqrt',\n",
    "#              'max_depth': 36, \n",
    "#              'bootstrap': False}\n",
    "parameter2 = df_result_grid2['params'][df_result_grid2['mean_test_score'].idxmax()]\n",
    "\n",
    "# Create a based model\n",
    "dtc = RandomForestClassifier(**parameter2, random_state=42, verbose=0, n_jobs=-1)\n",
    "_ = dtc.fit(X_train_KBest, y_train)\n"
   ]
  },
  {
   "cell_type": "code",
   "execution_count": 490,
   "metadata": {},
   "outputs": [
    {
     "name": "stdout",
     "output_type": "stream",
     "text": [
      "classification_report\n",
      "                    precision    recall  f1-score   support\n",
      "\n",
      "       Charged Off       0.72      0.72      0.72        85\n",
      "           Current       0.99      1.00      0.99      1578\n",
      "           Default       1.00      1.00      1.00         3\n",
      "        Fully Paid       0.91      0.91      0.91       278\n",
      "   In Grace Period       0.00      0.00      0.00         8\n",
      " Late (16-30 days)       0.00      0.00      0.00        11\n",
      "Late (31-120 days)       1.00      0.97      0.99        38\n",
      "\n",
      "          accuracy                           0.97      2001\n",
      "         macro avg       0.66      0.66      0.66      2001\n",
      "      weighted avg       0.96      0.97      0.96      2001\n",
      "\n",
      "----------------------------\n",
      "accuracy_score\n",
      "0.9655172413793104\n"
     ]
    }
   ],
   "source": [
    "#Import scikit-learn metrics module for accuracy calculation\n",
    "# from sklearn import metrics\n",
    "# from sklearn.metrics import classification_report, confusion_matrix, accuracy_score\n",
    "\n",
    "y_pred2=dtc.predict(X_test_KBest)\n",
    "\n",
    "print('classification_report')\n",
    "print(classification_report(y_test,y_pred2, zero_division=0))\n",
    "print('----------------------------')\n",
    "print('accuracy_score')\n",
    "print(accuracy_score(y_test, y_pred2))"
   ]
  },
  {
   "cell_type": "code",
   "execution_count": 491,
   "metadata": {},
   "outputs": [
    {
     "data": {
      "text/plain": [
       "<matplotlib.collections.LineCollection at 0x1a408e1e9c8>"
      ]
     },
     "execution_count": 491,
     "metadata": {},
     "output_type": "execute_result"
    },
    {
     "data": {
      "image/png": "[encoded data removed]",
      "text/plain": [
       "<Figure size 432x288 with 2 Axes>"
      ]
     },
     "metadata": {},
     "output_type": "display_data"
    }
   ],
   "source": [
    "cf_matrix = confusion_matrix(y_test,y_pred2, labels=y_test.unique())\n",
    "X_axis_labels = y_test.unique()\n",
    "Y_axis_labels = y_test.unique()\n",
    "ax = sns.heatmap(cf_matrix, xticklabels=X_axis_labels, yticklabels=Y_axis_labels, annot=True, fmt=\"d\", cmap=\"YlGnBu\",square=True)\n",
    "plt.xlabel(\"Predicted\")\n",
    "plt.ylabel(\"True\")\n",
    "ax.hlines(np.arange(1,7), *ax.get_xlim())\n",
    "ax.vlines(np.arange(1,7), *ax.get_ylim())"
   ]
  },
  {
   "cell_type": "code",
   "execution_count": null,
   "metadata": {},
   "outputs": [],
   "source": []
  }
 ],
 "metadata": {
  "hide_input": false,
  "kernelspec": {
   "display_name": "Python 3",
   "language": "python",
   "name": "python3"
  },
  "language_info": {
   "codemirror_mode": {
    "name": "ipython",
    "version": 3
   },
   "file_extension": ".py",
   "mimetype": "text/x-python",
   "name": "python",
   "nbconvert_exporter": "python",
   "pygments_lexer": "ipython3",
   "version": "3.7.4"
  },
  "toc": {
   "colors": {
    "hover_highlight": "#DAA520",
    "running_highlight": "#FF0000",
    "selected_highlight": "#FFD700"
   },
   "moveMenuLeft": true,
   "nav_menu": {
    "height": "86px",
    "width": "252px"
   },
   "navigate_menu": true,
   "number_sections": true,
   "sideBar": true,
   "threshold": 4,
   "toc_cell": false,
   "toc_section_display": "block",
   "toc_window_display": false
  },
  "varInspector": {
   "cols": {
    "lenName": 16,
    "lenType": 16,
    "lenVar": 40
   },
   "kernels_config": {
    "python": {
     "delete_cmd_postfix": "",
     "delete_cmd_prefix": "del ",
     "library": "var_list.py",
     "varRefreshCmd": "print(var_dic_list())"
    },
    "r": {
     "delete_cmd_postfix": ") ",
     "delete_cmd_prefix": "rm(",
     "library": "var_list.r",
     "varRefreshCmd": "cat(var_dic_list()) "
    }
   },
   "position": {
    "height": "423.4px",
    "left": "1184px",
    "right": "20px",
    "top": "120px",
    "width": "350px"
   },
   "types_to_exclude": [
    "module",
    "function",
    "builtin_function_or_method",
    "instance",
    "_Feature"
   ],
   "window_display": false
  }
 },
 "nbformat": 4,
 "nbformat_minor": 2
}
