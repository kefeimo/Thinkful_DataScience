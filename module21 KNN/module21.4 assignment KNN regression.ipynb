{
 "cells": [
  {
   "cell_type": "markdown",
   "metadata": {
    "run_control": {
     "frozen": false,
     "read_only": false
    }
   },
   "source": [
    "# Assignment:\n",
    "Why don't you add the other feature and mess around with  𝑘  and weighting to see if you can do any better than we've done so far?"
   ]
  },
  {
   "cell_type": "code",
   "execution_count": 2,
   "metadata": {
    "run_control": {
     "frozen": false,
     "read_only": false
    }
   },
   "outputs": [],
   "source": [
    "import pandas as pd\n",
    "import numpy as np\n",
    "import scipy\n",
    "import matplotlib.pyplot as plt\n",
    "%matplotlib inline\n",
    "\n",
    "from sklearn.model_selection import cross_val_score\n",
    "\n",
    "music = pd.DataFrame()\n",
    "music['duration'] = [184, 134, 243, 186, 122, 197, 294, 382, 102, 264, \n",
    "                     205, 110, 307, 110, 397, 153, 190, 192, 210, 403,\n",
    "                     164, 198, 204, 253, 234, 190, 182, 401, 376, 102]\n",
    "music['loudness'] = [18, 34, 43, 36, 22, 9, 29, 22, 10, 24, \n",
    "                     20, 10, 17, 51, 7, 13, 19, 12, 21, 22,\n",
    "                     16, 18, 4, 23, 34, 19, 14, 11, 37, 42]\n",
    "music['bpm'] = [ 105, 90, 78, 75, 120, 110, 80, 100, 105, 60,\n",
    "                  70, 105, 95, 70, 90, 105, 70, 75, 102, 100,\n",
    "                  100, 95, 90, 80, 90, 80, 100, 105, 70, 65]"
   ]
  },
  {
   "cell_type": "markdown",
   "metadata": {},
   "source": [
    "## Validating KNN\n",
    "\n",
    "Now validating KNN, whether a regression or a classifier, is pretty much exactly the same as evaluating other classifiers or regression. Cross validation is still tremendously valuable. You can do holdouts. You even still get an $R^2$ value for the regression."
   ]
  },
  {
   "cell_type": "code",
   "execution_count": 17,
   "metadata": {},
   "outputs": [
    {
     "name": "stdout",
     "output_type": "stream",
     "text": [
      "k= 1\n",
      "Distance weighted Accuracy: -0.94 (+/- 5.18)\n",
      "k= 2\n",
      "Distance weighted Accuracy: -0.27 (+/- 2.36)\n",
      "k= 3\n",
      "Distance weighted Accuracy: 0.14 (+/- 0.84)\n",
      "k= 4\n",
      "Distance weighted Accuracy: 0.16 (+/- 0.86)\n",
      "k= 5\n",
      "Distance weighted Accuracy: 0.12 (+/- 0.93)\n",
      "k= 6\n",
      "Distance weighted Accuracy: 0.17 (+/- 0.82)\n",
      "k= 7\n",
      "Distance weighted Accuracy: 0.10 (+/- 0.98)\n",
      "k= 8\n",
      "Distance weighted Accuracy: 0.10 (+/- 0.98)\n",
      "k= 9\n",
      "Distance weighted Accuracy: 0.12 (+/- 0.93)\n",
      "k= 10\n",
      "Distance weighted Accuracy: 0.11 (+/- 0.94)\n",
      "k= 11\n",
      "Distance weighted Accuracy: 0.13 (+/- 0.87)\n",
      "k= 12\n",
      "Distance weighted Accuracy: 0.13 (+/- 0.83)\n",
      "k= 13\n",
      "Distance weighted Accuracy: 0.14 (+/- 0.80)\n",
      "k= 14\n",
      "Distance weighted Accuracy: 0.14 (+/- 0.78)\n",
      "k= 15\n",
      "Distance weighted Accuracy: 0.13 (+/- 0.79)\n",
      "k= 16\n",
      "Distance weighted Accuracy: 0.14 (+/- 0.76)\n",
      "k= 17\n",
      "Distance weighted Accuracy: 0.14 (+/- 0.76)\n",
      "k= 18\n",
      "Distance weighted Accuracy: 0.14 (+/- 0.74)\n",
      "k= 19\n",
      "Distance weighted Accuracy: 0.13 (+/- 0.75)\n",
      "k= 20\n",
      "Distance weighted Accuracy: 0.13 (+/- 0.73)\n"
     ]
    }
   ],
   "source": [
    "## Your model here.\n",
    "\n",
    "for k in range(1,21):\n",
    "    knn = neighbors.KNeighborsRegressor(n_neighbors=k, weights='distance')\n",
    "    # X = pd.DataFrame(music.loudness)\n",
    "    X = pd.DataFrame(music[['loudness','duration']] )\n",
    "    Y = music.bpm\n",
    "    knn.fit(X, Y)\n",
    "\n",
    "    score = cross_val_score(knn, X, Y, cv=5)\n",
    "    print(\"k= {}\".format(k))\n",
    "    print(\"Distance weighted Accuracy: %0.2f (+/- %0.2f)\" % (score.mean(), score.std() * 2))\n",
    "\n",
    "\n",
    "# # Set up our prediction line.\n",
    "# T = np.arange(0, 50, 0.1)[:, np.newaxis]\n",
    "\n",
    "# # Trailing underscores are a common convention for a prediction.\n",
    "# Y_ = knn.predict(T)\n",
    "\n",
    "# plt.scatter(X, Y, c='k', label='data')\n",
    "# plt.plot(T, Y_, c='g', label='prediction')\n",
    "# plt.legend()\n",
    "# plt.title('K=10, Unweighted')\n",
    "# plt.show()"
   ]
  },
  {
   "cell_type": "code",
   "execution_count": 16,
   "metadata": {},
   "outputs": [
    {
     "name": "stdout",
     "output_type": "stream",
     "text": [
      "k= 1\n",
      "Unweighted Accuracy: -1.54 (+/- 4.67)\n",
      "k= 2\n",
      "Unweighted Accuracy: -0.52 (+/- 1.10)\n",
      "k= 3\n",
      "Unweighted Accuracy: -0.69 (+/- 1.03)\n",
      "k= 4\n",
      "Unweighted Accuracy: -0.84 (+/- 1.25)\n",
      "k= 5\n",
      "Unweighted Accuracy: -0.75 (+/- 1.16)\n",
      "k= 6\n",
      "Unweighted Accuracy: -0.51 (+/- 0.81)\n",
      "k= 7\n",
      "Unweighted Accuracy: -0.46 (+/- 0.76)\n",
      "k= 8\n",
      "Unweighted Accuracy: -0.49 (+/- 0.79)\n",
      "k= 9\n",
      "Unweighted Accuracy: -0.42 (+/- 0.60)\n",
      "k= 10\n",
      "Unweighted Accuracy: -0.42 (+/- 0.78)\n",
      "k= 11\n",
      "Unweighted Accuracy: -0.38 (+/- 0.73)\n",
      "k= 12\n",
      "Unweighted Accuracy: -0.38 (+/- 0.63)\n",
      "k= 13\n",
      "Unweighted Accuracy: -0.38 (+/- 0.73)\n",
      "k= 14\n",
      "Unweighted Accuracy: -0.34 (+/- 0.75)\n",
      "k= 15\n",
      "Unweighted Accuracy: -0.38 (+/- 0.65)\n",
      "k= 16\n",
      "Unweighted Accuracy: -0.32 (+/- 0.52)\n",
      "k= 17\n",
      "Unweighted Accuracy: -0.31 (+/- 0.42)\n",
      "k= 18\n",
      "Unweighted Accuracy: -0.36 (+/- 0.57)\n",
      "k= 19\n",
      "Unweighted Accuracy: -0.34 (+/- 0.61)\n",
      "k= 20\n",
      "Unweighted Accuracy: -0.32 (+/- 0.59)\n"
     ]
    }
   ],
   "source": [
    "## Your model here.\n",
    "\n",
    "for k in range(1,21):\n",
    "    knn = neighbors.KNeighborsRegressor(n_neighbors=k)\n",
    "    # X = pd.DataFrame(music.loudness)\n",
    "    X = pd.DataFrame(music[['loudness','duration']] )\n",
    "    Y = music.bpm\n",
    "    knn.fit(X, Y)\n",
    "\n",
    "    score = cross_val_score(knn, X, Y, cv=5)\n",
    "    print(\"k= {}\".format(k))\n",
    "    print(\"Unweighted Accuracy: %0.2f (+/- %0.2f)\" % (score.mean(), score.std() * 2))\n"
   ]
  },
  {
   "cell_type": "code",
   "execution_count": 18,
   "metadata": {},
   "outputs": [
    {
     "name": "stdout",
     "output_type": "stream",
     "text": [
      "k= 1\n",
      "Distance weighted Accuracy: -0.94 (+/- 5.18)\n",
      "k= 2\n",
      "Distance weighted Accuracy: -0.27 (+/- 2.36)\n",
      "k= 3\n",
      "Distance weighted Accuracy: 0.14 (+/- 0.84)\n",
      "k= 4\n",
      "Distance weighted Accuracy: 0.16 (+/- 0.86)\n",
      "k= 5\n",
      "Distance weighted Accuracy: 0.12 (+/- 0.93)\n",
      "k= 6\n",
      "Distance weighted Accuracy: 0.17 (+/- 0.82)\n",
      "k= 7\n",
      "Distance weighted Accuracy: 0.10 (+/- 0.98)\n",
      "k= 8\n",
      "Distance weighted Accuracy: 0.10 (+/- 0.98)\n",
      "k= 9\n",
      "Distance weighted Accuracy: 0.12 (+/- 0.93)\n",
      "k= 10\n",
      "Distance weighted Accuracy: 0.11 (+/- 0.94)\n",
      "k= 11\n",
      "Distance weighted Accuracy: 0.13 (+/- 0.87)\n",
      "k= 12\n",
      "Distance weighted Accuracy: 0.13 (+/- 0.83)\n",
      "k= 13\n",
      "Distance weighted Accuracy: 0.14 (+/- 0.80)\n",
      "k= 14\n",
      "Distance weighted Accuracy: 0.14 (+/- 0.78)\n",
      "k= 15\n",
      "Distance weighted Accuracy: 0.13 (+/- 0.79)\n",
      "k= 16\n",
      "Distance weighted Accuracy: 0.14 (+/- 0.76)\n",
      "k= 17\n",
      "Distance weighted Accuracy: 0.14 (+/- 0.76)\n",
      "k= 18\n",
      "Distance weighted Accuracy: 0.14 (+/- 0.74)\n",
      "k= 19\n",
      "Distance weighted Accuracy: 0.13 (+/- 0.75)\n",
      "k= 20\n",
      "Distance weighted Accuracy: 0.13 (+/- 0.73)\n"
     ]
    }
   ],
   "source": [
    "# orginial feature\n",
    "\n",
    "## Your model here.\n",
    "\n",
    "for k in range(1,21):\n",
    "    knn = neighbors.KNeighborsRegressor(n_neighbors=k, weights='distance')\n",
    "    # X = pd.DataFrame(music.loudness)\n",
    "    X = pd.DataFrame(music[['loudness']] )\n",
    "    Y = music.bpm\n",
    "    knn.fit(X, Y)\n",
    "\n",
    "    score = cross_val_score(knn, X, Y, cv=5)\n",
    "    print(\"k= {}\".format(k))\n",
    "    print(\"Distance weighted Accuracy: %0.2f (+/- %0.2f)\" % (score.mean(), score.std() * 2))\n",
    "\n",
    "\n",
    "# # Set up our prediction line.\n",
    "# T = np.arange(0, 50, 0.1)[:, np.newaxis]\n",
    "\n",
    "# # Trailing underscores are a common convention for a prediction.\n",
    "# Y_ = knn.predict(T)\n",
    "\n",
    "# plt.scatter(X, Y, c='k', label='data')\n",
    "# plt.plot(T, Y_, c='g', label='prediction')\n",
    "# plt.legend()\n",
    "# plt.title('K=10, Unweighted')\n",
    "# plt.show()"
   ]
  },
  {
   "cell_type": "markdown",
   "metadata": {},
   "source": [
    "### conclusion\n",
    "- We used cross-validation R^2-score to evaluate the performance\n",
    "- We compared the performance of different k value, range from k=1 to k=20. (The mean R^2 score increase, though still very bad, while the standard deviation of R^2 score decrease.)\n",
    "- When adding 'duration' feature the performance got even worse. i.e. the mean R^2 score is lower than only considering 'loudness' feature."
   ]
  },
  {
   "cell_type": "code",
   "execution_count": null,
   "metadata": {},
   "outputs": [],
   "source": []
  }
 ],
 "metadata": {
  "hide_input": false,
  "kernelspec": {
   "display_name": "Python 3",
   "language": "python",
   "name": "python3"
  },
  "language_info": {
   "codemirror_mode": {
    "name": "ipython",
    "version": 3
   },
   "file_extension": ".py",
   "mimetype": "text/x-python",
   "name": "python",
   "nbconvert_exporter": "python",
   "pygments_lexer": "ipython3",
   "version": "3.7.4"
  },
  "toc": {
   "colors": {
    "hover_highlight": "#DAA520",
    "running_highlight": "#FF0000",
    "selected_highlight": "#FFD700"
   },
   "moveMenuLeft": true,
   "nav_menu": {
    "height": "86px",
    "width": "252px"
   },
   "navigate_menu": true,
   "number_sections": true,
   "sideBar": true,
   "threshold": 4,
   "toc_cell": false,
   "toc_section_display": "block",
   "toc_window_display": false
  },
  "varInspector": {
   "cols": {
    "lenName": 16,
    "lenType": 16,
    "lenVar": 40
   },
   "kernels_config": {
    "python": {
     "delete_cmd_postfix": "",
     "delete_cmd_prefix": "del ",
     "library": "var_list.py",
     "varRefreshCmd": "print(var_dic_list())"
    },
    "r": {
     "delete_cmd_postfix": ") ",
     "delete_cmd_prefix": "rm(",
     "library": "var_list.r",
     "varRefreshCmd": "cat(var_dic_list()) "
    }
   },
   "position": {
    "height": "542.4px",
    "left": "1149.2px",
    "right": "20px",
    "top": "117px",
    "width": "350px"
   },
   "types_to_exclude": [
    "module",
    "function",
    "builtin_function_or_method",
    "instance",
    "_Feature"
   ],
   "window_display": false
  }
 },
 "nbformat": 4,
 "nbformat_minor": 2
}
