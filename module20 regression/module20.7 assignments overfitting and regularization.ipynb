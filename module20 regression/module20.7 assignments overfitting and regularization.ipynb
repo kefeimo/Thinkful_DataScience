{
 "cells": [
  {
   "cell_type": "markdown",
   "metadata": {},
   "source": [
    "# Assignment\n",
    "In this assignment, you'll continue working with the house prices data. To complete this assignment, submit a link to a Jupyter notebook containing your solutions to the following tasks:\n",
    "\n",
    "- Load the houseprices data from Thinkful's database.\n",
    "- Reimplement your model from the previous checkpoint.\n",
    "- Try OLS, Lasso, Ridge, and ElasticNet regression using the same model specification. This time, you need to do k-fold cross-validation to choose the best hyperparameter values for your models. Scikit-learn has RidgeCV, LassoCV, and ElasticNetCV that you can utilize to do this. Which model is the best? Why?"
   ]
  },
  {
   "cell_type": "code",
   "execution_count": 1,
   "metadata": {},
   "outputs": [],
   "source": [
    "import matplotlib.pyplot as plt\n",
    "import numpy as np\n",
    "import pandas as pd\n",
    "from sklearn.linear_model import LinearRegression\n",
    "from sklearn.model_selection import train_test_split\n",
    "from sklearn.metrics import mean_absolute_error\n",
    "import statsmodels.api as sm\n",
    "from statsmodels.tools.eval_measures import mse, rmse\n",
    "from sqlalchemy import create_engine\n",
    "\n",
    "# Display preferences.\n",
    "%matplotlib inline\n",
    "pd.options.display.float_format = '{:.3f}'.format\n",
    "\n",
    "import warnings\n",
    "warnings.filterwarnings(action=\"ignore\")"
   ]
  },
  {
   "cell_type": "code",
   "execution_count": 2,
   "metadata": {},
   "outputs": [],
   "source": [
    "postgres_user = 'dsbc_student'\n",
    "postgres_pw = '7*.8G9QH21'\n",
    "postgres_host = '142.93.121.174'\n",
    "postgres_port = '5432'\n",
    "postgres_db = 'houseprices'"
   ]
  },
  {
   "cell_type": "code",
   "execution_count": 3,
   "metadata": {},
   "outputs": [],
   "source": [
    "engine = create_engine('postgresql://{}:{}@{}:{}/{}'.format(\n",
    "    postgres_user, postgres_pw, postgres_host, postgres_port, postgres_db))\n",
    "df = pd.read_sql_query('select * from houseprices',con=engine)\n",
    "\n",
    "# no need for an open connection, as we're only doing a single query\n",
    "engine.dispose()\n",
    "\n",
    "\n",
    "# get rid of the columns with nan. (since we don't need that many features)\n",
    "df_drop = df.copy()\n",
    "for col in df_drop.columns:\n",
    "    if df_drop[col].isna().any():\n",
    "#         print(col)\n",
    "        df_drop = df_drop.drop(columns=col)\n",
    "    \n",
    "    \n",
    "# in this practice, let's just take two categorical variables, I picked \"street\", \"lotshape\"\n",
    "# Encode character string categorical data into numeric data using one hot encoding\n",
    "df_encoded = pd.concat([df_drop, pd.get_dummies(df_drop[\"street\"], drop_first=True)], axis=1)\n",
    "df_encoded = pd.concat([df_encoded, pd.get_dummies(df_encoded[\"lotshape\"], drop_first=True)], axis=1)\n",
    "\n"
   ]
  },
  {
   "cell_type": "code",
   "execution_count": 10,
   "metadata": {},
   "outputs": [
    {
     "name": "stdout",
     "output_type": "stream",
     "text": [
      "The number of observations in training set is 1168\n",
      "The number of observations in test set is 292\n",
      "                            OLS Regression Results                            \n",
      "==============================================================================\n",
      "Dep. Variable:              saleprice   R-squared:                       0.331\n",
      "Model:                            OLS   Adj. R-squared:                  0.330\n",
      "Method:                 Least Squares   F-statistic:                     288.4\n",
      "Date:                Tue, 04 Feb 2020   Prob (F-statistic):          1.76e-102\n",
      "Time:                        11:42:21   Log-Likelihood:                -14591.\n",
      "No. Observations:                1168   AIC:                         2.919e+04\n",
      "Df Residuals:                    1165   BIC:                         2.920e+04\n",
      "Df Model:                           2                                         \n",
      "Covariance Type:            nonrobust                                         \n",
      "==============================================================================\n",
      "                 coef    std err          t      P>|t|      [0.025      0.975]\n",
      "------------------------------------------------------------------------------\n",
      "const      -2.459e+06   1.23e+05    -19.977      0.000    -2.7e+06   -2.22e+06\n",
      "lotarea        1.9143      0.175     10.914      0.000       1.570       2.258\n",
      "yearbuilt   1328.7175     62.445     21.278      0.000    1206.199    1451.236\n",
      "==============================================================================\n",
      "Omnibus:                      537.023   Durbin-Watson:                   1.940\n",
      "Prob(Omnibus):                  0.000   Jarque-Bera (JB):             3974.861\n",
      "Skew:                           1.976   Prob(JB):                         0.00\n",
      "Kurtosis:                      11.127   Cond. No.                     9.91e+05\n",
      "==============================================================================\n",
      "\n",
      "Warnings:\n",
      "[1] Standard Errors assume that the covariance matrix of the errors is correctly specified.\n",
      "[2] The condition number is large, 9.91e+05. This might indicate that there are\n",
      "strong multicollinearity or other numerical problems.\n"
     ]
    },
    {
     "data": {
      "image/png": "[encoded data removed]",
      "text/plain": [
       "<Figure size 432x288 with 1 Axes>"
      ]
     },
     "metadata": {
      "needs_background": "light"
     },
     "output_type": "display_data"
    },
    {
     "name": "stdout",
     "output_type": "stream",
     "text": [
      "Mean absolute error of the prediction is: 42758.190059963665\n",
      "Mean squared error of the prediction is: 4258385006.6042933\n",
      "Root mean squared error of the prediction is: 65256.30242822752\n",
      "Mean absolute percentage error of the prediction is: 25.01874903370775\n"
     ]
    }
   ],
   "source": [
    "# build the linear regression model\n",
    "# use statsmodels, \n",
    "# OLS\n",
    "\n",
    "# Y is the target variable\n",
    "Y = df_drop['saleprice']\n",
    "# X is the feature set which includes\n",
    "# is_male and is_smoker variables\n",
    "X = df_drop[['lotarea', 'yearbuilt']]\n",
    "\n",
    "\n",
    "# split\n",
    "X_train, X_test, y_train, y_test = train_test_split(X, Y, test_size = 0.2, random_state = 465)\n",
    "\n",
    "print(\"The number of observations in training set is {}\".format(X_train.shape[0]))\n",
    "print(\"The number of observations in test set is {}\".format(X_test.shape[0]))\n",
    "\n",
    "\n",
    "\n",
    "X_train_w_constant = sm.add_constant(X_train)\n",
    "results = sm.OLS(y_train, X_train_w_constant).fit()\n",
    "print(results.summary())\n",
    "\n",
    "\n",
    "# evaluation using test set\n",
    "X_test_w_constant = sm.add_constant(X_test)\n",
    "\n",
    "# We are making predictions here\n",
    "y_preds = results.predict(X_test_w_constant)\n",
    "\n",
    "plt.scatter(y_test, y_preds)\n",
    "plt.plot(y_test, y_test, color=\"red\")\n",
    "plt.xlabel(\"true values\")\n",
    "plt.ylabel(\"predicted values\")\n",
    "plt.title(\"Charges: true and predicted values\")\n",
    "plt.show()\n",
    "\n",
    "print(\"Mean absolute error of the prediction is: {}\".format(mean_absolute_error(y_test, y_preds)))\n",
    "print(\"Mean squared error of the prediction is: {}\".format(mse(y_test, y_preds)))\n",
    "print(\"Root mean squared error of the prediction is: {}\".format(rmse(y_test, y_preds)))\n",
    "print(\"Mean absolute percentage error of the prediction is: {}\".format(np.mean(np.abs((y_test - y_preds) / y_test)) * 100))\n"
   ]
  },
  {
   "cell_type": "markdown",
   "metadata": {},
   "source": [
    "# intermideate sumary\n",
    "after \"Try(ing) to improve your model in terms of predictive performance by adding or removing some variables\"\n",
    "\n",
    "- from the predicted-true value plot visulazaiton, the ploted points are getting closer to ideal line, especially when our target value is lower, which indicated that the model has improved performance.\n",
    "- we can see that in the test set, MAE, MSE, RMSE and MSPE values decreased, i.e. the MAPE is 25%, which has improved a lot. \n",
    "\n"
   ]
  },
  {
   "cell_type": "code",
   "execution_count": 16,
   "metadata": {},
   "outputs": [
    {
     "name": "stdout",
     "output_type": "stream",
     "text": [
      "The number of observations in training set is 1168\n",
      "The number of observations in test set is 292\n",
      "Best alpha value is: 10000.0\n",
      "R-squared of the model in training set is: 0.3311531979212593\n",
      "-----Test set statistics-----\n",
      "R-squared of the model in test set is: 0.3650712998731567\n",
      "Mean absolute error of the prediction is: 42764.74277565859\n",
      "Mean squared error of the prediction is: 4262723403.9623713\n",
      "Root mean squared error of the prediction is: 65289.53517955516\n",
      "Mean absolute percentage error of the prediction is: 25.03299927838362\n"
     ]
    }
   ],
   "source": [
    "# build the linear regression model\n",
    "# use statsmodels, \n",
    "# Ridge regreesion + cross validation (CV)\n",
    "from sklearn.linear_model import RidgeCV\n",
    "\n",
    "# Y is the target variable\n",
    "Y = df_drop['saleprice']\n",
    "# X is the feature set which includes\n",
    "# is_male and is_smoker variables\n",
    "X = df_drop[['lotarea', 'yearbuilt']]\n",
    "\n",
    "\n",
    "# split\n",
    "X_train, X_test, y_train, y_test = train_test_split(X, Y, test_size = 0.2, random_state = 465)\n",
    "\n",
    "print(\"The number of observations in training set is {}\".format(X_train.shape[0]))\n",
    "print(\"The number of observations in test set is {}\".format(X_test.shape[0]))\n",
    "\n",
    "# making a list of alphas(lambdas)\n",
    "alphas = [np.power(10.0,p) for p in np.arange(-10,40,1)]\n",
    "\n",
    "\n",
    "ridge_cv = RidgeCV(alphas=alphas, cv=5)\n",
    "\n",
    "ridge_cv.fit(X_train, y_train)\n",
    "\n",
    "# We are making predictions here\n",
    "y_preds_train = ridge_cv.predict(X_train)\n",
    "y_preds_test = ridge_cv.predict(X_test)\n",
    "\n",
    "# note: ridge_cv.alpha_ return the best alpha\n",
    "print(\"Best alpha value is: {}\".format(ridge_cv.alpha_))\n",
    "print(\"R-squared of the model in training set is: {}\".format(ridge_cv.score(X_train, y_train)))\n",
    "print(\"-----Test set statistics-----\")\n",
    "print(\"R-squared of the model in test set is: {}\".format(ridge_cv.score(X_test, y_test)))\n",
    "print(\"Mean absolute error of the prediction is: {}\".format(mean_absolute_error(y_test, y_preds_test)))\n",
    "print(\"Mean squared error of the prediction is: {}\".format(mse(y_test, y_preds_test)))\n",
    "print(\"Root mean squared error of the prediction is: {}\".format(rmse(y_test, y_preds_test)))\n",
    "print(\"Mean absolute percentage error of the prediction is: {}\".format(np.mean(np.abs((y_test - y_preds_test) / y_test)) * 100))\n",
    "\n",
    "\n"
   ]
  },
  {
   "cell_type": "code",
   "execution_count": null,
   "metadata": {},
   "outputs": [],
   "source": []
  },
  {
   "cell_type": "code",
   "execution_count": 25,
   "metadata": {},
   "outputs": [
    {
     "name": "stdout",
     "output_type": "stream",
     "text": [
      "The number of observations in training set is 1168\n",
      "The number of observations in test set is 292\n",
      "Best alpha value is: 1e-07\n",
      "R-squared of the model in training set is: 0.33117562136584566\n",
      "-----Test set statistics-----\n",
      "R-squared of the model in test set is: 0.3657175001386037\n",
      "Mean absolute error of the prediction is: 42758.19005996386\n",
      "Mean squared error of the prediction is: 4258385006.6043415\n",
      "Root mean squared error of the prediction is: 65256.30242822789\n",
      "Mean absolute percentage error of the prediction is: 25.018749033708033\n"
     ]
    }
   ],
   "source": [
    "# build the linear regression model\n",
    "# use statsmodels, \n",
    "# lasso regreesion + cross validation (CV)\n",
    "from sklearn.linear_model import LassoCV\n",
    "\n",
    "# Y is the target variable\n",
    "Y = df_drop['saleprice']\n",
    "# X is the feature set which includes\n",
    "# is_male and is_smoker variables\n",
    "X = df_drop[['lotarea', 'yearbuilt']]\n",
    "\n",
    "\n",
    "# split\n",
    "X_train, X_test, y_train, y_test = train_test_split(X, Y, test_size = 0.2, random_state = 465)\n",
    "\n",
    "print(\"The number of observations in training set is {}\".format(X_train.shape[0]))\n",
    "print(\"The number of observations in test set is {}\".format(X_test.shape[0]))\n",
    "\n",
    "# making a list of alphas(lambdas)\n",
    "# alphas = [np.power(10.0,p) for p in np.arange(-10,40,1)]\n",
    "alphas = [1000000]\n",
    "alphas = [0.0000001]\n",
    "\n",
    "lasso_cv = LassoCV(alphas=alphas, cv=5)\n",
    "\n",
    "lasso_cv.fit(X_train, y_train)\n",
    "\n",
    "# We are making predictions here\n",
    "y_preds_train = lasso_cv.predict(X_train)\n",
    "y_preds_test = lasso_cv.predict(X_test)\n",
    "\n",
    "# note: lasso_cv.alpha_ return the best alpha\n",
    "print(\"Best alpha value is: {}\".format(lasso_cv.alpha_))\n",
    "print(\"R-squared of the model in training set is: {}\".format(lasso_cv.score(X_train, y_train)))\n",
    "print(\"-----Test set statistics-----\")\n",
    "print(\"R-squared of the model in test set is: {}\".format(lasso_cv.score(X_test, y_test)))\n",
    "print(\"Mean absolute error of the prediction is: {}\".format(mean_absolute_error(y_test, y_preds_test)))\n",
    "print(\"Mean squared error of the prediction is: {}\".format(mse(y_test, y_preds_test)))\n",
    "print(\"Root mean squared error of the prediction is: {}\".format(rmse(y_test, y_preds_test)))\n",
    "print(\"Mean absolute percentage error of the prediction is: {}\".format(np.mean(np.abs((y_test - y_preds_test) / y_test)) * 100))\n",
    "\n",
    "\n"
   ]
  },
  {
   "cell_type": "markdown",
   "metadata": {},
   "source": [
    "### short comment\n",
    "it turned out that the alpha value does not significantly impact the result in this case. (I 've compared alpha = 1000000 and 0.0000001) "
   ]
  },
  {
   "cell_type": "code",
   "execution_count": null,
   "metadata": {},
   "outputs": [],
   "source": []
  },
  {
   "cell_type": "code",
   "execution_count": 26,
   "metadata": {},
   "outputs": [
    {
     "name": "stdout",
     "output_type": "stream",
     "text": [
      "The number of observations in training set is 1168\n",
      "The number of observations in test set is 292\n",
      "Best alpha value is: 10.0\n",
      "R-squared of the model in training set is: 0.3311679026677353\n",
      "-----Test set statistics-----\n",
      "R-squared of the model in test set is: 0.3653433512993678\n",
      "Mean absolute error of the prediction is: 42761.54002410433\n",
      "Mean squared error of the prediction is: 4260896931.1924996\n",
      "Root mean squared error of the prediction is: 65275.54619604879\n",
      "Mean absolute percentage error of the prediction is: 25.026878651887372\n"
     ]
    }
   ],
   "source": [
    "# build the linear regression model\n",
    "# use statsmodels, \n",
    "# lasso regreesion + cross validation (CV)\n",
    "from sklearn.linear_model import ElasticNetCV\n",
    "\n",
    "# Y is the target variable\n",
    "Y = df_drop['saleprice']\n",
    "# X is the feature set which includes\n",
    "# is_male and is_smoker variables\n",
    "X = df_drop[['lotarea', 'yearbuilt']]\n",
    "\n",
    "\n",
    "# split\n",
    "X_train, X_test, y_train, y_test = train_test_split(X, Y, test_size = 0.2, random_state = 465)\n",
    "\n",
    "print(\"The number of observations in training set is {}\".format(X_train.shape[0]))\n",
    "print(\"The number of observations in test set is {}\".format(X_test.shape[0]))\n",
    "\n",
    "# making a list of alphas(lambdas)\n",
    "alphas = [np.power(10.0,p) for p in np.arange(-10,40,1)]\n",
    "# alphas = [1000000]\n",
    "# alphas = [0.0000001]\n",
    "\n",
    "elasticnet_cv = ElasticNetCV(alphas=alphas, cv=5)\n",
    "\n",
    "elasticnet_cv.fit(X_train, y_train)\n",
    "\n",
    "# We are making predictions here\n",
    "y_preds_train = elasticnet_cv.predict(X_train)\n",
    "y_preds_test = elasticnet_cv.predict(X_test)\n",
    "\n",
    "# note: lasso_cv.alpha_ return the best alpha\n",
    "print(\"Best alpha value is: {}\".format(elasticnet_cv.alpha_))\n",
    "print(\"R-squared of the model in training set is: {}\".format(elasticnet_cv.score(X_train, y_train)))\n",
    "print(\"-----Test set statistics-----\")\n",
    "print(\"R-squared of the model in test set is: {}\".format(elasticnet_cv.score(X_test, y_test)))\n",
    "print(\"Mean absolute error of the prediction is: {}\".format(mean_absolute_error(y_test, y_preds_test)))\n",
    "print(\"Mean squared error of the prediction is: {}\".format(mse(y_test, y_preds_test)))\n",
    "print(\"Root mean squared error of the prediction is: {}\".format(rmse(y_test, y_preds_test)))\n",
    "print(\"Mean absolute percentage error of the prediction is: {}\".format(np.mean(np.abs((y_test - y_preds_test) / y_test)) * 100))\n",
    "\n",
    "\n"
   ]
  },
  {
   "cell_type": "markdown",
   "metadata": {},
   "source": [
    "### sumary\n",
    "\n",
    "OLS:\n",
    "Mean absolute error of the prediction is: 42758.190059963665\n",
    "Mean squared error of the prediction is: 4258385006.6042933\n",
    "Root mean squared error of the prediction is: 65256.30242822752\n",
    "Mean absolute percentage error of the prediction is: 25.01874903370775\n",
    "\n",
    "Ridge:\n",
    "R-squared of the model in test set is: 0.3650712998731567\n",
    "Mean absolute error of the prediction is: 42764.74277565859\n",
    "Mean squared error of the prediction is: 4262723403.9623713\n",
    "Root mean squared error of the prediction is: 65289.53517955516\n",
    "Mean absolute percentage error of the prediction is: 25.03299927838362\n",
    "\n",
    "Lasso:\n",
    "R-squared of the model in test set is: 0.3657175001386037\n",
    "Mean absolute error of the prediction is: 42758.19005996386\n",
    "Mean squared error of the prediction is: 4258385006.6043415\n",
    "Root mean squared error of the prediction is: 65256.30242822789\n",
    "Mean absolute percentage error of the prediction is: 25.018749033708033\n",
    "\n",
    "ElasticNet:\n",
    "R-squared of the model in test set is: 0.3653433512993678\n",
    "Mean absolute error of the prediction is: 42761.54002410433\n",
    "Mean squared error of the prediction is: 4260896931.1924996\n",
    "Root mean squared error of the prediction is: 65275.54619604879\n",
    "Mean absolute percentage error of the prediction is: 25.026878651887372\n",
    "\n",
    "It turned out the best model is OLS."
   ]
  },
  {
   "cell_type": "markdown",
   "metadata": {},
   "source": [
    "feture work: apply linear regression Cross- validation. at least calculate the R-score"
   ]
  }
 ],
 "metadata": {
  "kernelspec": {
   "display_name": "Python 3",
   "language": "python",
   "name": "python3"
  },
  "language_info": {
   "codemirror_mode": {
    "name": "ipython",
    "version": 3
   },
   "file_extension": ".py",
   "mimetype": "text/x-python",
   "name": "python",
   "nbconvert_exporter": "python",
   "pygments_lexer": "ipython3",
   "version": "3.7.4"
  },
  "latex_envs": {
   "LaTeX_envs_menu_present": true,
   "autoclose": false,
   "autocomplete": true,
   "bibliofile": "biblio.bib",
   "cite_by": "apalike",
   "current_citInitial": 1,
   "eqLabelWithNumbers": true,
   "eqNumInitial": 1,
   "hotkeys": {
    "equation": "Ctrl-E",
    "itemize": "Ctrl-I"
   },
   "labels_anchors": false,
   "latex_user_defs": false,
   "report_style_numbering": false,
   "user_envs_cfg": false
  },
  "varInspector": {
   "cols": {
    "lenName": 16,
    "lenType": 16,
    "lenVar": 40
   },
   "kernels_config": {
    "python": {
     "delete_cmd_postfix": "",
     "delete_cmd_prefix": "del ",
     "library": "var_list.py",
     "varRefreshCmd": "print(var_dic_list())"
    },
    "r": {
     "delete_cmd_postfix": ") ",
     "delete_cmd_prefix": "rm(",
     "library": "var_list.r",
     "varRefreshCmd": "cat(var_dic_list()) "
    }
   },
   "types_to_exclude": [
    "module",
    "function",
    "builtin_function_or_method",
    "instance",
    "_Feature"
   ],
   "window_display": false
  }
 },
 "nbformat": 4,
 "nbformat_minor": 2
}
