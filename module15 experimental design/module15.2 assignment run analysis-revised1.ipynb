{
 "cells": [
  {
   "cell_type": "code",
   "execution_count": 2,
   "metadata": {},
   "outputs": [],
   "source": [
    "# Set up environment\n",
    "\n",
    "import math\n",
    "import pandas as pd\n",
    "import numpy as np\n",
    "from scipy import stats\n",
    "import matplotlib.pyplot as plt\n",
    "\n",
    "df = pd.read_csv('./WA_Fn-UseC_-HR-Employee-Attrition.csv')"
   ]
  },
  {
   "cell_type": "markdown",
   "metadata": {},
   "source": [
    "# 1. Introduction.\n",
    "\n",
    "Many companies are facing the problem of recruiting and retaining talents while at the same time having to deal with talent loss through attrition. Losing talents and employees result in performance losses and can have a long-term negative effect on the companies. Besides, attrition might leave gaps in its execution and human resource team, and causes loss of work team harmony and social goodwill. There are many factors that might result in attribution, issues of salary, lack of career mobility and challenges, working environment, just to name a few. \n",
    "\n",
    "In this research, we will look into the data of IBM HR Analytics Employee Attrition & Performance. By studying employee profiles, we would like to answer what factors are more likely to cause attrition, and what potential methods can be applied to reduce attrition rate.\n"
   ]
  },
  {
   "cell_type": "markdown",
   "metadata": {},
   "source": [
    "# 2. Hypothesis - part I\n",
    "\n",
    "We would like to answer the question: “Are male employees at the company more likely to quit the job?” To answer this question, we would study the attrition rate index, and compare it between male employees and female employees at the company. A higher attrition rate would indicate a higher probability to quit.\n",
    "\n",
    "To answer the question, I designed the following hypothesis:\n",
    "\n",
    "    Ho: male employees and female employees at the company have the same attrition rate.\n",
    "    \n",
    "    Ha: male employees and female employees at the company do NOT have the same attrition rate.\n"
   ]
  },
  {
   "cell_type": "markdown",
   "metadata": {},
   "source": [
    "# 3. Data\n",
    "\n",
    "The data comes from Kaggle, titled “IBM HR Analytics Employee Attrition & Performance”, which can be found at the following link: https://www.kaggle.com/pavansubhasht/ibm-hr-analytics-attrition-dataset. \n",
    "\n",
    "The dataset consists of 35 columns(variables) and 1471 rows(records). The sample size is large enough. The variables are likely to provide information for a meaningful study. Based on what we are mostly interested in, we might work on variables including “Attrition”, “YearsAtCompany”, “Gender”, “Department”, etc. There are no missing values in the dataset.\n"
   ]
  },
  {
   "cell_type": "code",
   "execution_count": 3,
   "metadata": {},
   "outputs": [
    {
     "name": "stdout",
     "output_type": "stream",
     "text": [
      "<class 'pandas.core.frame.DataFrame'>\n",
      "RangeIndex: 1470 entries, 0 to 1469\n",
      "Data columns (total 35 columns):\n",
      "Age                         1470 non-null int64\n",
      "Attrition                   1470 non-null object\n",
      "BusinessTravel              1470 non-null object\n",
      "DailyRate                   1470 non-null int64\n",
      "Department                  1470 non-null object\n",
      "DistanceFromHome            1470 non-null int64\n",
      "Education                   1470 non-null int64\n",
      "EducationField              1470 non-null object\n",
      "EmployeeCount               1470 non-null int64\n",
      "EmployeeNumber              1470 non-null int64\n",
      "EnvironmentSatisfaction     1470 non-null int64\n",
      "Gender                      1470 non-null object\n",
      "HourlyRate                  1470 non-null int64\n",
      "JobInvolvement              1470 non-null int64\n",
      "JobLevel                    1470 non-null int64\n",
      "JobRole                     1470 non-null object\n",
      "JobSatisfaction             1470 non-null int64\n",
      "MaritalStatus               1470 non-null object\n",
      "MonthlyIncome               1470 non-null int64\n",
      "MonthlyRate                 1470 non-null int64\n",
      "NumCompaniesWorked          1470 non-null int64\n",
      "Over18                      1470 non-null object\n",
      "OverTime                    1470 non-null object\n",
      "PercentSalaryHike           1470 non-null int64\n",
      "PerformanceRating           1470 non-null int64\n",
      "RelationshipSatisfaction    1470 non-null int64\n",
      "StandardHours               1470 non-null int64\n",
      "StockOptionLevel            1470 non-null int64\n",
      "TotalWorkingYears           1470 non-null int64\n",
      "TrainingTimesLastYear       1470 non-null int64\n",
      "WorkLifeBalance             1470 non-null int64\n",
      "YearsAtCompany              1470 non-null int64\n",
      "YearsInCurrentRole          1470 non-null int64\n",
      "YearsSinceLastPromotion     1470 non-null int64\n",
      "YearsWithCurrManager        1470 non-null int64\n",
      "dtypes: int64(26), object(9)\n",
      "memory usage: 402.1+ KB\n"
     ]
    },
    {
     "data": {
      "text/html": [
       "<div>\n",
       "<style scoped>\n",
       "    .dataframe tbody tr th:only-of-type {\n",
       "        vertical-align: middle;\n",
       "    }\n",
       "\n",
       "    .dataframe tbody tr th {\n",
       "        vertical-align: top;\n",
       "    }\n",
       "\n",
       "    .dataframe thead th {\n",
       "        text-align: right;\n",
       "    }\n",
       "</style>\n",
       "<table border=\"1\" class=\"dataframe\">\n",
       "  <thead>\n",
       "    <tr style=\"text-align: right;\">\n",
       "      <th></th>\n",
       "      <th>Age</th>\n",
       "      <th>Attrition</th>\n",
       "      <th>BusinessTravel</th>\n",
       "      <th>DailyRate</th>\n",
       "      <th>Department</th>\n",
       "      <th>DistanceFromHome</th>\n",
       "      <th>Education</th>\n",
       "      <th>EducationField</th>\n",
       "      <th>EmployeeCount</th>\n",
       "      <th>EmployeeNumber</th>\n",
       "      <th>...</th>\n",
       "      <th>RelationshipSatisfaction</th>\n",
       "      <th>StandardHours</th>\n",
       "      <th>StockOptionLevel</th>\n",
       "      <th>TotalWorkingYears</th>\n",
       "      <th>TrainingTimesLastYear</th>\n",
       "      <th>WorkLifeBalance</th>\n",
       "      <th>YearsAtCompany</th>\n",
       "      <th>YearsInCurrentRole</th>\n",
       "      <th>YearsSinceLastPromotion</th>\n",
       "      <th>YearsWithCurrManager</th>\n",
       "    </tr>\n",
       "  </thead>\n",
       "  <tbody>\n",
       "    <tr>\n",
       "      <td>0</td>\n",
       "      <td>41</td>\n",
       "      <td>Yes</td>\n",
       "      <td>Travel_Rarely</td>\n",
       "      <td>1102</td>\n",
       "      <td>Sales</td>\n",
       "      <td>1</td>\n",
       "      <td>2</td>\n",
       "      <td>Life Sciences</td>\n",
       "      <td>1</td>\n",
       "      <td>1</td>\n",
       "      <td>...</td>\n",
       "      <td>1</td>\n",
       "      <td>80</td>\n",
       "      <td>0</td>\n",
       "      <td>8</td>\n",
       "      <td>0</td>\n",
       "      <td>1</td>\n",
       "      <td>6</td>\n",
       "      <td>4</td>\n",
       "      <td>0</td>\n",
       "      <td>5</td>\n",
       "    </tr>\n",
       "    <tr>\n",
       "      <td>1</td>\n",
       "      <td>49</td>\n",
       "      <td>No</td>\n",
       "      <td>Travel_Frequently</td>\n",
       "      <td>279</td>\n",
       "      <td>Research &amp; Development</td>\n",
       "      <td>8</td>\n",
       "      <td>1</td>\n",
       "      <td>Life Sciences</td>\n",
       "      <td>1</td>\n",
       "      <td>2</td>\n",
       "      <td>...</td>\n",
       "      <td>4</td>\n",
       "      <td>80</td>\n",
       "      <td>1</td>\n",
       "      <td>10</td>\n",
       "      <td>3</td>\n",
       "      <td>3</td>\n",
       "      <td>10</td>\n",
       "      <td>7</td>\n",
       "      <td>1</td>\n",
       "      <td>7</td>\n",
       "    </tr>\n",
       "    <tr>\n",
       "      <td>2</td>\n",
       "      <td>37</td>\n",
       "      <td>Yes</td>\n",
       "      <td>Travel_Rarely</td>\n",
       "      <td>1373</td>\n",
       "      <td>Research &amp; Development</td>\n",
       "      <td>2</td>\n",
       "      <td>2</td>\n",
       "      <td>Other</td>\n",
       "      <td>1</td>\n",
       "      <td>4</td>\n",
       "      <td>...</td>\n",
       "      <td>2</td>\n",
       "      <td>80</td>\n",
       "      <td>0</td>\n",
       "      <td>7</td>\n",
       "      <td>3</td>\n",
       "      <td>3</td>\n",
       "      <td>0</td>\n",
       "      <td>0</td>\n",
       "      <td>0</td>\n",
       "      <td>0</td>\n",
       "    </tr>\n",
       "    <tr>\n",
       "      <td>3</td>\n",
       "      <td>33</td>\n",
       "      <td>No</td>\n",
       "      <td>Travel_Frequently</td>\n",
       "      <td>1392</td>\n",
       "      <td>Research &amp; Development</td>\n",
       "      <td>3</td>\n",
       "      <td>4</td>\n",
       "      <td>Life Sciences</td>\n",
       "      <td>1</td>\n",
       "      <td>5</td>\n",
       "      <td>...</td>\n",
       "      <td>3</td>\n",
       "      <td>80</td>\n",
       "      <td>0</td>\n",
       "      <td>8</td>\n",
       "      <td>3</td>\n",
       "      <td>3</td>\n",
       "      <td>8</td>\n",
       "      <td>7</td>\n",
       "      <td>3</td>\n",
       "      <td>0</td>\n",
       "    </tr>\n",
       "    <tr>\n",
       "      <td>4</td>\n",
       "      <td>27</td>\n",
       "      <td>No</td>\n",
       "      <td>Travel_Rarely</td>\n",
       "      <td>591</td>\n",
       "      <td>Research &amp; Development</td>\n",
       "      <td>2</td>\n",
       "      <td>1</td>\n",
       "      <td>Medical</td>\n",
       "      <td>1</td>\n",
       "      <td>7</td>\n",
       "      <td>...</td>\n",
       "      <td>4</td>\n",
       "      <td>80</td>\n",
       "      <td>1</td>\n",
       "      <td>6</td>\n",
       "      <td>3</td>\n",
       "      <td>3</td>\n",
       "      <td>2</td>\n",
       "      <td>2</td>\n",
       "      <td>2</td>\n",
       "      <td>2</td>\n",
       "    </tr>\n",
       "  </tbody>\n",
       "</table>\n",
       "<p>5 rows × 35 columns</p>\n",
       "</div>"
      ],
      "text/plain": [
       "   Age Attrition     BusinessTravel  DailyRate              Department  \\\n",
       "0   41       Yes      Travel_Rarely       1102                   Sales   \n",
       "1   49        No  Travel_Frequently        279  Research & Development   \n",
       "2   37       Yes      Travel_Rarely       1373  Research & Development   \n",
       "3   33        No  Travel_Frequently       1392  Research & Development   \n",
       "4   27        No      Travel_Rarely        591  Research & Development   \n",
       "\n",
       "   DistanceFromHome  Education EducationField  EmployeeCount  EmployeeNumber  \\\n",
       "0                 1          2  Life Sciences              1               1   \n",
       "1                 8          1  Life Sciences              1               2   \n",
       "2                 2          2          Other              1               4   \n",
       "3                 3          4  Life Sciences              1               5   \n",
       "4                 2          1        Medical              1               7   \n",
       "\n",
       "   ...  RelationshipSatisfaction StandardHours  StockOptionLevel  \\\n",
       "0  ...                         1            80                 0   \n",
       "1  ...                         4            80                 1   \n",
       "2  ...                         2            80                 0   \n",
       "3  ...                         3            80                 0   \n",
       "4  ...                         4            80                 1   \n",
       "\n",
       "   TotalWorkingYears  TrainingTimesLastYear WorkLifeBalance  YearsAtCompany  \\\n",
       "0                  8                      0               1               6   \n",
       "1                 10                      3               3              10   \n",
       "2                  7                      3               3               0   \n",
       "3                  8                      3               3               8   \n",
       "4                  6                      3               3               2   \n",
       "\n",
       "  YearsInCurrentRole  YearsSinceLastPromotion  YearsWithCurrManager  \n",
       "0                  4                        0                     5  \n",
       "1                  7                        1                     7  \n",
       "2                  0                        0                     0  \n",
       "3                  7                        3                     0  \n",
       "4                  2                        2                     2  \n",
       "\n",
       "[5 rows x 35 columns]"
      ]
     },
     "execution_count": 3,
     "metadata": {},
     "output_type": "execute_result"
    }
   ],
   "source": [
    "df.info()\n",
    "df.head()"
   ]
  },
  {
   "cell_type": "code",
   "execution_count": 4,
   "metadata": {},
   "outputs": [
    {
     "name": "stdout",
     "output_type": "stream",
     "text": [
      "        count\n",
      "Gender       \n",
      "Female    588\n",
      "Male      882\n",
      "\n",
      "Attrition rate of\n",
      "male employees is: \t0.1701\n",
      "female employees is: \t0.1480\n",
      "The difference of the mean from the two samples is: \t0.0221\n",
      "\n",
      "\n",
      "the attrition rate of male employees and female employees are both over 10%, \n",
      "male employee has higer attrition rate.\n",
      "\n"
     ]
    }
   ],
   "source": [
    "# Count records by gender\n",
    "print(df['Attrition'].groupby(df['Gender']).agg(['count']))\n",
    "print()\n",
    "# convert \"Yes\" and \"No\" in Attrition to \"1\" and \"0\" in Attribution_num\n",
    "df['Attrition_num'] = df['Attrition'].map(dict(Yes=1, No=0))\n",
    "df.head(10)\n",
    "\n",
    "# Compare attrition rate by gender\n",
    "# print(df[['Attrition_num']].groupby(df['Gender']).mean())\n",
    "print(\"Attrition rate of\")\n",
    "print(\"male employees is: \\t{:.4f}\".format(df[df.Gender == 'Male']['Attrition_num'].mean()))\n",
    "print(\"female employees is: \\t{:.4f}\".format(df[df.Gender == 'Female']['Attrition_num'].mean()))\n",
    "print(\"The difference of the mean from the two samples is: \\t{:.4f}\".format(df[df.Gender == 'Male']['Attrition_num'].mean()\n",
    "                                                                           -df[df.Gender == 'Female']['Attrition_num'].mean()))\n",
    "print()\n",
    "\n",
    "print('''\n",
    "the attrition rate of male employees and female employees are both over 10%, \n",
    "male employee has higer attrition rate.\n",
    "''')\n"
   ]
  },
  {
   "cell_type": "markdown",
   "metadata": {},
   "source": [
    "# 4. Methods\n",
    "\n",
    "For this analysis I will create two DataFrames, one containing all records of male employees and another for all female employees. \n",
    "\n",
    "Since we care about the attrition rate, which is a sample proportion, we will conduct an independent samples t-test between the groups at the two-tail, 95% confidence interval. \n",
    "\n",
    "(if we already have the pre-knowledge that the attrition rate in group is higher than another, i.e. we assume male employees have higher attrition rate, then we might consider to conduct one-tailed t-test. In this case, we don't assume such pre-knowledge, so we might as well just perform the default two-tailed t-test)"
   ]
  },
  {
   "cell_type": "code",
   "execution_count": 5,
   "metadata": {},
   "outputs": [
    {
     "name": "stdout",
     "output_type": "stream",
     "text": [
      "Ttest_indResult(statistic=1.1289761152328313, pvalue=0.25909236414147996)\n",
      "\n",
      "Since the p-value is higher than the 5% threshold, \n",
      "we cannot reject the null hypothesis\n",
      "so, the attrition rate between male and female employees are not significantly different\n",
      "\n"
     ]
    }
   ],
   "source": [
    "print(stats.ttest_ind(df[df.Gender == 'Male']['Attrition_num'], df[df.Gender == 'Female']['Attrition_num']))\n",
    "print('''\n",
    "Since the p-value is higher than the 5% threshold, \n",
    "we cannot reject the null hypothesis\n",
    "so, the attrition rate between male and female employees are not significantly different\n",
    "''')"
   ]
  },
  {
   "cell_type": "code",
   "execution_count": 11,
   "metadata": {},
   "outputs": [
    {
     "data": {
      "text/plain": [
       "'The difference in means at the 95% confidence interval (two-tail) is between -0.01584513934587179 and 0.060062826420701716.'"
      ]
     },
     "execution_count": 11,
     "metadata": {},
     "output_type": "execute_result"
    }
   ],
   "source": [
    "# get 95% confidence interval\n",
    "def get_95_ci(array_1, array_2):\n",
    "    sample_1_n = array_1.shape[0]\n",
    "    sample_2_n = array_2.shape[0]\n",
    "    sample_1_mean = array_1.mean()\n",
    "    sample_2_mean = array_2.mean()\n",
    "    sample_1_var = array_1.var()\n",
    "    sample_2_var = array_2.var()\n",
    "    mean_difference = sample_2_mean - sample_1_mean\n",
    "    std_err_difference = math.sqrt((sample_1_var/sample_1_n)+(sample_2_var/sample_2_n))\n",
    "    margin_of_error = 1.96 * std_err_difference\n",
    "    ci_lower = mean_difference - margin_of_error\n",
    "    ci_upper = mean_difference + margin_of_error\n",
    "    return(\"The difference in means at the 95% confidence interval (two-tail) is between \"+str(ci_lower)+\" and \"+str(ci_upper)+\".\")\n",
    "\n",
    "get_95_ci(df[df.Gender == 'Female']['Attrition_num'], df[df.Gender == 'Male']['Attrition_num'])"
   ]
  },
  {
   "cell_type": "markdown",
   "metadata": {},
   "source": [
    "# 5. Results\n",
    "\n",
    "Based on the feature of attrition variables, I proceeded with the t-test. Based on a p-value of 0.25, I conclud that we CANNOT reject the null that there is no significant difference in means. In other words, there is no significant difference of the attrition rate between male and female employees.\n",
    "\n",
    "After calculate The 95% confidence interval, the mean difference of attrituion rate between the two groups is in the range (-0.0158, 0.0600)"
   ]
  },
  {
   "cell_type": "markdown",
   "metadata": {},
   "source": [
    "# 6. Discussion and recommendation\n",
    "\n",
    "Based on the result, there is no significant difference in attrition rate between male employees and female employees. The company should not reject a candidate over another merely based on their gender when concerning that one has higher probability to quit the job. Even though male employers have higher attrition rate, but such difference between different genders can be merely casued by randomness. \n",
    "\n",
    "We might want to look into other variables to find out what factors would cause attrition significantly."
   ]
  },
  {
   "cell_type": "markdown",
   "metadata": {},
   "source": [
    "# In the following part, let's test our 2nd hypothesis."
   ]
  },
  {
   "cell_type": "markdown",
   "metadata": {},
   "source": [
    "# 2. Hypothesis - part II\n",
    "\n",
    "A related question, but not the same and would require a different research, would be “Do male employees stay less years at the company?” To answer this question, we would look into “year at the company” index. A smaller value of “year at the company” would indicate an employee would stay less year at the company.\n",
    "\n",
    "To answer the question, I designed the following hypothesis:\n",
    "\n",
    "    Ho: the mean “year at the company” value of male employees and female employees at the company are the same.\n",
    "    \n",
    "    Ha: the mean “year at the company” value of male employees and female employees at the company are NOT the same.\n"
   ]
  },
  {
   "cell_type": "markdown",
   "metadata": {},
   "source": [
    "# 3. Data - part II\n",
    "\n",
    "same data as part I.\n",
    "\n",
    "But this time, we will focus on 'Gender', “YearsAtCompany” columns\n",
    "\n"
   ]
  },
  {
   "cell_type": "code",
   "execution_count": 6,
   "metadata": {},
   "outputs": [
    {
     "name": "stdout",
     "output_type": "stream",
     "text": [
      "        count\n",
      "Gender       \n",
      "Female    588\n",
      "Male      882\n",
      "\n"
     ]
    }
   ],
   "source": [
    "# Count records by gender\n",
    "print(df['YearsAtCompany'].groupby(df['Gender']).agg(['count']))\n",
    "print()"
   ]
  },
  {
   "cell_type": "markdown",
   "metadata": {},
   "source": [
    "# 4. Methods - part II\n",
    "\n",
    "For this analysis I still used the two DataFrames, one containing all records of male employees and another for all female employees. \n",
    "\n",
    "Since the 'YearsAtCompany' is numerical, we need to first check normality of the variable of interest in the sample dataset, then based on whether they follow normal distribution choose T-test or Kruskal-test."
   ]
  },
  {
   "cell_type": "code",
   "execution_count": 7,
   "metadata": {},
   "outputs": [
    {
     "name": "stdout",
     "output_type": "stream",
     "text": [
      "Male:  DescribeResult(nobs=882, minmax=(0, 37), mean=6.859410430839002, variance=38.50915651921002, skewness=1.9149521259854552, kurtosis=4.588815761171853)\n",
      "Female: DescribeResult(nobs=588, minmax=(0, 40), mean=7.2312925170068025, variance=36.05203444239705, skewness=1.5224652107714258, kurtosis=2.856456864152511)\n",
      "\n",
      "\n",
      "Since the distributions of sample are non-formal,\n",
      "we will conduct Kruskal-test.\n",
      "\n"
     ]
    },
    {
     "data": {
      "image/png": "[encoded data removed]",
      "text/plain": [
       "<Figure size 432x288 with 1 Axes>"
      ]
     },
     "metadata": {
      "needs_background": "light"
     },
     "output_type": "display_data"
    }
   ],
   "source": [
    "# establish formality\n",
    "# visually\n",
    "plt.hist(df[df.Gender == 'Male']['YearsAtCompany'], alpha=0.5)\n",
    "plt.hist(df[df.Gender == 'Female']['YearsAtCompany'], alpha=0.5)\n",
    "\n",
    "# discriptive\n",
    "print(\"Male: \",  stats.describe(df[df.Gender == 'Male']['YearsAtCompany']))\n",
    "print(\"Female:\",  stats.describe(df[df.Gender == 'Female']['YearsAtCompany']))\n",
    "print()\n",
    "\n",
    "print('''\n",
    "Since the distributions of sample are non-formal,\n",
    "we will conduct Kruskal-test.\n",
    "''')\n"
   ]
  },
  {
   "cell_type": "code",
   "execution_count": 8,
   "metadata": {},
   "outputs": [
    {
     "data": {
      "text/plain": [
       "KruskalResult(statistic=2.613132951059804, pvalue=0.10598219738050443)"
      ]
     },
     "execution_count": 8,
     "metadata": {},
     "output_type": "execute_result"
    }
   ],
   "source": [
    "stats.kruskal(df[df.Gender == 'Male']['YearsAtCompany'], df[df.Gender == 'Female']['YearsAtCompany'])"
   ]
  },
  {
   "cell_type": "code",
   "execution_count": 12,
   "metadata": {},
   "outputs": [
    {
     "data": {
      "text/plain": [
       "'The difference in means at the 95% confidence interval (two-tail) is between -1.006916517497313 and 0.26315234516171226.'"
      ]
     },
     "execution_count": 12,
     "metadata": {},
     "output_type": "execute_result"
    }
   ],
   "source": [
    "# get 95% confidence interval\n",
    "\n",
    "get_95_ci(df[df.Gender == 'Female']['YearsAtCompany'], df[df.Gender == 'Male']['YearsAtCompany'])"
   ]
  },
  {
   "cell_type": "markdown",
   "metadata": {},
   "source": [
    "# 5. Results - part II\n",
    "\n",
    "Since the two sample sets are non-formal, I proceeded with the Kruskal-test, which works well for A/B test with non-formal distribution samples. Based on a p-value of 0.11, I conclud that we CANNOT reject the null that there is no significant difference in means of variable of interest. In other words, there is no significant difference of the mean \"year work at the company\" between male and female employees.\n",
    "\n",
    "After calculate The 95% confidence interval, the mean difference of \"year at company\" between the two groups is in the range (-1.0069, 0.2632)"
   ]
  },
  {
   "cell_type": "markdown",
   "metadata": {},
   "source": [
    "# 6. Discussion and recommendation - part II\n",
    "\n",
    "Based on the result, there is no significant difference in the mean \"year work at the company\" between male and female employees. Gender should not be the reason for hiring or promotion if one assumes that male employees are more likely to quit, or vice versa, because such assumption is not necessarily true.  \n",
    "\n",
    "Again, we might want to look into other variables to find out what factors would cause attrition significantly.\n"
   ]
  },
  {
   "cell_type": "markdown",
   "metadata": {},
   "source": [
    "# 7. What could possibly went wrong?\n",
    "\n",
    "When conducting A/B test, we assume that the samples have everything else the same except the control variables. In our test, it means the male employees and female employees are the same except the gender. But this might not be necessarily true and can bring bias to the experiment. Consider the scenario that, the male employee group has more young people, who are actually more likely to quit. While the female group has more employees feeling more stressed, who are more likely the group. These two factors might “average out” the effect between male and female sample groups, and that’s why there is no significant difference between the two sample groups. To test whether such influences exist, we can conduct A/B test to exam whether the two sample groups are significant in age, stress level, and other variables of interest."
   ]
  },
  {
   "cell_type": "markdown",
   "metadata": {},
   "source": [
    "# 8. What other changes can be made in the data collection process, if we can collect new data in the domain?\n",
    "\n",
    "The “percentage salary hike” variable is just one value. Salary hike opportunity can be an important factor to decrease attrition rate. For instance, if the employee got salary hike for more once, it would be helpful to provide information including when and how much the employee got salary hike each time."
   ]
  }
 ],
 "metadata": {
  "kernelspec": {
   "display_name": "Python 3",
   "language": "python",
   "name": "python3"
  },
  "language_info": {
   "codemirror_mode": {
    "name": "ipython",
    "version": 3
   },
   "file_extension": ".py",
   "mimetype": "text/x-python",
   "name": "python",
   "nbconvert_exporter": "python",
   "pygments_lexer": "ipython3",
   "version": "3.7.4"
  }
 },
 "nbformat": 4,
 "nbformat_minor": 2
}
