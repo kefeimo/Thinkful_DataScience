{
 "cells": [
  {
   "cell_type": "markdown",
   "metadata": {},
   "source": [
    "# Procedure \n",
    "### part I and part II\n",
    "1. Data exploration & visualization \n",
    "2. Holdout (splitting data) \n",
    "3. SelectKbest \n",
    "     - gridsearchCV \n",
    "     - Decision tree model\n",
    "         + Cross validation\n",
    "         + Confusion matrix\n",
    "         + Classification_report\n",
    "     - Random forest model \n",
    "         + Cross validation (not sure)\n",
    "         + Confusion matrix \n",
    "         + Classification_report \n",
    "\n",
    "### part III\n",
    "4. PCA\n",
    "     - gridsearchCV\n",
    "     - Decision tree model\n",
    "         + Cross validation\n",
    "         + Confusion matrix\n",
    "         + Classification_report\n",
    "     - Random forest model\n",
    "         + Cross validation\n",
    "         + Confusion matrix\n",
    "         + Classification_report\n",
    "5. Do the write-up analysis and conclusions, make sure that you include time execution for the models."
   ]
  },
  {
   "cell_type": "markdown",
   "metadata": {},
   "source": [
    "ref:\n",
    "https://towardsdatascience.com/hyperparameter-tuning-the-random-forest-in-python-using-scikit-learn-28d2aa77dd74"
   ]
  },
  {
   "cell_type": "markdown",
   "metadata": {},
   "source": [
    "# Part I\n",
    "selectKbest, Randomforest"
   ]
  },
  {
   "cell_type": "markdown",
   "metadata": {},
   "source": [
    "### 0. Load data"
   ]
  },
  {
   "cell_type": "code",
   "execution_count": 1,
   "metadata": {
    "run_control": {
     "frozen": false,
     "read_only": false
    }
   },
   "outputs": [],
   "source": [
    "import pandas as pd\n",
    "import numpy as np\n",
    "import matplotlib.pyplot as plt\n",
    "%matplotlib inline"
   ]
  },
  {
   "cell_type": "markdown",
   "metadata": {
    "run_control": {
     "frozen": false,
     "read_only": false
    }
   },
   "source": [
    "Here we'll use data from Lending Club (2015) to predict the state of a loan given some information about it. You can download the dataset [here](https://www.dropbox.com/s/0so14yudedjmm5m/LoanStats3d.csv?dl=1)"
   ]
  },
  {
   "cell_type": "code",
   "execution_count": 2,
   "metadata": {
    "run_control": {
     "frozen": false,
     "read_only": false
    }
   },
   "outputs": [
    {
     "name": "stderr",
     "output_type": "stream",
     "text": [
      "C:\\Users\\kefei\\Anaconda3\\lib\\site-packages\\IPython\\core\\interactiveshell.py:3063: DtypeWarning: Columns (0,19,55) have mixed types.Specify dtype option on import or set low_memory=False.\n",
      "  interactivity=interactivity, compiler=compiler, result=result)\n"
     ]
    }
   ],
   "source": [
    "# Replace the path with the correct path for your data.\n",
    "y2015 = pd.read_csv(\n",
    "#     'https://www.dropbox.com/s/0so14yudedjmm5m/LoanStats3d.csv?dl=1',\n",
    "    './LoanStats3d.csv',\n",
    "    skipinitialspace=True,\n",
    "    header=1\n",
    ")\n",
    "\n",
    "# Note the warning about dtypes."
   ]
  },
  {
   "cell_type": "code",
   "execution_count": 3,
   "metadata": {
    "scrolled": true
   },
   "outputs": [],
   "source": [
    "# y2015.head()"
   ]
  },
  {
   "cell_type": "markdown",
   "metadata": {},
   "source": [
    "### 1. EDA\n",
    "##### data cleaning\n",
    "- This dataset has 100+ non-null columns, 400,000+ non-null records. \n",
    "- For the first atempt, we can just drop all the columns with null values, instead of imputation.\n",
    "- Note that, the afformentioned strategy is for numerical features; for categorical features, the null values can be handeled by using one-hot-encoding.\n",
    "- Also note that, in order to make the training set and test set have same features, we will first split the data into training set and test set, then perform one-hot-encoding and dropna.\n",
    "#### data exploration\n",
    "- The target is categorical, we are working on classification problem. So, we use bar plot to show the number of each categories. (It might raise some concern if the number of each categories are too unbalanced)\n",
    "- For each feature, since there are too many, it is very hard to plot them all or analyze individual feature. Later on we will use SelectKbest method for feature engineering."
   ]
  },
  {
   "cell_type": "code",
   "execution_count": 4,
   "metadata": {},
   "outputs": [],
   "source": [
    "# 'object' type data info\n",
    "df_object = y2015.select_dtypes(include=['object'])\n",
    "# print(df_object.info())\n",
    "\n",
    "# 'float' type data info\n",
    "df_float = y2015.select_dtypes(include=['float'])\n",
    "# print(df_float.info())"
   ]
  },
  {
   "cell_type": "markdown",
   "metadata": {},
   "source": [
    "#### The dataset is kind of big for training, especially for gridsearchCV. For practice purpose, we will cut the data into 10,000 records. "
   ]
  },
  {
   "cell_type": "code",
   "execution_count": 5,
   "metadata": {},
   "outputs": [
    {
     "name": "stdout",
     "output_type": "stream",
     "text": [
      "<class 'pandas.core.frame.DataFrame'>\n",
      "RangeIndex: 10001 entries, 0 to 10000\n",
      "Columns: 111 entries, id to total_il_high_credit_limit\n",
      "dtypes: float64(85), object(26)\n",
      "memory usage: 8.5+ MB\n"
     ]
    }
   ],
   "source": [
    "# cut the data to the first 10,000 records\n",
    "y2015 = y2015[:10001]\n",
    "y2015.info()"
   ]
  },
  {
   "cell_type": "code",
   "execution_count": 6,
   "metadata": {},
   "outputs": [
    {
     "name": "stdout",
     "output_type": "stream",
     "text": [
      "<class 'pandas.core.frame.DataFrame'>\n",
      "RangeIndex: 10001 entries, 0 to 10000\n",
      "Data columns (total 36 columns):\n",
      " #   Column                          Non-Null Count  Dtype  \n",
      "---  ------                          --------------  -----  \n",
      " 0   emp_title                       9444 non-null   object \n",
      " 1   emp_length                      9452 non-null   object \n",
      " 2   desc                            1 non-null      object \n",
      " 3   title                           9869 non-null   object \n",
      " 4   mths_since_last_delinq          5200 non-null   float64\n",
      " 5   mths_since_last_record          1778 non-null   float64\n",
      " 6   revol_util                      9996 non-null   object \n",
      " 7   last_pymnt_d                    9994 non-null   object \n",
      " 8   next_pymnt_d                    8189 non-null   object \n",
      " 9   mths_since_last_major_derog     2926 non-null   float64\n",
      " 10  annual_inc_joint                65 non-null     float64\n",
      " 11  dti_joint                       65 non-null     float64\n",
      " 12  verification_status_joint       65 non-null     object \n",
      " 13  open_acc_6m                     10000 non-null  float64\n",
      " 14  open_il_6m                      10000 non-null  float64\n",
      " 15  open_il_12m                     10000 non-null  float64\n",
      " 16  open_il_24m                     10000 non-null  float64\n",
      " 17  mths_since_rcnt_il              9761 non-null   float64\n",
      " 18  total_bal_il                    10000 non-null  float64\n",
      " 19  il_util                         8751 non-null   float64\n",
      " 20  open_rv_12m                     10000 non-null  float64\n",
      " 21  open_rv_24m                     10000 non-null  float64\n",
      " 22  max_bal_bc                      10000 non-null  float64\n",
      " 23  all_util                        10000 non-null  float64\n",
      " 24  inq_fi                          10000 non-null  float64\n",
      " 25  total_cu_tl                     10000 non-null  float64\n",
      " 26  inq_last_12m                    10000 non-null  float64\n",
      " 27  bc_open_to_buy                  9902 non-null   float64\n",
      " 28  bc_util                         9894 non-null   float64\n",
      " 29  mo_sin_old_il_acct              9762 non-null   float64\n",
      " 30  mths_since_recent_bc            9905 non-null   float64\n",
      " 31  mths_since_recent_bc_dlq        2561 non-null   float64\n",
      " 32  mths_since_recent_inq           8929 non-null   float64\n",
      " 33  mths_since_recent_revol_delinq  3601 non-null   float64\n",
      " 34  num_tl_120dpd_2m                9438 non-null   float64\n",
      " 35  percent_bc_gt_75                9896 non-null   float64\n",
      "dtypes: float64(28), object(8)\n",
      "memory usage: 2.7+ MB\n"
     ]
    }
   ],
   "source": [
    "# Remove two summary rows at the end that don't actually contain data.\n",
    "# y2015 = y2015[:-2]\n",
    "\n",
    "\n",
    "\n",
    "# Convert ID and Interest Rate to numeric.\n",
    "y2015['id'] = pd.to_numeric(y2015['id'], errors='coerce')\n",
    "y2015['int_rate'] = pd.to_numeric(y2015['int_rate'].str.strip('%'), errors='coerce')\n",
    "\n",
    "\n",
    "# explore columns with nan falues\n",
    "null_col_list = []\n",
    "for col in y2015.columns:\n",
    "    if y2015[col].isna().any():\n",
    "        null_col_list.append(col)\n",
    "        \n",
    "null_col_list\n",
    "# len(null_col_list)\n",
    "y2015[null_col_list].info()\n",
    "\n",
    "# in this dataset, since we already have a lot of columns, we can drop all the columns with nan instead of imputation.\n",
    "# df = y2015.drop(null_col_list, axis = 1)\n",
    "df= y2015.copy()"
   ]
  },
  {
   "cell_type": "code",
   "execution_count": 7,
   "metadata": {
    "scrolled": true
   },
   "outputs": [
    {
     "name": "stdout",
     "output_type": "stream",
     "text": [
      "term\n",
      "2\n",
      "grade\n",
      "7\n",
      "sub_grade\n",
      "35\n",
      "emp_title\n",
      "5621\n",
      "emp_length\n",
      "11\n",
      "home_ownership\n",
      "3\n",
      "verification_status\n",
      "3\n",
      "issue_d\n",
      "1\n",
      "loan_status\n",
      "7\n",
      "pymnt_plan\n",
      "1\n",
      "url\n",
      "10001\n",
      "desc\n",
      "1\n",
      "purpose\n",
      "12\n",
      "title\n",
      "12\n",
      "zip_code\n",
      "789\n",
      "addr_state\n",
      "49\n",
      "earliest_cr_line\n",
      "504\n",
      "revol_util\n",
      "1025\n",
      "initial_list_status\n",
      "2\n",
      "last_pymnt_d\n",
      "14\n",
      "next_pymnt_d\n",
      "2\n",
      "last_credit_pull_d\n",
      "14\n",
      "application_type\n",
      "2\n",
      "verification_status_joint\n",
      "3\n",
      "<class 'pandas.core.frame.DataFrame'>\n",
      "RangeIndex: 10001 entries, 0 to 10000\n",
      "Columns: 106 entries, id to total_il_high_credit_limit\n",
      "dtypes: float64(86), int64(1), object(19)\n",
      "memory usage: 8.1+ MB\n"
     ]
    }
   ],
   "source": [
    "# get dummy, but be careful not make too large a dummy dataset, drop those columns with too many categories (>80)\n",
    "df_object = df.select_dtypes(include='object')\n",
    "col_drop_list = []\n",
    "for col in df_object.columns:\n",
    "#     column = df_object[i]\n",
    "    print(col)\n",
    "    print(df_object[col].nunique())\n",
    "    if df_object[col].nunique() > 80:\n",
    "        col_drop_list.append(col)\n",
    "        \n",
    "# col_drop_list\n",
    "# type(df_object[i])\n",
    "\n",
    "df = df.drop(col_drop_list, axis = 1)\n",
    "df.info()\n",
    "\n",
    "# # make dummy\n",
    "# df_dummy = pd.get_dummies(df)\n",
    "# df_dummy.info()"
   ]
  },
  {
   "cell_type": "code",
   "execution_count": 8,
   "metadata": {},
   "outputs": [
    {
     "data": {
      "image/png": "[encoded data removed]",
      "text/plain": [
       "<Figure size 432x288 with 1 Axes>"
      ]
     },
     "metadata": {},
     "output_type": "display_data"
    }
   ],
   "source": [
    "df['loan_status'].value_counts()\n",
    "\n",
    "import seaborn as sns\n",
    "\n",
    "sns.set(style=\"whitegrid\")\n",
    "splot = sns.countplot(x=\"loan_status\",data=df[['loan_status']])\n",
    "plt.xticks(rotation = 45)\n",
    "for p in splot.patches:\n",
    "    splot.annotate(format(p.get_height(), '.0f'), \n",
    "                   (p.get_x() + p.get_width() / 2., \n",
    "                    p.get_height()), \n",
    "                   ha = 'center', va = 'center', xytext = (0, 10), textcoords = 'offset points')"
   ]
  },
  {
   "cell_type": "markdown",
   "metadata": {},
   "source": [
    "### 2. Split"
   ]
  },
  {
   "cell_type": "code",
   "execution_count": 9,
   "metadata": {},
   "outputs": [],
   "source": [
    "from sklearn.model_selection import train_test_split\n",
    "\n",
    "X = df.drop('loan_status', axis=1)\n",
    "X = pd.get_dummies(X)\n",
    "X = X.dropna(axis=1)\n",
    "y = df['loan_status']\n",
    "\n",
    "X_train, X_test, y_train, y_test = train_test_split(X, y, test_size=0.2, random_state=42)\n",
    "\n",
    "# df_train, df_test = train_test_split(df, test_size=0.2, random_state=42)\n",
    "\n"
   ]
  },
  {
   "cell_type": "markdown",
   "metadata": {},
   "source": [
    "### baseline prediction\n",
    "Make a wild guess, all the loan status is current, check the accuracy under such prediction. Our model performance should outweight that at least."
   ]
  },
  {
   "cell_type": "code",
   "execution_count": 10,
   "metadata": {},
   "outputs": [
    {
     "name": "stdout",
     "output_type": "stream",
     "text": [
      "Current               1578\n",
      "Fully Paid             278\n",
      "Charged Off             85\n",
      "Late (31-120 days)      38\n",
      "Late (16-30 days)       11\n",
      "In Grace Period          8\n",
      "Default                  3\n",
      "Name: loan_status, dtype: int64\n",
      "2001\n",
      "-------------------\n",
      "baseline accuracy: 0.7886056971514243\n"
     ]
    }
   ],
   "source": [
    "print(y_test.value_counts())\n",
    "print(y_test.count())\n",
    "print('-------------------')\n",
    "print('baseline accuracy: {}'.format(y_test[y_test=='Current'].count()/y_test.count()))\n"
   ]
  },
  {
   "cell_type": "markdown",
   "metadata": {},
   "source": [
    "### 3. select K best, gridSearch "
   ]
  },
  {
   "cell_type": "markdown",
   "metadata": {},
   "source": [
    "# part III\n",
    "feature enineering using PCA, then perform random forest and decision tree classification again.\n",
    "\n",
    "ref: https://www.codementor.io/@divyeshaegis/when-to-use-pca-before-or-after-a-train-test-split-vxdrlu6ci"
   ]
  },
  {
   "cell_type": "markdown",
   "metadata": {},
   "source": [
    "### recall\n",
    "- We will use the same dataset, same features, same training and test data as random forest model\n",
    "- Also, recall the baseline accuracy is 0.7886\n",
    "- So, we will start from feature engineering (PCA)"
   ]
  },
  {
   "cell_type": "code",
   "execution_count": 11,
   "metadata": {},
   "outputs": [],
   "source": [
    "# for convenience repeat here\n",
    "# from sklearn.model_selection import train_test_split\n",
    "\n",
    "X = df.drop('loan_status', axis=1)\n",
    "X = pd.get_dummies(X)\n",
    "X = X.dropna(axis=1)\n",
    "y = df['loan_status']\n",
    "\n",
    "X_train, X_test, y_train, y_test = train_test_split(X, y, test_size=0.2, random_state=42)\n"
   ]
  },
  {
   "cell_type": "markdown",
   "metadata": {},
   "source": [
    "### It is widely accepted that PCA does not work well on categorical / binary type of data, so we only perform PCA on continous data. For the rest it, we will use selectKBest"
   ]
  },
  {
   "cell_type": "code",
   "execution_count": 12,
   "metadata": {},
   "outputs": [],
   "source": [
    "# 'object' type data info\n",
    "pca_list = []\n",
    "for col in X_train.columns:\n",
    "#     print(X_train[col].nunique())\n",
    "    if X_train[col].nunique() > 2:\n",
    "        pca_list.append(col)"
   ]
  },
  {
   "cell_type": "code",
   "execution_count": 13,
   "metadata": {},
   "outputs": [],
   "source": [
    "X_train_continous = X_train.loc[:,pca_list]\n",
    "X_test_continous = X_test.loc[:,pca_list]\n",
    "# X_train_continous"
   ]
  },
  {
   "cell_type": "code",
   "execution_count": 14,
   "metadata": {},
   "outputs": [],
   "source": [
    "encoding_list = [item for item in list(X_train.columns) if item not in pca_list]\n",
    "X_train_encoding = X_train.loc[:,encoding_list]\n",
    "X_test_encoding = X_test.loc[:,encoding_list]\n",
    "# X_train_encoding"
   ]
  },
  {
   "cell_type": "code",
   "execution_count": 15,
   "metadata": {},
   "outputs": [],
   "source": [
    "# perform standard scalar normalization to normalize our feature set\n",
    "from sklearn.preprocessing import StandardScaler\n",
    "\n",
    "sc = StandardScaler()\n",
    "X_train_stdscaler = sc.fit_transform(X_train_continous)\n",
    "X_test_stdscaler = sc.transform(X_test_continous)"
   ]
  },
  {
   "cell_type": "code",
   "execution_count": 16,
   "metadata": {},
   "outputs": [
    {
     "data": {
      "image/png": "[encoded data removed]",
      "text/plain": [
       "<Figure size 432x288 with 1 Axes>"
      ]
     },
     "metadata": {},
     "output_type": "display_data"
    }
   ],
   "source": [
    "# Applying PCA\n",
    "from sklearn.decomposition import PCA\n",
    "\n",
    "pca = PCA()\n",
    "pca.fit(X_train_stdscaler)\n",
    "\n",
    "# plot\n",
    "explained_variance = pca.explained_variance_ratio_\n",
    "explained_variance\n",
    "plt.plot(np.cumsum(pca.explained_variance_ratio_))\n",
    "plt.xlabel('number of components')\n",
    "plt.ylabel('cumulative explained variance');"
   ]
  },
  {
   "cell_type": "code",
   "execution_count": 17,
   "metadata": {},
   "outputs": [],
   "source": [
    "pca = PCA(n_components=30)\n",
    "\n",
    "X_train_continous = pca.fit_transform(X_train_stdscaler)\n",
    "X_test_continous = pca.transform(X_test_stdscaler)"
   ]
  },
  {
   "cell_type": "code",
   "execution_count": 18,
   "metadata": {},
   "outputs": [],
   "source": [
    "# X_train_continous.shape"
   ]
  },
  {
   "cell_type": "markdown",
   "metadata": {},
   "source": [
    "#### selectKbest"
   ]
  },
  {
   "cell_type": "code",
   "execution_count": 21,
   "metadata": {},
   "outputs": [],
   "source": [
    "# using chi-squre to select the top 200 features.\n",
    "from sklearn.feature_selection import SelectKBest, chi2\n",
    "\n",
    "#apply SelectKBest class to extract top 10 best features\n",
    "bestfeatures = SelectKBest(score_func=chi2, k=\"all\")\n",
    "fit = bestfeatures.fit(X_train_encoding,y_train)\n",
    "\n",
    "dfscores = pd.DataFrame(fit.scores_)\n",
    "dfcolumns = pd.DataFrame(X_train_encoding.columns)\n",
    "dftypes = pd.DataFrame(X_train_encoding.dtypes.values)\n",
    "#concat two dataframes for better visualization \n",
    "featureScores = pd.concat([dfcolumns,dfscores, dftypes],axis=1)\n",
    "# featureScores['dftypes'] = dftypes\n",
    "featureScores.columns = ['Specs','Score','dftypes']  #naming the dataframe columns\n",
    "\n",
    "\n",
    "# print(featureScores.nlargest(50,'Score'))\n"
   ]
  },
  {
   "cell_type": "code",
   "execution_count": 22,
   "metadata": {},
   "outputs": [],
   "source": [
    "# take the K best score (k = 20)\n",
    "take_k = 20\n",
    "X_train_KBest = X_train[featureScores.nlargest(take_k,'Score')['Specs'].values].copy()\n",
    "# X_train_KBest\n",
    "\n",
    "X_test_KBest = X_test[X_train_KBest.columns].copy()\n",
    "# X_test_KBest\n"
   ]
  },
  {
   "cell_type": "code",
   "execution_count": 23,
   "metadata": {},
   "outputs": [
    {
     "data": {
      "text/html": [
       "<div>\n",
       "<style scoped>\n",
       "    .dataframe tbody tr th:only-of-type {\n",
       "        vertical-align: middle;\n",
       "    }\n",
       "\n",
       "    .dataframe tbody tr th {\n",
       "        vertical-align: top;\n",
       "    }\n",
       "\n",
       "    .dataframe thead th {\n",
       "        text-align: right;\n",
       "    }\n",
       "</style>\n",
       "<table border=\"1\" class=\"dataframe\">\n",
       "  <thead>\n",
       "    <tr style=\"text-align: right;\">\n",
       "      <th></th>\n",
       "      <th>0</th>\n",
       "      <th>1</th>\n",
       "      <th>2</th>\n",
       "      <th>3</th>\n",
       "      <th>4</th>\n",
       "      <th>5</th>\n",
       "      <th>6</th>\n",
       "      <th>7</th>\n",
       "      <th>8</th>\n",
       "      <th>9</th>\n",
       "      <th>...</th>\n",
       "      <th>20</th>\n",
       "      <th>21</th>\n",
       "      <th>22</th>\n",
       "      <th>23</th>\n",
       "      <th>24</th>\n",
       "      <th>25</th>\n",
       "      <th>26</th>\n",
       "      <th>27</th>\n",
       "      <th>28</th>\n",
       "      <th>29</th>\n",
       "    </tr>\n",
       "  </thead>\n",
       "  <tbody>\n",
       "    <tr>\n",
       "      <th>0</th>\n",
       "      <td>6.428269</td>\n",
       "      <td>2.682757</td>\n",
       "      <td>2.250459</td>\n",
       "      <td>-9.312073</td>\n",
       "      <td>2.971323</td>\n",
       "      <td>0.415720</td>\n",
       "      <td>-1.793188</td>\n",
       "      <td>-0.414958</td>\n",
       "      <td>-0.453025</td>\n",
       "      <td>-0.175108</td>\n",
       "      <td>...</td>\n",
       "      <td>-0.348766</td>\n",
       "      <td>-0.275914</td>\n",
       "      <td>-0.092422</td>\n",
       "      <td>-0.837167</td>\n",
       "      <td>0.580818</td>\n",
       "      <td>0.826244</td>\n",
       "      <td>0.066083</td>\n",
       "      <td>1.204048</td>\n",
       "      <td>0.066523</td>\n",
       "      <td>-0.054457</td>\n",
       "    </tr>\n",
       "    <tr>\n",
       "      <th>1</th>\n",
       "      <td>-1.391119</td>\n",
       "      <td>0.067291</td>\n",
       "      <td>-2.080221</td>\n",
       "      <td>-0.379658</td>\n",
       "      <td>-1.292835</td>\n",
       "      <td>-0.972226</td>\n",
       "      <td>0.075935</td>\n",
       "      <td>0.057728</td>\n",
       "      <td>-0.057285</td>\n",
       "      <td>0.752842</td>\n",
       "      <td>...</td>\n",
       "      <td>-0.269469</td>\n",
       "      <td>0.259114</td>\n",
       "      <td>0.165412</td>\n",
       "      <td>0.457707</td>\n",
       "      <td>-0.619293</td>\n",
       "      <td>-0.394920</td>\n",
       "      <td>0.674820</td>\n",
       "      <td>0.759123</td>\n",
       "      <td>0.028391</td>\n",
       "      <td>0.820715</td>\n",
       "    </tr>\n",
       "    <tr>\n",
       "      <th>2</th>\n",
       "      <td>4.320306</td>\n",
       "      <td>-5.650859</td>\n",
       "      <td>-1.901587</td>\n",
       "      <td>-0.833684</td>\n",
       "      <td>2.384689</td>\n",
       "      <td>0.281163</td>\n",
       "      <td>-0.046731</td>\n",
       "      <td>0.101987</td>\n",
       "      <td>0.229895</td>\n",
       "      <td>-0.040157</td>\n",
       "      <td>...</td>\n",
       "      <td>0.365406</td>\n",
       "      <td>0.145827</td>\n",
       "      <td>0.480210</td>\n",
       "      <td>-1.067330</td>\n",
       "      <td>-0.087290</td>\n",
       "      <td>0.056452</td>\n",
       "      <td>-0.469957</td>\n",
       "      <td>-0.251549</td>\n",
       "      <td>0.700647</td>\n",
       "      <td>-0.580994</td>\n",
       "    </tr>\n",
       "    <tr>\n",
       "      <th>3</th>\n",
       "      <td>2.928293</td>\n",
       "      <td>1.632387</td>\n",
       "      <td>4.603475</td>\n",
       "      <td>-4.587686</td>\n",
       "      <td>-0.836109</td>\n",
       "      <td>1.631153</td>\n",
       "      <td>-0.324824</td>\n",
       "      <td>-0.197627</td>\n",
       "      <td>-0.342595</td>\n",
       "      <td>-0.774270</td>\n",
       "      <td>...</td>\n",
       "      <td>0.571459</td>\n",
       "      <td>1.327825</td>\n",
       "      <td>-1.142450</td>\n",
       "      <td>1.405766</td>\n",
       "      <td>0.052926</td>\n",
       "      <td>-0.133125</td>\n",
       "      <td>0.592025</td>\n",
       "      <td>1.315632</td>\n",
       "      <td>-0.752020</td>\n",
       "      <td>0.945775</td>\n",
       "    </tr>\n",
       "    <tr>\n",
       "      <th>4</th>\n",
       "      <td>-1.138958</td>\n",
       "      <td>-1.249282</td>\n",
       "      <td>-0.490809</td>\n",
       "      <td>-0.088124</td>\n",
       "      <td>1.537640</td>\n",
       "      <td>0.867687</td>\n",
       "      <td>0.470345</td>\n",
       "      <td>0.068449</td>\n",
       "      <td>-0.063009</td>\n",
       "      <td>-0.312089</td>\n",
       "      <td>...</td>\n",
       "      <td>0.188642</td>\n",
       "      <td>-0.323703</td>\n",
       "      <td>0.473910</td>\n",
       "      <td>-0.757480</td>\n",
       "      <td>-0.177895</td>\n",
       "      <td>-0.182224</td>\n",
       "      <td>0.002917</td>\n",
       "      <td>-0.083622</td>\n",
       "      <td>-0.595318</td>\n",
       "      <td>-0.598485</td>\n",
       "    </tr>\n",
       "    <tr>\n",
       "      <th>...</th>\n",
       "      <td>...</td>\n",
       "      <td>...</td>\n",
       "      <td>...</td>\n",
       "      <td>...</td>\n",
       "      <td>...</td>\n",
       "      <td>...</td>\n",
       "      <td>...</td>\n",
       "      <td>...</td>\n",
       "      <td>...</td>\n",
       "      <td>...</td>\n",
       "      <td>...</td>\n",
       "      <td>...</td>\n",
       "      <td>...</td>\n",
       "      <td>...</td>\n",
       "      <td>...</td>\n",
       "      <td>...</td>\n",
       "      <td>...</td>\n",
       "      <td>...</td>\n",
       "      <td>...</td>\n",
       "      <td>...</td>\n",
       "      <td>...</td>\n",
       "    </tr>\n",
       "    <tr>\n",
       "      <th>7995</th>\n",
       "      <td>0.630008</td>\n",
       "      <td>-2.359242</td>\n",
       "      <td>-2.079336</td>\n",
       "      <td>-0.958393</td>\n",
       "      <td>1.207036</td>\n",
       "      <td>0.751682</td>\n",
       "      <td>0.969271</td>\n",
       "      <td>-0.037004</td>\n",
       "      <td>-0.377920</td>\n",
       "      <td>0.011414</td>\n",
       "      <td>...</td>\n",
       "      <td>-0.143486</td>\n",
       "      <td>-1.038564</td>\n",
       "      <td>3.002011</td>\n",
       "      <td>-0.510472</td>\n",
       "      <td>-1.187903</td>\n",
       "      <td>-0.424950</td>\n",
       "      <td>-1.101283</td>\n",
       "      <td>-1.159963</td>\n",
       "      <td>0.891244</td>\n",
       "      <td>0.302409</td>\n",
       "    </tr>\n",
       "    <tr>\n",
       "      <th>7996</th>\n",
       "      <td>-1.707168</td>\n",
       "      <td>-1.098791</td>\n",
       "      <td>1.328928</td>\n",
       "      <td>-2.665047</td>\n",
       "      <td>-0.846321</td>\n",
       "      <td>0.374110</td>\n",
       "      <td>-1.220295</td>\n",
       "      <td>-0.334198</td>\n",
       "      <td>0.011252</td>\n",
       "      <td>-0.186074</td>\n",
       "      <td>...</td>\n",
       "      <td>-0.091653</td>\n",
       "      <td>-0.033982</td>\n",
       "      <td>-0.077052</td>\n",
       "      <td>0.562078</td>\n",
       "      <td>-0.456623</td>\n",
       "      <td>0.736116</td>\n",
       "      <td>-0.336436</td>\n",
       "      <td>0.452348</td>\n",
       "      <td>-0.410602</td>\n",
       "      <td>0.046371</td>\n",
       "    </tr>\n",
       "    <tr>\n",
       "      <th>7997</th>\n",
       "      <td>-1.042150</td>\n",
       "      <td>0.763288</td>\n",
       "      <td>2.602068</td>\n",
       "      <td>-1.840042</td>\n",
       "      <td>1.778293</td>\n",
       "      <td>-0.919254</td>\n",
       "      <td>-1.283691</td>\n",
       "      <td>-0.344462</td>\n",
       "      <td>-0.429570</td>\n",
       "      <td>-0.299508</td>\n",
       "      <td>...</td>\n",
       "      <td>0.397984</td>\n",
       "      <td>0.757398</td>\n",
       "      <td>-0.209124</td>\n",
       "      <td>0.027230</td>\n",
       "      <td>0.881597</td>\n",
       "      <td>-0.275381</td>\n",
       "      <td>0.333405</td>\n",
       "      <td>0.803787</td>\n",
       "      <td>0.169371</td>\n",
       "      <td>-0.234275</td>\n",
       "    </tr>\n",
       "    <tr>\n",
       "      <th>7998</th>\n",
       "      <td>7.238560</td>\n",
       "      <td>-1.005207</td>\n",
       "      <td>-3.600543</td>\n",
       "      <td>0.788218</td>\n",
       "      <td>0.171085</td>\n",
       "      <td>0.809020</td>\n",
       "      <td>-1.355754</td>\n",
       "      <td>-0.205062</td>\n",
       "      <td>0.021187</td>\n",
       "      <td>-0.166344</td>\n",
       "      <td>...</td>\n",
       "      <td>0.048308</td>\n",
       "      <td>-0.088603</td>\n",
       "      <td>-0.388497</td>\n",
       "      <td>-1.809741</td>\n",
       "      <td>1.316909</td>\n",
       "      <td>-1.393719</td>\n",
       "      <td>0.675647</td>\n",
       "      <td>0.775134</td>\n",
       "      <td>-0.327783</td>\n",
       "      <td>0.136387</td>\n",
       "    </tr>\n",
       "    <tr>\n",
       "      <th>7999</th>\n",
       "      <td>3.126858</td>\n",
       "      <td>-3.485587</td>\n",
       "      <td>-2.365911</td>\n",
       "      <td>0.297583</td>\n",
       "      <td>2.065779</td>\n",
       "      <td>0.020023</td>\n",
       "      <td>-0.842662</td>\n",
       "      <td>-0.169262</td>\n",
       "      <td>0.388977</td>\n",
       "      <td>-0.198356</td>\n",
       "      <td>...</td>\n",
       "      <td>-0.433196</td>\n",
       "      <td>-0.829980</td>\n",
       "      <td>1.178537</td>\n",
       "      <td>0.292119</td>\n",
       "      <td>-0.661595</td>\n",
       "      <td>0.014437</td>\n",
       "      <td>-0.741214</td>\n",
       "      <td>0.341640</td>\n",
       "      <td>0.948818</td>\n",
       "      <td>-0.001806</td>\n",
       "    </tr>\n",
       "  </tbody>\n",
       "</table>\n",
       "<p>8000 rows × 30 columns</p>\n",
       "</div>"
      ],
      "text/plain": [
       "            0         1         2         3         4         5         6   \\\n",
       "0     6.428269  2.682757  2.250459 -9.312073  2.971323  0.415720 -1.793188   \n",
       "1    -1.391119  0.067291 -2.080221 -0.379658 -1.292835 -0.972226  0.075935   \n",
       "2     4.320306 -5.650859 -1.901587 -0.833684  2.384689  0.281163 -0.046731   \n",
       "3     2.928293  1.632387  4.603475 -4.587686 -0.836109  1.631153 -0.324824   \n",
       "4    -1.138958 -1.249282 -0.490809 -0.088124  1.537640  0.867687  0.470345   \n",
       "...        ...       ...       ...       ...       ...       ...       ...   \n",
       "7995  0.630008 -2.359242 -2.079336 -0.958393  1.207036  0.751682  0.969271   \n",
       "7996 -1.707168 -1.098791  1.328928 -2.665047 -0.846321  0.374110 -1.220295   \n",
       "7997 -1.042150  0.763288  2.602068 -1.840042  1.778293 -0.919254 -1.283691   \n",
       "7998  7.238560 -1.005207 -3.600543  0.788218  0.171085  0.809020 -1.355754   \n",
       "7999  3.126858 -3.485587 -2.365911  0.297583  2.065779  0.020023 -0.842662   \n",
       "\n",
       "            7         8         9   ...        20        21        22  \\\n",
       "0    -0.414958 -0.453025 -0.175108  ... -0.348766 -0.275914 -0.092422   \n",
       "1     0.057728 -0.057285  0.752842  ... -0.269469  0.259114  0.165412   \n",
       "2     0.101987  0.229895 -0.040157  ...  0.365406  0.145827  0.480210   \n",
       "3    -0.197627 -0.342595 -0.774270  ...  0.571459  1.327825 -1.142450   \n",
       "4     0.068449 -0.063009 -0.312089  ...  0.188642 -0.323703  0.473910   \n",
       "...        ...       ...       ...  ...       ...       ...       ...   \n",
       "7995 -0.037004 -0.377920  0.011414  ... -0.143486 -1.038564  3.002011   \n",
       "7996 -0.334198  0.011252 -0.186074  ... -0.091653 -0.033982 -0.077052   \n",
       "7997 -0.344462 -0.429570 -0.299508  ...  0.397984  0.757398 -0.209124   \n",
       "7998 -0.205062  0.021187 -0.166344  ...  0.048308 -0.088603 -0.388497   \n",
       "7999 -0.169262  0.388977 -0.198356  ... -0.433196 -0.829980  1.178537   \n",
       "\n",
       "            23        24        25        26        27        28        29  \n",
       "0    -0.837167  0.580818  0.826244  0.066083  1.204048  0.066523 -0.054457  \n",
       "1     0.457707 -0.619293 -0.394920  0.674820  0.759123  0.028391  0.820715  \n",
       "2    -1.067330 -0.087290  0.056452 -0.469957 -0.251549  0.700647 -0.580994  \n",
       "3     1.405766  0.052926 -0.133125  0.592025  1.315632 -0.752020  0.945775  \n",
       "4    -0.757480 -0.177895 -0.182224  0.002917 -0.083622 -0.595318 -0.598485  \n",
       "...        ...       ...       ...       ...       ...       ...       ...  \n",
       "7995 -0.510472 -1.187903 -0.424950 -1.101283 -1.159963  0.891244  0.302409  \n",
       "7996  0.562078 -0.456623  0.736116 -0.336436  0.452348 -0.410602  0.046371  \n",
       "7997  0.027230  0.881597 -0.275381  0.333405  0.803787  0.169371 -0.234275  \n",
       "7998 -1.809741  1.316909 -1.393719  0.675647  0.775134 -0.327783  0.136387  \n",
       "7999  0.292119 -0.661595  0.014437 -0.741214  0.341640  0.948818 -0.001806  \n",
       "\n",
       "[8000 rows x 30 columns]"
      ]
     },
     "execution_count": 23,
     "metadata": {},
     "output_type": "execute_result"
    }
   ],
   "source": [
    "pd.DataFrame(X_train_continous)"
   ]
  },
  {
   "cell_type": "code",
   "execution_count": 24,
   "metadata": {},
   "outputs": [
    {
     "data": {
      "text/plain": [
       "array([[0, 0, 0, ..., 0, 0, 1],\n",
       "       [1, 0, 0, ..., 0, 0, 0],\n",
       "       [1, 0, 0, ..., 0, 0, 0],\n",
       "       ...,\n",
       "       [0, 0, 0, ..., 0, 1, 0],\n",
       "       [1, 0, 0, ..., 0, 0, 0],\n",
       "       [1, 0, 0, ..., 0, 0, 0]], dtype=uint8)"
      ]
     },
     "execution_count": 24,
     "metadata": {},
     "output_type": "execute_result"
    }
   ],
   "source": [
    "X_train_KBest.values"
   ]
  },
  {
   "cell_type": "code",
   "execution_count": 27,
   "metadata": {},
   "outputs": [
    {
     "data": {
      "text/html": [
       "<div>\n",
       "<style scoped>\n",
       "    .dataframe tbody tr th:only-of-type {\n",
       "        vertical-align: middle;\n",
       "    }\n",
       "\n",
       "    .dataframe tbody tr th {\n",
       "        vertical-align: top;\n",
       "    }\n",
       "\n",
       "    .dataframe thead th {\n",
       "        text-align: right;\n",
       "    }\n",
       "</style>\n",
       "<table border=\"1\" class=\"dataframe\">\n",
       "  <thead>\n",
       "    <tr style=\"text-align: right;\">\n",
       "      <th></th>\n",
       "      <th>0</th>\n",
       "      <th>1</th>\n",
       "      <th>2</th>\n",
       "      <th>3</th>\n",
       "      <th>4</th>\n",
       "      <th>5</th>\n",
       "      <th>6</th>\n",
       "      <th>7</th>\n",
       "      <th>8</th>\n",
       "      <th>9</th>\n",
       "      <th>...</th>\n",
       "      <th>10</th>\n",
       "      <th>11</th>\n",
       "      <th>12</th>\n",
       "      <th>13</th>\n",
       "      <th>14</th>\n",
       "      <th>15</th>\n",
       "      <th>16</th>\n",
       "      <th>17</th>\n",
       "      <th>18</th>\n",
       "      <th>19</th>\n",
       "    </tr>\n",
       "  </thead>\n",
       "  <tbody>\n",
       "    <tr>\n",
       "      <th>0</th>\n",
       "      <td>6.428269</td>\n",
       "      <td>2.682757</td>\n",
       "      <td>2.250459</td>\n",
       "      <td>-9.312073</td>\n",
       "      <td>2.971323</td>\n",
       "      <td>0.415720</td>\n",
       "      <td>-1.793188</td>\n",
       "      <td>-0.414958</td>\n",
       "      <td>-0.453025</td>\n",
       "      <td>-0.175108</td>\n",
       "      <td>...</td>\n",
       "      <td>0</td>\n",
       "      <td>0</td>\n",
       "      <td>0</td>\n",
       "      <td>0</td>\n",
       "      <td>0</td>\n",
       "      <td>0</td>\n",
       "      <td>0</td>\n",
       "      <td>0</td>\n",
       "      <td>0</td>\n",
       "      <td>1</td>\n",
       "    </tr>\n",
       "    <tr>\n",
       "      <th>1</th>\n",
       "      <td>-1.391119</td>\n",
       "      <td>0.067291</td>\n",
       "      <td>-2.080221</td>\n",
       "      <td>-0.379658</td>\n",
       "      <td>-1.292835</td>\n",
       "      <td>-0.972226</td>\n",
       "      <td>0.075935</td>\n",
       "      <td>0.057728</td>\n",
       "      <td>-0.057285</td>\n",
       "      <td>0.752842</td>\n",
       "      <td>...</td>\n",
       "      <td>0</td>\n",
       "      <td>0</td>\n",
       "      <td>0</td>\n",
       "      <td>1</td>\n",
       "      <td>0</td>\n",
       "      <td>0</td>\n",
       "      <td>0</td>\n",
       "      <td>0</td>\n",
       "      <td>0</td>\n",
       "      <td>0</td>\n",
       "    </tr>\n",
       "    <tr>\n",
       "      <th>2</th>\n",
       "      <td>4.320306</td>\n",
       "      <td>-5.650859</td>\n",
       "      <td>-1.901587</td>\n",
       "      <td>-0.833684</td>\n",
       "      <td>2.384689</td>\n",
       "      <td>0.281163</td>\n",
       "      <td>-0.046731</td>\n",
       "      <td>0.101987</td>\n",
       "      <td>0.229895</td>\n",
       "      <td>-0.040157</td>\n",
       "      <td>...</td>\n",
       "      <td>0</td>\n",
       "      <td>0</td>\n",
       "      <td>0</td>\n",
       "      <td>1</td>\n",
       "      <td>0</td>\n",
       "      <td>0</td>\n",
       "      <td>0</td>\n",
       "      <td>0</td>\n",
       "      <td>0</td>\n",
       "      <td>0</td>\n",
       "    </tr>\n",
       "    <tr>\n",
       "      <th>3</th>\n",
       "      <td>2.928293</td>\n",
       "      <td>1.632387</td>\n",
       "      <td>4.603475</td>\n",
       "      <td>-4.587686</td>\n",
       "      <td>-0.836109</td>\n",
       "      <td>1.631153</td>\n",
       "      <td>-0.324824</td>\n",
       "      <td>-0.197627</td>\n",
       "      <td>-0.342595</td>\n",
       "      <td>-0.774270</td>\n",
       "      <td>...</td>\n",
       "      <td>0</td>\n",
       "      <td>0</td>\n",
       "      <td>1</td>\n",
       "      <td>0</td>\n",
       "      <td>0</td>\n",
       "      <td>0</td>\n",
       "      <td>0</td>\n",
       "      <td>0</td>\n",
       "      <td>0</td>\n",
       "      <td>0</td>\n",
       "    </tr>\n",
       "    <tr>\n",
       "      <th>4</th>\n",
       "      <td>-1.138958</td>\n",
       "      <td>-1.249282</td>\n",
       "      <td>-0.490809</td>\n",
       "      <td>-0.088124</td>\n",
       "      <td>1.537640</td>\n",
       "      <td>0.867687</td>\n",
       "      <td>0.470345</td>\n",
       "      <td>0.068449</td>\n",
       "      <td>-0.063009</td>\n",
       "      <td>-0.312089</td>\n",
       "      <td>...</td>\n",
       "      <td>0</td>\n",
       "      <td>0</td>\n",
       "      <td>0</td>\n",
       "      <td>1</td>\n",
       "      <td>0</td>\n",
       "      <td>0</td>\n",
       "      <td>0</td>\n",
       "      <td>0</td>\n",
       "      <td>0</td>\n",
       "      <td>0</td>\n",
       "    </tr>\n",
       "    <tr>\n",
       "      <th>...</th>\n",
       "      <td>...</td>\n",
       "      <td>...</td>\n",
       "      <td>...</td>\n",
       "      <td>...</td>\n",
       "      <td>...</td>\n",
       "      <td>...</td>\n",
       "      <td>...</td>\n",
       "      <td>...</td>\n",
       "      <td>...</td>\n",
       "      <td>...</td>\n",
       "      <td>...</td>\n",
       "      <td>...</td>\n",
       "      <td>...</td>\n",
       "      <td>...</td>\n",
       "      <td>...</td>\n",
       "      <td>...</td>\n",
       "      <td>...</td>\n",
       "      <td>...</td>\n",
       "      <td>...</td>\n",
       "      <td>...</td>\n",
       "      <td>...</td>\n",
       "    </tr>\n",
       "    <tr>\n",
       "      <th>7995</th>\n",
       "      <td>0.630008</td>\n",
       "      <td>-2.359242</td>\n",
       "      <td>-2.079336</td>\n",
       "      <td>-0.958393</td>\n",
       "      <td>1.207036</td>\n",
       "      <td>0.751682</td>\n",
       "      <td>0.969271</td>\n",
       "      <td>-0.037004</td>\n",
       "      <td>-0.377920</td>\n",
       "      <td>0.011414</td>\n",
       "      <td>...</td>\n",
       "      <td>1</td>\n",
       "      <td>0</td>\n",
       "      <td>0</td>\n",
       "      <td>1</td>\n",
       "      <td>0</td>\n",
       "      <td>0</td>\n",
       "      <td>0</td>\n",
       "      <td>0</td>\n",
       "      <td>0</td>\n",
       "      <td>0</td>\n",
       "    </tr>\n",
       "    <tr>\n",
       "      <th>7996</th>\n",
       "      <td>-1.707168</td>\n",
       "      <td>-1.098791</td>\n",
       "      <td>1.328928</td>\n",
       "      <td>-2.665047</td>\n",
       "      <td>-0.846321</td>\n",
       "      <td>0.374110</td>\n",
       "      <td>-1.220295</td>\n",
       "      <td>-0.334198</td>\n",
       "      <td>0.011252</td>\n",
       "      <td>-0.186074</td>\n",
       "      <td>...</td>\n",
       "      <td>0</td>\n",
       "      <td>0</td>\n",
       "      <td>0</td>\n",
       "      <td>0</td>\n",
       "      <td>0</td>\n",
       "      <td>0</td>\n",
       "      <td>0</td>\n",
       "      <td>0</td>\n",
       "      <td>0</td>\n",
       "      <td>0</td>\n",
       "    </tr>\n",
       "    <tr>\n",
       "      <th>7997</th>\n",
       "      <td>-1.042150</td>\n",
       "      <td>0.763288</td>\n",
       "      <td>2.602068</td>\n",
       "      <td>-1.840042</td>\n",
       "      <td>1.778293</td>\n",
       "      <td>-0.919254</td>\n",
       "      <td>-1.283691</td>\n",
       "      <td>-0.344462</td>\n",
       "      <td>-0.429570</td>\n",
       "      <td>-0.299508</td>\n",
       "      <td>...</td>\n",
       "      <td>0</td>\n",
       "      <td>0</td>\n",
       "      <td>1</td>\n",
       "      <td>0</td>\n",
       "      <td>0</td>\n",
       "      <td>0</td>\n",
       "      <td>0</td>\n",
       "      <td>0</td>\n",
       "      <td>1</td>\n",
       "      <td>0</td>\n",
       "    </tr>\n",
       "    <tr>\n",
       "      <th>7998</th>\n",
       "      <td>7.238560</td>\n",
       "      <td>-1.005207</td>\n",
       "      <td>-3.600543</td>\n",
       "      <td>0.788218</td>\n",
       "      <td>0.171085</td>\n",
       "      <td>0.809020</td>\n",
       "      <td>-1.355754</td>\n",
       "      <td>-0.205062</td>\n",
       "      <td>0.021187</td>\n",
       "      <td>-0.166344</td>\n",
       "      <td>...</td>\n",
       "      <td>0</td>\n",
       "      <td>0</td>\n",
       "      <td>0</td>\n",
       "      <td>1</td>\n",
       "      <td>0</td>\n",
       "      <td>0</td>\n",
       "      <td>0</td>\n",
       "      <td>0</td>\n",
       "      <td>0</td>\n",
       "      <td>0</td>\n",
       "    </tr>\n",
       "    <tr>\n",
       "      <th>7999</th>\n",
       "      <td>3.126858</td>\n",
       "      <td>-3.485587</td>\n",
       "      <td>-2.365911</td>\n",
       "      <td>0.297583</td>\n",
       "      <td>2.065779</td>\n",
       "      <td>0.020023</td>\n",
       "      <td>-0.842662</td>\n",
       "      <td>-0.169262</td>\n",
       "      <td>0.388977</td>\n",
       "      <td>-0.198356</td>\n",
       "      <td>...</td>\n",
       "      <td>0</td>\n",
       "      <td>0</td>\n",
       "      <td>0</td>\n",
       "      <td>1</td>\n",
       "      <td>0</td>\n",
       "      <td>0</td>\n",
       "      <td>0</td>\n",
       "      <td>0</td>\n",
       "      <td>0</td>\n",
       "      <td>0</td>\n",
       "    </tr>\n",
       "  </tbody>\n",
       "</table>\n",
       "<p>8000 rows × 50 columns</p>\n",
       "</div>"
      ],
      "text/plain": [
       "            0         1         2         3         4         5         6   \\\n",
       "0     6.428269  2.682757  2.250459 -9.312073  2.971323  0.415720 -1.793188   \n",
       "1    -1.391119  0.067291 -2.080221 -0.379658 -1.292835 -0.972226  0.075935   \n",
       "2     4.320306 -5.650859 -1.901587 -0.833684  2.384689  0.281163 -0.046731   \n",
       "3     2.928293  1.632387  4.603475 -4.587686 -0.836109  1.631153 -0.324824   \n",
       "4    -1.138958 -1.249282 -0.490809 -0.088124  1.537640  0.867687  0.470345   \n",
       "...        ...       ...       ...       ...       ...       ...       ...   \n",
       "7995  0.630008 -2.359242 -2.079336 -0.958393  1.207036  0.751682  0.969271   \n",
       "7996 -1.707168 -1.098791  1.328928 -2.665047 -0.846321  0.374110 -1.220295   \n",
       "7997 -1.042150  0.763288  2.602068 -1.840042  1.778293 -0.919254 -1.283691   \n",
       "7998  7.238560 -1.005207 -3.600543  0.788218  0.171085  0.809020 -1.355754   \n",
       "7999  3.126858 -3.485587 -2.365911  0.297583  2.065779  0.020023 -0.842662   \n",
       "\n",
       "            7         8         9   ...  10  11  12  13  14  15  16  17  18  \\\n",
       "0    -0.414958 -0.453025 -0.175108  ...   0   0   0   0   0   0   0   0   0   \n",
       "1     0.057728 -0.057285  0.752842  ...   0   0   0   1   0   0   0   0   0   \n",
       "2     0.101987  0.229895 -0.040157  ...   0   0   0   1   0   0   0   0   0   \n",
       "3    -0.197627 -0.342595 -0.774270  ...   0   0   1   0   0   0   0   0   0   \n",
       "4     0.068449 -0.063009 -0.312089  ...   0   0   0   1   0   0   0   0   0   \n",
       "...        ...       ...       ...  ...  ..  ..  ..  ..  ..  ..  ..  ..  ..   \n",
       "7995 -0.037004 -0.377920  0.011414  ...   1   0   0   1   0   0   0   0   0   \n",
       "7996 -0.334198  0.011252 -0.186074  ...   0   0   0   0   0   0   0   0   0   \n",
       "7997 -0.344462 -0.429570 -0.299508  ...   0   0   1   0   0   0   0   0   1   \n",
       "7998 -0.205062  0.021187 -0.166344  ...   0   0   0   1   0   0   0   0   0   \n",
       "7999 -0.169262  0.388977 -0.198356  ...   0   0   0   1   0   0   0   0   0   \n",
       "\n",
       "      19  \n",
       "0      1  \n",
       "1      0  \n",
       "2      0  \n",
       "3      0  \n",
       "4      0  \n",
       "...   ..  \n",
       "7995   0  \n",
       "7996   0  \n",
       "7997   0  \n",
       "7998   0  \n",
       "7999   0  \n",
       "\n",
       "[8000 rows x 50 columns]"
      ]
     },
     "execution_count": 27,
     "metadata": {},
     "output_type": "execute_result"
    }
   ],
   "source": [
    "X_train_pca = pd.concat([pd.DataFrame(X_train_continous), \n",
    "                         pd.DataFrame(X_train_KBest.values)],axis=1)\n",
    "\n",
    "X_test_pca = pd.concat([pd.DataFrame(X_test_continous), \n",
    "                         pd.DataFrame(X_test_KBest.values)],axis=1)\n",
    "\n",
    "\n",
    "X_train_pca"
   ]
  },
  {
   "cell_type": "code",
   "execution_count": 30,
   "metadata": {},
   "outputs": [
    {
     "name": "stderr",
     "output_type": "stream",
     "text": [
      "[Parallel(n_jobs=1)]: Using backend SequentialBackend with 1 concurrent workers.\n",
      "[Parallel(n_jobs=1)]: Done   5 out of   5 | elapsed:    9.1s finished\n"
     ]
    },
    {
     "data": {
      "text/plain": [
       "array([0.978125, 0.97625 , 0.98125 , 0.980625, 0.981875])"
      ]
     },
     "execution_count": 30,
     "metadata": {},
     "output_type": "execute_result"
    }
   ],
   "source": [
    "# fast check if taking k feature is sactifactory using default hyperparameters\n",
    "from sklearn.tree import DecisionTreeClassifier\n",
    "from sklearn.ensemble import RandomForestClassifier\n",
    "from sklearn.model_selection import cross_val_score\n",
    "\n",
    "dtc = DecisionTreeClassifier()\n",
    "rfc = RandomForestClassifier()\n",
    "\n",
    "cross_val_score(rfc, X_train_pca, y_train, cv=5, verbose=1)"
   ]
  },
  {
   "cell_type": "markdown",
   "metadata": {},
   "source": [
    "### Grid Search with Cross Validation\n",
    "- Decision tree model is less complex than random forest, and also faster\n",
    "- So, we jump into grid search CV for decision tree's hyper parameter search."
   ]
  },
  {
   "cell_type": "code",
   "execution_count": 32,
   "metadata": {
    "scrolled": true
   },
   "outputs": [],
   "source": [
    "from sklearn.model_selection import GridSearchCV\n",
    "# Create the parameter grid based on the results of random search \n",
    "\n",
    "    \n",
    "param_grid = {\n",
    "    'criterion': ['entropy', 'gini'],\n",
    "    'max_depth': [10, 20, 50, 100, None],\n",
    "    'min_samples_leaf': [1, 2],\n",
    "    'min_samples_split': range(1, 10)\n",
    "    \n",
    "}\n",
    "# Create a based model\n",
    "dtc = DecisionTreeClassifier()\n",
    "# Instantiate the grid search model\n",
    "grid_search = GridSearchCV(estimator = dtc, param_grid = param_grid, \n",
    "                          cv = 10, n_jobs = -1, verbose = 0)\n",
    "\n",
    "\n",
    "# Fit the random search model\n",
    "_ = grid_search.fit(X_train_pca, y_train)"
   ]
  },
  {
   "cell_type": "code",
   "execution_count": 33,
   "metadata": {
    "scrolled": true
   },
   "outputs": [
    {
     "name": "stdout",
     "output_type": "stream",
     "text": [
      "{'criterion': 'entropy', 'max_depth': 10, 'min_samples_leaf': 2, 'min_samples_split': 9}\n",
      "-------------------------------------\n",
      "0.9742500000000002\n",
      "-------------------------------------\n",
      "DecisionTreeClassifier(ccp_alpha=0.0, class_weight=None, criterion='entropy',\n",
      "                       max_depth=10, max_features=None, max_leaf_nodes=None,\n",
      "                       min_impurity_decrease=0.0, min_impurity_split=None,\n",
      "                       min_samples_leaf=2, min_samples_split=9,\n",
      "                       min_weight_fraction_leaf=0.0, presort='deprecated',\n",
      "                       random_state=None, splitter='best')\n",
      "-------------------------------------\n"
     ]
    }
   ],
   "source": [
    "print(grid_search.best_params_)\n",
    "print('-------------------------------------')\n",
    "print(grid_search.best_score_)\n",
    "print('-------------------------------------')\n",
    "print(grid_search.best_estimator_)\n",
    "print('-------------------------------------')\n",
    "# print(grid_search.cv_results_)\n",
    "result_dtc_grid = grid_search.cv_results_"
   ]
  },
  {
   "cell_type": "code",
   "execution_count": 34,
   "metadata": {},
   "outputs": [],
   "source": [
    "#concat two dataframes for better visualization \n",
    "df_result_grid2 = pd.concat([pd.DataFrame(result_dtc_grid['mean_fit_time']),\n",
    "                              pd.DataFrame(result_dtc_grid['mean_test_score'])],axis=1)\n",
    "\n",
    "df_result_grid2.columns = ['mean_fit_time','mean_test_score']  #naming the dataframe columns\n",
    "df_result_grid2['accuracy_time_ratio'] = df_result_grid2['mean_test_score']/df_result_grid2['mean_fit_time']\n",
    "df_result_grid2['params'] = result_dtc_grid['params']\n"
   ]
  },
  {
   "cell_type": "code",
   "execution_count": 39,
   "metadata": {},
   "outputs": [
    {
     "name": "stdout",
     "output_type": "stream",
     "text": [
      "Highest accuracy model is: NO. 17: \n",
      " {'criterion': 'entropy', 'max_depth': 10, 'min_samples_leaf': 2, 'min_samples_split': 9}\n",
      "Highest accuracy-time ratio model is: NO. 105: \n",
      " {'criterion': 'gini', 'max_depth': 10, 'min_samples_leaf': 2, 'min_samples_split': 7}\n"
     ]
    }
   ],
   "source": [
    "# Grid search cv result sumary\n",
    "index_accuracy = df_result_grid2['mean_test_score'].idxmax()\n",
    "index_ratio = df_result_grid2['accuracy_time_ratio'].idxmax()\n",
    "print(\"Highest accuracy model is: NO. {}: \\n {}\".format(index_accuracy, \n",
    "                                                     df_result_grid2['params'][index_accuracy]))\n",
    "print(\"Highest accuracy-time ratio model is: NO. {}: \\n {}\".format(index_ratio, \n",
    "                                                     df_result_grid2['params'][index_ratio]))\n"
   ]
  },
  {
   "cell_type": "code",
   "execution_count": 41,
   "metadata": {},
   "outputs": [
    {
     "data": {
      "text/plain": [
       "<matplotlib.legend.Legend at 0x23d8e68e4c8>"
      ]
     },
     "execution_count": 41,
     "metadata": {},
     "output_type": "execute_result"
    },
    {
     "data": {
      "image/png": "[encoded data removed]",
      "text/plain": [
       "<Figure size 432x288 with 1 Axes>"
      ]
     },
     "metadata": {},
     "output_type": "display_data"
    }
   ],
   "source": [
    "# visualize the cv result\n",
    "\n",
    "plt.scatter(df_result_grid2['mean_fit_time'], df_result_grid2['mean_test_score'], c='b', label=\"points\")\n",
    "plt.scatter(df_result_grid2['mean_fit_time'][index_accuracy], df_result_grid2['mean_test_score'][index_accuracy], c='r', s=200, alpha=0.2, label='max accuracy')\n",
    "plt.scatter(df_result_grid2['mean_fit_time'][index_ratio], df_result_grid2['mean_test_score'][index_ratio], c='g', s=200, alpha=0.2, label='max ratio')\n",
    "plt.xlabel('mean_fit_time')\n",
    "plt.ylabel('mean_test_score')\n",
    "plt.legend()"
   ]
  },
  {
   "cell_type": "markdown",
   "metadata": {},
   "source": [
    "### Evaluation on the test set (hold-out data)\n",
    "Since the dataset is not very huge. We choose the model with hyperparameters give highest accuracy for evaluation."
   ]
  },
  {
   "cell_type": "code",
   "execution_count": 44,
   "metadata": {},
   "outputs": [],
   "source": [
    "# Create the final RF classifier\n",
    "\n",
    "# parameter = {'n_estimators': 40, \n",
    "#              'min_samples_split': 2,\n",
    "#              'min_samples_leaf': 1,\n",
    "#              'max_features': 'sqrt',\n",
    "#              'max_depth': 36, \n",
    "#              'bootstrap': False}\n",
    "parameter2 = df_result_grid2['params'][df_result_grid2['mean_test_score'].idxmax()]\n",
    "\n",
    "# Create a based model\n",
    "dtc = RandomForestClassifier(**parameter2, random_state=42, verbose=0, n_jobs=-1)\n",
    "_ = dtc.fit(X_train_pca, y_train)\n"
   ]
  },
  {
   "cell_type": "code",
   "execution_count": 45,
   "metadata": {},
   "outputs": [
    {
     "name": "stdout",
     "output_type": "stream",
     "text": [
      "classification_report\n",
      "                    precision    recall  f1-score   support\n",
      "\n",
      "       Charged Off       0.99      0.82      0.90        85\n",
      "           Current       0.99      1.00      0.99      1578\n",
      "           Default       1.00      1.00      1.00         3\n",
      "        Fully Paid       0.95      0.98      0.96       278\n",
      "   In Grace Period       0.00      0.00      0.00         8\n",
      " Late (16-30 days)       0.00      0.00      0.00        11\n",
      "Late (31-120 days)       1.00      0.97      0.99        38\n",
      "\n",
      "          accuracy                           0.98      2001\n",
      "         macro avg       0.70      0.68      0.69      2001\n",
      "      weighted avg       0.97      0.98      0.98      2001\n",
      "\n",
      "----------------------------\n",
      "accuracy_score\n",
      "0.9800099950024987\n"
     ]
    }
   ],
   "source": [
    "#Import scikit-learn metrics module for accuracy calculation\n",
    "from sklearn import metrics\n",
    "from sklearn.metrics import classification_report, confusion_matrix, accuracy_score\n",
    "\n",
    "y_pred2=dtc.predict(X_test_pca)\n",
    "\n",
    "print('classification_report')\n",
    "print(classification_report(y_test,y_pred2, zero_division=0))\n",
    "print('----------------------------')\n",
    "print('accuracy_score')\n",
    "print(accuracy_score(y_test, y_pred2))"
   ]
  },
  {
   "cell_type": "code",
   "execution_count": 46,
   "metadata": {},
   "outputs": [
    {
     "data": {
      "text/plain": [
       "<matplotlib.collections.LineCollection at 0x23d873f8408>"
      ]
     },
     "execution_count": 46,
     "metadata": {},
     "output_type": "execute_result"
    },
    {
     "data": {
      "image/png": "[encoded data removed]",
      "text/plain": [
       "<Figure size 432x288 with 2 Axes>"
      ]
     },
     "metadata": {},
     "output_type": "display_data"
    }
   ],
   "source": [
    "cf_matrix = confusion_matrix(y_test,y_pred2, labels=y_test.unique())\n",
    "X_axis_labels = y_test.unique()\n",
    "Y_axis_labels = y_test.unique()\n",
    "ax = sns.heatmap(cf_matrix, xticklabels=X_axis_labels, yticklabels=Y_axis_labels, annot=True, fmt=\"d\", cmap=\"YlGnBu\",square=True)\n",
    "plt.xlabel(\"Predicted\")\n",
    "plt.ylabel(\"True\")\n",
    "ax.hlines(np.arange(1,7), *ax.get_xlim())\n",
    "ax.vlines(np.arange(1,7), *ax.get_ylim())"
   ]
  },
  {
   "cell_type": "markdown",
   "metadata": {},
   "source": [
    "## random forest"
   ]
  },
  {
   "cell_type": "code",
   "execution_count": 47,
   "metadata": {
    "scrolled": true
   },
   "outputs": [
    {
     "name": "stdout",
     "output_type": "stream",
     "text": [
      "Fitting 10 folds for each of 32 candidates, totalling 320 fits\n"
     ]
    },
    {
     "name": "stderr",
     "output_type": "stream",
     "text": [
      "[Parallel(n_jobs=-1)]: Using backend LokyBackend with 12 concurrent workers.\n",
      "[Parallel(n_jobs=-1)]: Done   8 tasks      | elapsed:    2.8s\n",
      "[Parallel(n_jobs=-1)]: Done 104 tasks      | elapsed:   11.8s\n",
      "[Parallel(n_jobs=-1)]: Done 264 tasks      | elapsed:   31.0s\n",
      "[Parallel(n_jobs=-1)]: Done 320 out of 320 | elapsed:   39.2s finished\n"
     ]
    }
   ],
   "source": [
    "from sklearn.model_selection import GridSearchCV\n",
    "# Create the parameter grid based on the results of random search \n",
    "param_grid = {\n",
    "    'bootstrap': [True, False],\n",
    "    'max_depth': [36, None],\n",
    "    'max_features': ['sqrt'],\n",
    "    'min_samples_leaf': [1, 2],\n",
    "    'min_samples_split': [2, 10],\n",
    "    'n_estimators': [10,40]\n",
    "}\n",
    "# Create a based model\n",
    "rfc = RandomForestClassifier(random_state=42, verbose=0)\n",
    "# Instantiate the grid search model\n",
    "grid_search = GridSearchCV(estimator = rfc, param_grid = param_grid, \n",
    "                          cv = 10, n_jobs = -1, verbose = 3)\n",
    "\n",
    "\n",
    "# Fit the random search model\n",
    "_ = grid_search.fit(X_train_pca, y_train)"
   ]
  },
  {
   "cell_type": "code",
   "execution_count": 48,
   "metadata": {
    "scrolled": true
   },
   "outputs": [
    {
     "name": "stdout",
     "output_type": "stream",
     "text": [
      "{'bootstrap': False, 'max_depth': 36, 'max_features': 'sqrt', 'min_samples_leaf': 2, 'min_samples_split': 2, 'n_estimators': 40}\n",
      "-------------------------------------\n",
      "0.9808749999999999\n",
      "-------------------------------------\n",
      "RandomForestClassifier(bootstrap=False, ccp_alpha=0.0, class_weight=None,\n",
      "                       criterion='gini', max_depth=36, max_features='sqrt',\n",
      "                       max_leaf_nodes=None, max_samples=None,\n",
      "                       min_impurity_decrease=0.0, min_impurity_split=None,\n",
      "                       min_samples_leaf=2, min_samples_split=2,\n",
      "                       min_weight_fraction_leaf=0.0, n_estimators=40,\n",
      "                       n_jobs=None, oob_score=False, random_state=42, verbose=0,\n",
      "                       warm_start=False)\n",
      "-------------------------------------\n"
     ]
    }
   ],
   "source": [
    "print(grid_search.best_params_)\n",
    "print('-------------------------------------')\n",
    "print(grid_search.best_score_)\n",
    "print('-------------------------------------')\n",
    "print(grid_search.best_estimator_)\n",
    "print('-------------------------------------')\n",
    "# print(grid_search.cv_results_)\n",
    "result_rfc_grid = grid_search.cv_results_"
   ]
  },
  {
   "cell_type": "code",
   "execution_count": 49,
   "metadata": {},
   "outputs": [],
   "source": [
    "#concat two dataframes for better visualization \n",
    "df_result_grid = pd.concat([pd.DataFrame(result_rfc_grid['mean_fit_time']),\n",
    "                              pd.DataFrame(result_rfc_grid['mean_test_score'])],axis=1)\n",
    "\n",
    "df_result_grid.columns = ['mean_fit_time','mean_test_score']  #naming the dataframe columns\n",
    "df_result_grid['accuracy_time_ratio'] = df_result_grid['mean_test_score']/df_result_grid['mean_fit_time']\n",
    "df_result_grid['params'] = result_rfc_grid['params']\n"
   ]
  },
  {
   "cell_type": "code",
   "execution_count": 56,
   "metadata": {},
   "outputs": [
    {
     "name": "stdout",
     "output_type": "stream",
     "text": [
      "Highest accuracy model is: NO. 21: \n",
      " {'bootstrap': False, 'max_depth': 36, 'max_features': 'sqrt', 'min_samples_leaf': 2, 'min_samples_split': 2, 'n_estimators': 40}\n",
      "Highest accuracy-time ratio model is: NO. 2: \n",
      " {'bootstrap': True, 'max_depth': 36, 'max_features': 'sqrt', 'min_samples_leaf': 1, 'min_samples_split': 10, 'n_estimators': 10}\n"
     ]
    }
   ],
   "source": [
    "# Grid search cv result sumary\n",
    "index_accuracy = df_result_grid['mean_test_score'].idxmax()\n",
    "index_ratio = df_result_grid['accuracy_time_ratio'].idxmax()\n",
    "print(\"Highest accuracy model is: NO. {}: \\n {}\".format(index_accuracy, \n",
    "                                                     df_result_grid['params'][index_accuracy]))\n",
    "print(\"Highest accuracy-time ratio model is: NO. {}: \\n {}\".format(index_ratio, \n",
    "                                                     df_result_grid['params'][index_ratio]))\n"
   ]
  },
  {
   "cell_type": "code",
   "execution_count": 59,
   "metadata": {},
   "outputs": [
    {
     "data": {
      "text/plain": [
       "<matplotlib.legend.Legend at 0x23d8d409708>"
      ]
     },
     "execution_count": 59,
     "metadata": {},
     "output_type": "execute_result"
    },
    {
     "data": {
      "image/png": "[encoded data removed]",
      "text/plain": [
       "<Figure size 432x288 with 1 Axes>"
      ]
     },
     "metadata": {},
     "output_type": "display_data"
    }
   ],
   "source": [
    "# visualize the cv result\n",
    "plt.scatter(df_result_grid['mean_fit_time'], df_result_grid['mean_test_score'], c='b', label=\"points\")\n",
    "plt.scatter(df_result_grid['mean_fit_time'][index_accuracy], df_result_grid['mean_test_score'][index_accuracy], c='r', s=200, alpha=0.2, label='max accuracy')\n",
    "plt.scatter(df_result_grid['mean_fit_time'][index_ratio], df_result_grid['mean_test_score'][index_ratio], c='g', s=200, alpha=0.2, label='max ratio')\n",
    "plt.xlabel('mean_fit_time')\n",
    "plt.ylabel('mean_test_score')\n",
    "plt.legend()"
   ]
  },
  {
   "cell_type": "markdown",
   "metadata": {},
   "source": [
    "### Evaluation on the test set (hold-out data)\n",
    "Since the dataset is not very huge. We choose the model with hyperparameters give highest accuracy for evaluation."
   ]
  },
  {
   "cell_type": "code",
   "execution_count": 60,
   "metadata": {},
   "outputs": [
    {
     "name": "stderr",
     "output_type": "stream",
     "text": [
      "[Parallel(n_jobs=-1)]: Using backend ThreadingBackend with 12 concurrent workers.\n",
      "[Parallel(n_jobs=-1)]: Done  40 out of  40 | elapsed:    0.2s finished\n"
     ]
    }
   ],
   "source": [
    "# Create the final RF classifier\n",
    "\n",
    "# parameter = {'n_estimators': 40, \n",
    "#              'min_samples_split': 2,\n",
    "#              'min_samples_leaf': 1,\n",
    "#              'max_features': 'sqrt',\n",
    "#              'max_depth': 36, \n",
    "#              'bootstrap': False}\n",
    "parameter = df_result_grid['params'][index_accuracy]\n",
    "\n",
    "# Create a based model\n",
    "rfc = RandomForestClassifier(**parameter, random_state=42, verbose=1, n_jobs=-1)\n",
    "_ = rfc.fit(X_train_pca, y_train)\n"
   ]
  },
  {
   "cell_type": "code",
   "execution_count": 61,
   "metadata": {},
   "outputs": [
    {
     "name": "stderr",
     "output_type": "stream",
     "text": [
      "[Parallel(n_jobs=12)]: Using backend ThreadingBackend with 12 concurrent workers.\n",
      "[Parallel(n_jobs=12)]: Done  40 out of  40 | elapsed:    0.0s finished\n"
     ]
    },
    {
     "name": "stdout",
     "output_type": "stream",
     "text": [
      "classification_report\n",
      "                    precision    recall  f1-score   support\n",
      "\n",
      "       Charged Off       1.00      0.84      0.91        85\n",
      "           Current       0.99      1.00      1.00      1578\n",
      "           Default       1.00      1.00      1.00         3\n",
      "        Fully Paid       0.96      1.00      0.98       278\n",
      "   In Grace Period       0.00      0.00      0.00         8\n",
      " Late (16-30 days)       0.80      0.73      0.76        11\n",
      "Late (31-120 days)       0.90      0.97      0.94        38\n",
      "\n",
      "          accuracy                           0.99      2001\n",
      "         macro avg       0.81      0.79      0.80      2001\n",
      "      weighted avg       0.98      0.99      0.98      2001\n",
      "\n",
      "----------------------------\n",
      "accuracy_score\n",
      "0.9855072463768116\n"
     ]
    },
    {
     "name": "stderr",
     "output_type": "stream",
     "text": [
      "C:\\Users\\kefei\\Anaconda3\\lib\\site-packages\\sklearn\\metrics\\_classification.py:1272: UndefinedMetricWarning: Precision and F-score are ill-defined and being set to 0.0 in labels with no predicted samples. Use `zero_division` parameter to control this behavior.\n",
      "  _warn_prf(average, modifier, msg_start, len(result))\n"
     ]
    }
   ],
   "source": [
    "#Import scikit-learn metrics module for accuracy calculation\n",
    "# from sklearn import metrics\n",
    "from sklearn.metrics import classification_report, confusion_matrix, accuracy_score\n",
    "\n",
    "y_pred=rfc.predict(X_test_pca)\n",
    "\n",
    "print('classification_report')\n",
    "print(classification_report(y_test,y_pred))\n",
    "print('----------------------------')\n",
    "print('accuracy_score')\n",
    "print(accuracy_score(y_test, y_pred))"
   ]
  },
  {
   "cell_type": "code",
   "execution_count": 62,
   "metadata": {},
   "outputs": [
    {
     "data": {
      "text/plain": [
       "<matplotlib.collections.LineCollection at 0x23d8fb5de48>"
      ]
     },
     "execution_count": 62,
     "metadata": {},
     "output_type": "execute_result"
    },
    {
     "data": {
      "image/png": "[encoded data removed]",
      "text/plain": [
       "<Figure size 432x288 with 2 Axes>"
      ]
     },
     "metadata": {},
     "output_type": "display_data"
    }
   ],
   "source": [
    "cf_matrix = confusion_matrix(y_test,y_pred, labels=y_test.unique())\n",
    "X_axis_labels = y_test.unique()\n",
    "Y_axis_labels = y_test.unique()\n",
    "ax = sns.heatmap(cf_matrix, xticklabels=X_axis_labels, yticklabels=Y_axis_labels, annot=True, fmt=\"d\", cmap=\"YlGnBu\",square=True)\n",
    "plt.xlabel(\"Predicted\")\n",
    "plt.ylabel(\"True\")\n",
    "ax.hlines(np.arange(1,7), *ax.get_xlim())\n",
    "ax.vlines(np.arange(1,7), *ax.get_ylim())"
   ]
  },
  {
   "cell_type": "markdown",
   "metadata": {},
   "source": [
    "# Write-up\n",
    "Do the write-up analysis and conclusions, make sure that you include time execution for the models."
   ]
  },
  {
   "cell_type": "markdown",
   "metadata": {},
   "source": [
    "In this challenge, the task is a classification problem. We are working on the loan payment dataset, which has 100+ featues with both continous and categorical data. The dataset has 400,000+ records. The target is to predict loan payment status, i.e. \"current\", \"fully Paid\", \"Charged Off\" using historical data.\n",
    "The goal of this challenge is to get familar with the machine learning procedure. We went through the whole process from data loading to model prep to model evaluation. \n",
    "Besides getting familiar with the procedure we also compare different popular approaches and models for supervised learning. The focus here is the comparison on:\n",
    "- feature engineering, i.e. SelectKBest method, PCA methods\n",
    "- hyper parameter specification, using grid search cross validation method/random search method\n",
    "- decision tree model vs. random forest model.\n",
    "\n",
    "### feature engineering sumary\n",
    "- SelectKbest method has more straightforward workflow and higher accuracy (test on random forest model with default hyper-parameter using cross validation). \n",
    "- The burden for PCA is data preparation, i.e. only work well on continous-type data, need to standarized, need to handel high collinear feature pairs.\n",
    "- I recommend using KselectBest for tree-type model data preparation, due to its simplacity and high-accuracy.\n",
    "- For the future work of this part, I would like to work on the feature reduction algorithm. Note that, in this challenge, I manually set k=50 for the best feature threshold. I am thinking mimicing PCA variance, and find the \"knee point\" to determine the K best number.\n",
    "\n",
    "### model comparison: decision tree vs. random forest\n",
    "- The comparison is performed using same training data and evaluate on the same test data.\n",
    "- In general, random forest model has better performanced over decision tree in accuracy, but in the cost of computation time, especially when the training/test data is large and/or the number of cross validation folder is large. Also, random forest is less likely to overfit.\n",
    "- I recommed use random forest model over decision tree, especially when accuracy and avoiding overfitting is the priority. After all, time-efficiency is not decision tree strong end either. If time is really a concern, we might sort to other method.\n",
    "\n",
    "### hyper parameter specification\n",
    "- In the challenge, I performed random search cross validation and grid search scross validation.\n",
    "- In my opinion, the puprose of grid search cv is not only finding the \"best\" hyper-parameters but also a way to evaluate the model with more cross validation cases. So that we can bestly avoid overfitting.\n",
    "- When choosing the \"best\" hyper parameter, I consider both the accuracy and time-efficiency performance. \n",
    "- For future work in this part, I am considering more resonable way to evaluate accuracy-time ratio."
   ]
  },
  {
   "cell_type": "code",
   "execution_count": null,
   "metadata": {},
   "outputs": [],
   "source": []
  }
 ],
 "metadata": {
  "hide_input": false,
  "kernelspec": {
   "display_name": "Python 3",
   "language": "python",
   "name": "python3"
  },
  "language_info": {
   "codemirror_mode": {
    "name": "ipython",
    "version": 3
   },
   "file_extension": ".py",
   "mimetype": "text/x-python",
   "name": "python",
   "nbconvert_exporter": "python",
   "pygments_lexer": "ipython3",
   "version": "3.7.4"
  },
  "toc": {
   "colors": {
    "hover_highlight": "#DAA520",
    "running_highlight": "#FF0000",
    "selected_highlight": "#FFD700"
   },
   "moveMenuLeft": true,
   "nav_menu": {
    "height": "86px",
    "width": "252px"
   },
   "navigate_menu": true,
   "number_sections": true,
   "sideBar": true,
   "threshold": 4,
   "toc_cell": false,
   "toc_section_display": "block",
   "toc_window_display": false
  },
  "varInspector": {
   "cols": {
    "lenName": 16,
    "lenType": 16,
    "lenVar": 40
   },
   "kernels_config": {
    "python": {
     "delete_cmd_postfix": "",
     "delete_cmd_prefix": "del ",
     "library": "var_list.py",
     "varRefreshCmd": "print(var_dic_list())"
    },
    "r": {
     "delete_cmd_postfix": ") ",
     "delete_cmd_prefix": "rm(",
     "library": "var_list.r",
     "varRefreshCmd": "cat(var_dic_list()) "
    }
   },
   "position": {
    "height": "423.4px",
    "left": "1184px",
    "right": "20px",
    "top": "120px",
    "width": "350px"
   },
   "types_to_exclude": [
    "module",
    "function",
    "builtin_function_or_method",
    "instance",
    "_Feature"
   ],
   "window_display": false
  }
 },
 "nbformat": 4,
 "nbformat_minor": 2
}
