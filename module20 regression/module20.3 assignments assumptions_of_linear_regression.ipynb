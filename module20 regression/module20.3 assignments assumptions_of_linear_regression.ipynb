{
 "cells": [
  {
   "cell_type": "markdown",
   "metadata": {},
   "source": [
    "## Assignments\n",
    "\n",
    "To close out this checkpoint, you'll do two assignments. Both require you to create Jupyter notebooks. Please submit links to your notebooks below\n",
    "\n",
    "### 1. Predicting temperature\n",
    "\n",
    "In this exercise, you'll work with historical temperature data from the Szeged, Hungary area. The dataset you'll use is a Postgres database version of [this dataset from Kaggle](https://www.kaggle.com/budincsevity/szeged-weather). To complete this assignment, submit a Jupyter notebook containing your solutions to the following tasks:\n",
    "\n",
    "* First, load the dataset from the **weatherinszeged** table from Thinkful's database.\n",
    "* Build a regression model where the target variable is *temperature*. As explanatory variables, use *humidity*, *windspeed*, *windbearing*, and *pressure*. Estimate the model using OLS.\n",
    "* Now, check if your model meets the Gauss-Markov Conditions above. If some of the assumptions are not met, discuss the implications of the violations for the correctness of your model.\n",
    "\n",
    "Here are the credentials you can use to connect to the database:\n",
    "\n",
    "```\n",
    "postgres_user = 'dsbc_student'\n",
    "postgres_pw = '7*.8G9QH21'\n",
    "postgres_host = '142.93.121.174'\n",
    "postgres_port = '5432'\n",
    "postgres_db = 'weatherinszeged'\n",
    "```\n",
    "\n",
    "As in earlier assignments, be sure to close the database connection after initially pulling in your data."
   ]
  },
  {
   "cell_type": "code",
   "execution_count": 10,
   "metadata": {
    "scrolled": true
   },
   "outputs": [
    {
     "data": {
      "text/html": [
       "<div>\n",
       "<style scoped>\n",
       "    .dataframe tbody tr th:only-of-type {\n",
       "        vertical-align: middle;\n",
       "    }\n",
       "\n",
       "    .dataframe tbody tr th {\n",
       "        vertical-align: top;\n",
       "    }\n",
       "\n",
       "    .dataframe thead th {\n",
       "        text-align: right;\n",
       "    }\n",
       "</style>\n",
       "<table border=\"1\" class=\"dataframe\">\n",
       "  <thead>\n",
       "    <tr style=\"text-align: right;\">\n",
       "      <th></th>\n",
       "      <th>date</th>\n",
       "      <th>summary</th>\n",
       "      <th>preciptype</th>\n",
       "      <th>temperature</th>\n",
       "      <th>apparenttemperature</th>\n",
       "      <th>humidity</th>\n",
       "      <th>windspeed</th>\n",
       "      <th>windbearing</th>\n",
       "      <th>visibility</th>\n",
       "      <th>loudcover</th>\n",
       "      <th>pressure</th>\n",
       "      <th>dailysummary</th>\n",
       "    </tr>\n",
       "  </thead>\n",
       "  <tbody>\n",
       "    <tr>\n",
       "      <th>0</th>\n",
       "      <td>2006-03-31 22:00:00+00:00</td>\n",
       "      <td>Partly Cloudy</td>\n",
       "      <td>rain</td>\n",
       "      <td>9.47</td>\n",
       "      <td>7.39</td>\n",
       "      <td>0.89</td>\n",
       "      <td>14.12</td>\n",
       "      <td>251.00</td>\n",
       "      <td>15.83</td>\n",
       "      <td>0.00</td>\n",
       "      <td>1015.13</td>\n",
       "      <td>Partly cloudy throughout the day.</td>\n",
       "    </tr>\n",
       "    <tr>\n",
       "      <th>1</th>\n",
       "      <td>2006-03-31 23:00:00+00:00</td>\n",
       "      <td>Partly Cloudy</td>\n",
       "      <td>rain</td>\n",
       "      <td>9.36</td>\n",
       "      <td>7.23</td>\n",
       "      <td>0.86</td>\n",
       "      <td>14.26</td>\n",
       "      <td>259.00</td>\n",
       "      <td>15.83</td>\n",
       "      <td>0.00</td>\n",
       "      <td>1015.63</td>\n",
       "      <td>Partly cloudy throughout the day.</td>\n",
       "    </tr>\n",
       "    <tr>\n",
       "      <th>2</th>\n",
       "      <td>2006-04-01 00:00:00+00:00</td>\n",
       "      <td>Mostly Cloudy</td>\n",
       "      <td>rain</td>\n",
       "      <td>9.38</td>\n",
       "      <td>9.38</td>\n",
       "      <td>0.89</td>\n",
       "      <td>3.93</td>\n",
       "      <td>204.00</td>\n",
       "      <td>14.96</td>\n",
       "      <td>0.00</td>\n",
       "      <td>1015.94</td>\n",
       "      <td>Partly cloudy throughout the day.</td>\n",
       "    </tr>\n",
       "    <tr>\n",
       "      <th>3</th>\n",
       "      <td>2006-04-01 01:00:00+00:00</td>\n",
       "      <td>Partly Cloudy</td>\n",
       "      <td>rain</td>\n",
       "      <td>8.29</td>\n",
       "      <td>5.94</td>\n",
       "      <td>0.83</td>\n",
       "      <td>14.10</td>\n",
       "      <td>269.00</td>\n",
       "      <td>15.83</td>\n",
       "      <td>0.00</td>\n",
       "      <td>1016.41</td>\n",
       "      <td>Partly cloudy throughout the day.</td>\n",
       "    </tr>\n",
       "    <tr>\n",
       "      <th>4</th>\n",
       "      <td>2006-04-01 02:00:00+00:00</td>\n",
       "      <td>Mostly Cloudy</td>\n",
       "      <td>rain</td>\n",
       "      <td>8.76</td>\n",
       "      <td>6.98</td>\n",
       "      <td>0.83</td>\n",
       "      <td>11.04</td>\n",
       "      <td>259.00</td>\n",
       "      <td>15.83</td>\n",
       "      <td>0.00</td>\n",
       "      <td>1016.51</td>\n",
       "      <td>Partly cloudy throughout the day.</td>\n",
       "    </tr>\n",
       "    <tr>\n",
       "      <th>5</th>\n",
       "      <td>2006-04-01 03:00:00+00:00</td>\n",
       "      <td>Partly Cloudy</td>\n",
       "      <td>rain</td>\n",
       "      <td>9.22</td>\n",
       "      <td>7.11</td>\n",
       "      <td>0.85</td>\n",
       "      <td>13.96</td>\n",
       "      <td>258.00</td>\n",
       "      <td>14.96</td>\n",
       "      <td>0.00</td>\n",
       "      <td>1016.66</td>\n",
       "      <td>Partly cloudy throughout the day.</td>\n",
       "    </tr>\n",
       "    <tr>\n",
       "      <th>6</th>\n",
       "      <td>2006-04-01 04:00:00+00:00</td>\n",
       "      <td>Partly Cloudy</td>\n",
       "      <td>rain</td>\n",
       "      <td>7.73</td>\n",
       "      <td>5.52</td>\n",
       "      <td>0.95</td>\n",
       "      <td>12.36</td>\n",
       "      <td>259.00</td>\n",
       "      <td>9.98</td>\n",
       "      <td>0.00</td>\n",
       "      <td>1016.72</td>\n",
       "      <td>Partly cloudy throughout the day.</td>\n",
       "    </tr>\n",
       "    <tr>\n",
       "      <th>7</th>\n",
       "      <td>2006-04-01 05:00:00+00:00</td>\n",
       "      <td>Partly Cloudy</td>\n",
       "      <td>rain</td>\n",
       "      <td>8.77</td>\n",
       "      <td>6.53</td>\n",
       "      <td>0.89</td>\n",
       "      <td>14.15</td>\n",
       "      <td>260.00</td>\n",
       "      <td>9.98</td>\n",
       "      <td>0.00</td>\n",
       "      <td>1016.84</td>\n",
       "      <td>Partly cloudy throughout the day.</td>\n",
       "    </tr>\n",
       "    <tr>\n",
       "      <th>8</th>\n",
       "      <td>2006-04-01 06:00:00+00:00</td>\n",
       "      <td>Partly Cloudy</td>\n",
       "      <td>rain</td>\n",
       "      <td>10.82</td>\n",
       "      <td>10.82</td>\n",
       "      <td>0.82</td>\n",
       "      <td>11.32</td>\n",
       "      <td>259.00</td>\n",
       "      <td>9.98</td>\n",
       "      <td>0.00</td>\n",
       "      <td>1017.37</td>\n",
       "      <td>Partly cloudy throughout the day.</td>\n",
       "    </tr>\n",
       "    <tr>\n",
       "      <th>9</th>\n",
       "      <td>2006-04-01 07:00:00+00:00</td>\n",
       "      <td>Partly Cloudy</td>\n",
       "      <td>rain</td>\n",
       "      <td>13.77</td>\n",
       "      <td>13.77</td>\n",
       "      <td>0.72</td>\n",
       "      <td>12.53</td>\n",
       "      <td>279.00</td>\n",
       "      <td>9.98</td>\n",
       "      <td>0.00</td>\n",
       "      <td>1017.22</td>\n",
       "      <td>Partly cloudy throughout the day.</td>\n",
       "    </tr>\n",
       "  </tbody>\n",
       "</table>\n",
       "</div>"
      ],
      "text/plain": [
       "                       date        summary preciptype  temperature  \\\n",
       "0 2006-03-31 22:00:00+00:00  Partly Cloudy       rain         9.47   \n",
       "1 2006-03-31 23:00:00+00:00  Partly Cloudy       rain         9.36   \n",
       "2 2006-04-01 00:00:00+00:00  Mostly Cloudy       rain         9.38   \n",
       "3 2006-04-01 01:00:00+00:00  Partly Cloudy       rain         8.29   \n",
       "4 2006-04-01 02:00:00+00:00  Mostly Cloudy       rain         8.76   \n",
       "5 2006-04-01 03:00:00+00:00  Partly Cloudy       rain         9.22   \n",
       "6 2006-04-01 04:00:00+00:00  Partly Cloudy       rain         7.73   \n",
       "7 2006-04-01 05:00:00+00:00  Partly Cloudy       rain         8.77   \n",
       "8 2006-04-01 06:00:00+00:00  Partly Cloudy       rain        10.82   \n",
       "9 2006-04-01 07:00:00+00:00  Partly Cloudy       rain        13.77   \n",
       "\n",
       "   apparenttemperature  humidity  windspeed  windbearing  visibility  \\\n",
       "0                 7.39      0.89      14.12       251.00       15.83   \n",
       "1                 7.23      0.86      14.26       259.00       15.83   \n",
       "2                 9.38      0.89       3.93       204.00       14.96   \n",
       "3                 5.94      0.83      14.10       269.00       15.83   \n",
       "4                 6.98      0.83      11.04       259.00       15.83   \n",
       "5                 7.11      0.85      13.96       258.00       14.96   \n",
       "6                 5.52      0.95      12.36       259.00        9.98   \n",
       "7                 6.53      0.89      14.15       260.00        9.98   \n",
       "8                10.82      0.82      11.32       259.00        9.98   \n",
       "9                13.77      0.72      12.53       279.00        9.98   \n",
       "\n",
       "   loudcover  pressure                       dailysummary  \n",
       "0       0.00   1015.13  Partly cloudy throughout the day.  \n",
       "1       0.00   1015.63  Partly cloudy throughout the day.  \n",
       "2       0.00   1015.94  Partly cloudy throughout the day.  \n",
       "3       0.00   1016.41  Partly cloudy throughout the day.  \n",
       "4       0.00   1016.51  Partly cloudy throughout the day.  \n",
       "5       0.00   1016.66  Partly cloudy throughout the day.  \n",
       "6       0.00   1016.72  Partly cloudy throughout the day.  \n",
       "7       0.00   1016.84  Partly cloudy throughout the day.  \n",
       "8       0.00   1017.37  Partly cloudy throughout the day.  \n",
       "9       0.00   1017.22  Partly cloudy throughout the day.  "
      ]
     },
     "execution_count": 10,
     "metadata": {},
     "output_type": "execute_result"
    }
   ],
   "source": [
    "import matplotlib.pyplot as plt\n",
    "import numpy as np\n",
    "import pandas as pd\n",
    "from sklearn import linear_model\n",
    "import statsmodels.formula.api as smf\n",
    "from sqlalchemy import create_engine\n",
    "import seaborn as sns\n",
    "\n",
    "# Display preferences.\n",
    "%matplotlib inline\n",
    "pd.options.display.float_format = '{:.2f}'.format\n",
    "\n",
    "import warnings\n",
    "warnings.filterwarnings(action=\"ignore\")\n",
    "\n",
    "postgres_user = 'dsbc_student'\n",
    "postgres_pw = '7*.8G9QH21'\n",
    "postgres_host = '142.93.121.174'\n",
    "postgres_port = '5432'\n",
    "postgres_db = 'weatherinszeged'\n",
    "\n",
    "engine = create_engine('postgresql://{}:{}@{}:{}/{}'.format(\n",
    "    postgres_user, postgres_pw, postgres_host, postgres_port, postgres_db))\n",
    "\n",
    "df = pd.read_sql_query('select * from weatherinszeged',con=engine)\n",
    "\n",
    "# no need for an open connection, as we're only doing a single query\n",
    "engine.dispose()\n",
    "\n",
    "df.head(10)"
   ]
  },
  {
   "cell_type": "markdown",
   "metadata": {},
   "source": [
    "* Build a regression model where the target variable is *temperature*. As explanatory variables, use *humidity*, *windspeed*, *windbearing*, and *pressure*. Estimate the model using OLS."
   ]
  },
  {
   "cell_type": "code",
   "execution_count": 3,
   "metadata": {},
   "outputs": [
    {
     "name": "stdout",
     "output_type": "stream",
     "text": [
      "\n",
      "Coefficients: \n",
      " [-3.24962454e+01 -2.01413742e-01  4.04836936e-03 -6.91759209e-04]\n",
      "\n",
      "Intercept: \n",
      " 37.926438185285406\n"
     ]
    }
   ],
   "source": [
    "# use scikit-learn\n",
    "\n",
    "# Y is the target variable\n",
    "Y = df['temperature']\n",
    "# X is the feature set which includes\n",
    "# is_male and is_smoker variables\n",
    "X = df[['humidity','windspeed', 'windbearing', 'pressure']]\n",
    "\n",
    "# We create a LinearRegression model object\n",
    "# from scikit-learn's linear_model module.\n",
    "lrm = linear_model.LinearRegression()\n",
    "\n",
    "# fit method estimates the coefficients using OLS\n",
    "lrm.fit(X, Y)\n",
    "\n",
    "# Inspect the results.\n",
    "print('\\nCoefficients: \\n', lrm.coef_)\n",
    "print('\\nIntercept: \\n', lrm.intercept_)"
   ]
  },
  {
   "cell_type": "markdown",
   "metadata": {},
   "source": [
    "* Now, check if your model meets the Gauss-Markov Conditions above. If some of the assumptions are not met, discuss the implications of the violations for the correctness of your model."
   ]
  },
  {
   "cell_type": "code",
   "execution_count": null,
   "metadata": {},
   "outputs": [],
   "source": []
  },
  {
   "cell_type": "code",
   "execution_count": 2,
   "metadata": {},
   "outputs": [
    {
     "name": "stdout",
     "output_type": "stream",
     "text": [
      "<class 'pandas.core.frame.DataFrame'>\n",
      "RangeIndex: 96453 entries, 0 to 96452\n",
      "Data columns (total 12 columns):\n",
      " #   Column               Non-Null Count  Dtype              \n",
      "---  ------               --------------  -----              \n",
      " 0   date                 96453 non-null  datetime64[ns, UTC]\n",
      " 1   summary              96453 non-null  object             \n",
      " 2   preciptype           96453 non-null  object             \n",
      " 3   temperature          96453 non-null  float64            \n",
      " 4   apparenttemperature  96453 non-null  float64            \n",
      " 5   humidity             96453 non-null  float64            \n",
      " 6   windspeed            96453 non-null  float64            \n",
      " 7   windbearing          96453 non-null  float64            \n",
      " 8   visibility           96453 non-null  float64            \n",
      " 9   loudcover            96453 non-null  float64            \n",
      " 10  pressure             96453 non-null  float64            \n",
      " 11  dailysummary         96453 non-null  object             \n",
      "dtypes: datetime64[ns, UTC](1), float64(8), object(3)\n",
      "memory usage: 8.8+ MB\n"
     ]
    }
   ],
   "source": [
    "df.info()"
   ]
  },
  {
   "cell_type": "markdown",
   "metadata": {},
   "source": [
    "## Assumption one: linearity of the model in its coefficients\n",
    "\n"
   ]
  },
  {
   "cell_type": "markdown",
   "metadata": {},
   "source": [
    "In principle, this assumption is not related to estimation but to how we specify our model. So as long as we use models that take into account this linearity assumption as we did in our medical costs example, then we shouldn't worry about this assumption at all."
   ]
  },
  {
   "cell_type": "markdown",
   "metadata": {},
   "source": [
    "## Assumption two: the error term should be zero on average\n"
   ]
  },
  {
   "cell_type": "code",
   "execution_count": 5,
   "metadata": {},
   "outputs": [
    {
     "name": "stdout",
     "output_type": "stream",
     "text": [
      "Mean of the errors in the medical costs model is: -1.697293462299017e-16\n"
     ]
    }
   ],
   "source": [
    "predictions = lrm.predict(X)\n",
    "errors = Y - predictions\n",
    "\n",
    "print(\"Mean of the errors in the medical costs model is: {}\".format(np.mean(errors)))"
   ]
  },
  {
   "cell_type": "markdown",
   "metadata": {},
   "source": [
    "Since, we include the constant term in the model, the average of the model's error is effectively zero."
   ]
  },
  {
   "cell_type": "markdown",
   "metadata": {},
   "source": [
    "## Assumption three: homoscedasticity\n",
    "\n",
    "method 1. visulization.\n",
    "\n",
    "Let's checkout whether our medical costs model suffers from heteroscedasticity by visualizing it:"
   ]
  },
  {
   "cell_type": "code",
   "execution_count": 6,
   "metadata": {},
   "outputs": [
    {
     "data": {
      "image/png": "[encoded data removed]",
      "text/plain": [
       "<Figure size 432x288 with 1 Axes>"
      ]
     },
     "metadata": {
      "needs_background": "light"
     },
     "output_type": "display_data"
    }
   ],
   "source": [
    "plt.scatter(predictions, errors)\n",
    "plt.xlabel('Predicted')\n",
    "plt.ylabel('Residual')\n",
    "plt.axhline(y=0)\n",
    "plt.title('Residual vs. Predicted')\n",
    "plt.show()"
   ]
  },
  {
   "cell_type": "markdown",
   "metadata": {},
   "source": [
    "It seems that error variance is consistent for most of the part, except that it is higher for the higher values of the target variable. This implies that our error terms are mostly homoscedastic. But better check with other methods as well.\n",
    "\n",
    "Besiede, visulization. We can use statsitial method to check homoscedasitcity. Here we demonstrate two of them: **Bartlett** and **Levene** tests. The null hypothesis for both tests is that the errors are homoscedastic. Both tests can be imported from scipy's stats module."
   ]
  },
  {
   "cell_type": "code",
   "execution_count": 8,
   "metadata": {
    "scrolled": false
   },
   "outputs": [
    {
     "name": "stdout",
     "output_type": "stream",
     "text": [
      "Bartlett test statistic value is 2464.84 and p value is 0\n",
      "Levene test statistic value is 2321.24 and p value is 0\n"
     ]
    }
   ],
   "source": [
    "from scipy.stats import bartlett\n",
    "from scipy.stats import levene\n",
    "\n",
    "bart_stats = bartlett(predictions, errors)\n",
    "lev_stats = levene(predictions, errors)\n",
    "\n",
    "print(\"Bartlett test statistic value is {0:3g} and p value is {1:.3g}\".format(bart_stats[0], bart_stats[1]))\n",
    "print(\"Levene test statistic value is {0:3g} and p value is {1:.3g}\".format(lev_stats[0], lev_stats[1]))"
   ]
  },
  {
   "cell_type": "markdown",
   "metadata": {},
   "source": [
    "The p-values of both tests are lower than 0.05. So, the test results reject the null hypothesis which means our errors are heteroscedastic.\n",
    "\n",
    "### discussion\n",
    "\n",
    "There may be several causes of heteroscedasticity. Examples include outliers in the data and omitted variables that are important in explaining the variance of the target variable. Dealing with outliers and including relevant variables help to fix the heteroscedasticity problem. Some fixes to heteroscedasticity include transforming the dependent variable (see [Box Cox transformation](https://www.statisticshowto.datasciencecentral.com/box-cox-transformation/) and [log transformation](https://www.ncbi.nlm.nih.gov/pmc/articles/PMC4120293/)) and adding features that target the poorly-estimated areas. \n"
   ]
  },
  {
   "cell_type": "markdown",
   "metadata": {},
   "source": [
    "## Assumption four: low multicollinearity\n",
    "\n",
    "we care about the absolute value of correalation coefficients, and it is easier to visulize from the heat map.\n",
    "\n",
    "also, since we don't have categorical variables as features. The continous variables are the only thing we need to concern"
   ]
  },
  {
   "cell_type": "code",
   "execution_count": 12,
   "metadata": {},
   "outputs": [
    {
     "data": {
      "image/png": "[encoded data removed]",
      "text/plain": [
       "<Figure size 576x576 with 2 Axes>"
      ]
     },
     "metadata": {
      "needs_background": "light"
     },
     "output_type": "display_data"
    }
   ],
   "source": [
    "corr_matrix = np.abs(X.corr())\n",
    "plt.figure(figsize=(8,8))\n",
    "sns.heatmap(corr_matrix, square=True, annot=True, linewidths=.5)\n",
    "plt.show()"
   ]
  },
  {
   "cell_type": "markdown",
   "metadata": {},
   "source": [
    "It seems like the non-colinearity assumption met"
   ]
  },
  {
   "cell_type": "markdown",
   "metadata": {},
   "source": [
    "## Assumption five: error terms should be uncorrelated with one another\n",
    "\n",
    "Error terms should be uncorrelated with one another. In other words, the error term for one observation shouldn't predict the error term for another. This type of serial correlation may happen if we omit a relevant variable from the model. So, including that variable into the model can solve for this issue. \n",
    "\n",
    "To identify whether the error terms are correlated with each other or not, we can graph them. In the graph, we need to observe randomness.\n",
    "\n",
    "Let's check our medical costs model's errors:"
   ]
  },
  {
   "cell_type": "code",
   "execution_count": 13,
   "metadata": {
    "scrolled": true
   },
   "outputs": [
    {
     "data": {
      "image/png": "[encoded data removed]",
      "text/plain": [
       "<Figure size 432x288 with 1 Axes>"
      ]
     },
     "metadata": {
      "needs_background": "light"
     },
     "output_type": "display_data"
    }
   ],
   "source": [
    "plt.plot(errors)\n",
    "plt.show()"
   ]
  },
  {
   "cell_type": "markdown",
   "metadata": {},
   "source": [
    "I am not very good at reading the serial correlation plot, so let's try another way.\n",
    "\n",
    "Another way to look at correlations between errors is to use the **autocorrelation function**. This function computes the correlation of a variable with itself. "
   ]
  },
  {
   "cell_type": "code",
   "execution_count": 14,
   "metadata": {},
   "outputs": [
    {
     "data": {
      "image/png": "[encoded data removed]",
      "text/plain": [
       "<Figure size 432x288 with 1 Axes>"
      ]
     },
     "metadata": {
      "needs_background": "light"
     },
     "output_type": "display_data"
    }
   ],
   "source": [
    "from statsmodels.tsa.stattools import acf\n",
    "\n",
    "acf_data = acf(errors)\n",
    "\n",
    "plt.plot(acf_data[1:])\n",
    "plt.show()"
   ]
  },
  {
   "cell_type": "markdown",
   "metadata": {},
   "source": [
    "So, the autocorrelation between the errors of our medical costs model is somewhat high(ranging between 0.65 and 0.98)."
   ]
  },
  {
   "cell_type": "markdown",
   "metadata": {},
   "source": [
    "## Assumption six: features shouldn't be correlated with the errors\n",
    "\n",
    "we can check the correlation coefficient between features and error and visulaizae that with heat map (just focus on the first column (or first row)."
   ]
  },
  {
   "cell_type": "code",
   "execution_count": 20,
   "metadata": {},
   "outputs": [
    {
     "data": {
      "image/png": "[encoded data removed]",
      "text/plain": [
       "<Figure size 576x576 with 2 Axes>"
      ]
     },
     "metadata": {
      "needs_background": "light"
     },
     "output_type": "display_data"
    }
   ],
   "source": [
    "df_error_corr = pd.concat([errors, X], axis=1)\n",
    "\n",
    "corr_matrix_error = np.abs(df_error_corr.corr())\n",
    "plt.figure(figsize=(8,8))\n",
    "sns.heatmap(corr_matrix_error, square=True, annot=True, linewidths=.5)\n",
    "plt.show()\n",
    "\n",
    "# df_encoded"
   ]
  },
  {
   "cell_type": "markdown",
   "metadata": {},
   "source": [
    "It seems that this assumption met, since the correlation coefficient is very low. "
   ]
  },
  {
   "cell_type": "markdown",
   "metadata": {},
   "source": [
    "## <font color=red>A very important remark on the normality of the errors</font>\n",
    "\n",
    "There are various ways to check for normality of error terms. An informal way of doing this is by visualizing the errors in a QQ plot or to look at the histogram:"
   ]
  },
  {
   "cell_type": "code",
   "execution_count": 21,
   "metadata": {
    "scrolled": true
   },
   "outputs": [
    {
     "data": {
      "image/png": "[encoded data removed]",
      "text/plain": [
       "<Figure size 864x360 with 2 Axes>"
      ]
     },
     "metadata": {
      "needs_background": "light"
     },
     "output_type": "display_data"
    }
   ],
   "source": [
    "rand_nums = np.random.normal(np.mean(errors), np.std(errors), len(errors))\n",
    "\n",
    "plt.figure(figsize=(12,5))\n",
    "\n",
    "plt.subplot(1,2,1)\n",
    "plt.scatter(np.sort(rand_nums), np.sort(errors)) # we sort the arrays\n",
    "plt.xlabel(\"the normally distributed random variable\")\n",
    "plt.ylabel(\"errors of the model\")\n",
    "plt.title(\"QQ plot\")\n",
    "\n",
    "plt.subplot(1,2,2)\n",
    "plt.hist(errors)\n",
    "plt.xlabel(\"errors\")\n",
    "plt.title(\"Histogram of the errors\")\n",
    "\n",
    "plt.tight_layout()\n",
    "plt.show()"
   ]
  },
  {
   "cell_type": "markdown",
   "metadata": {},
   "source": [
    "While visualizations give us a first impression about normality, the best way to learn about this is to apply formal statistical tests. To this end, we use two of them from scipy's stats module: **Jarque Bera** and **normal** tests. The null hypothesis of both tests is that the errors are normally distributed.\n",
    "\n",
    "Let's use these tests to find out whether our error terms are normally distributed or not:"
   ]
  },
  {
   "cell_type": "code",
   "execution_count": 22,
   "metadata": {},
   "outputs": [],
   "source": [
    "from scipy.stats import jarque_bera\n",
    "from scipy.stats import normaltest"
   ]
  },
  {
   "cell_type": "code",
   "execution_count": 23,
   "metadata": {},
   "outputs": [
    {
     "name": "stdout",
     "output_type": "stream",
     "text": [
      "Jarque-Bera test statistics is 3793.296735252367 and p value is 0.0\n",
      "Normality test statistics is 3375.432307699584 and p value is 0.0\n"
     ]
    }
   ],
   "source": [
    "jb_stats = jarque_bera(errors)\n",
    "norm_stats = normaltest(errors)\n",
    "\n",
    "print(\"Jarque-Bera test statistics is {0} and p value is {1}\".format(jb_stats[0], jb_stats[1]))\n",
    "print(\"Normality test statistics is {0} and p value is {1}\".format(norm_stats[0], norm_stats[1]))"
   ]
  },
  {
   "cell_type": "markdown",
   "metadata": {},
   "source": [
    "The p-values of both tests indicate that our errors are not normally distributed."
   ]
  },
  {
   "cell_type": "markdown",
   "metadata": {},
   "source": [
    "### 2. House prices\n",
    "\n",
    "* Load the **houseprices** data from Thinkful's database. \n",
    "* Reimplement the model you built in the previous checkpoint. \n",
    "* Check for all of the assumptions above and discuss the implications if some of the assumptions are not met.\n",
    "*  be sure to close the database connection after initially pulling in your data."
   ]
  },
  {
   "cell_type": "markdown",
   "metadata": {},
   "source": [
    "big question: how to check the assumption for categorical variables??? (the bootcamp material just illustrate on continous varialbes.)"
   ]
  }
 ],
 "metadata": {
  "kernelspec": {
   "display_name": "Python 3",
   "language": "python",
   "name": "python3"
  },
  "language_info": {
   "codemirror_mode": {
    "name": "ipython",
    "version": 3
   },
   "file_extension": ".py",
   "mimetype": "text/x-python",
   "name": "python",
   "nbconvert_exporter": "python",
   "pygments_lexer": "ipython3",
   "version": "3.7.4"
  },
  "latex_envs": {
   "LaTeX_envs_menu_present": true,
   "autoclose": false,
   "autocomplete": true,
   "bibliofile": "biblio.bib",
   "cite_by": "apalike",
   "current_citInitial": 1,
   "eqLabelWithNumbers": true,
   "eqNumInitial": 1,
   "hotkeys": {
    "equation": "Ctrl-E",
    "itemize": "Ctrl-I"
   },
   "labels_anchors": false,
   "latex_user_defs": false,
   "report_style_numbering": false,
   "user_envs_cfg": false
  },
  "varInspector": {
   "cols": {
    "lenName": 16,
    "lenType": 16,
    "lenVar": 40
   },
   "kernels_config": {
    "python": {
     "delete_cmd_postfix": "",
     "delete_cmd_prefix": "del ",
     "library": "var_list.py",
     "varRefreshCmd": "print(var_dic_list())"
    },
    "r": {
     "delete_cmd_postfix": ") ",
     "delete_cmd_prefix": "rm(",
     "library": "var_list.r",
     "varRefreshCmd": "cat(var_dic_list()) "
    }
   },
   "types_to_exclude": [
    "module",
    "function",
    "builtin_function_or_method",
    "instance",
    "_Feature"
   ],
   "window_display": false
  }
 },
 "nbformat": 4,
 "nbformat_minor": 2
}
